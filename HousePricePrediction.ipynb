{
  "cells": [
    {
      "cell_type": "code",
      "execution_count": null,
      "metadata": {
        "colab": {
          "base_uri": "https://localhost:8080/"
        },
        "id": "WSS7kj7O3bxs",
        "outputId": "96f0f9b4-7f56-484b-a2ca-d9cc3c21b5dd"
      },
      "outputs": [
        {
          "output_type": "stream",
          "name": "stdout",
          "text": [
            "Looking in indexes: https://pypi.org/simple, https://us-python.pkg.dev/colab-wheels/public/simple/\n",
            "Collecting catboost\n",
            "  Downloading catboost-1.0.6-cp37-none-manylinux1_x86_64.whl (76.6 MB)\n",
            "\u001b[K     |████████████████████████████████| 76.6 MB 69 kB/s \n",
            "\u001b[?25hRequirement already satisfied: plotly in /usr/local/lib/python3.7/dist-packages (from catboost) (5.5.0)\n",
            "Requirement already satisfied: scipy in /usr/local/lib/python3.7/dist-packages (from catboost) (1.4.1)\n",
            "Requirement already satisfied: numpy>=1.16.0 in /usr/local/lib/python3.7/dist-packages (from catboost) (1.21.6)\n",
            "Requirement already satisfied: six in /usr/local/lib/python3.7/dist-packages (from catboost) (1.15.0)\n",
            "Requirement already satisfied: graphviz in /usr/local/lib/python3.7/dist-packages (from catboost) (0.10.1)\n",
            "Requirement already satisfied: pandas>=0.24.0 in /usr/local/lib/python3.7/dist-packages (from catboost) (1.3.5)\n",
            "Requirement already satisfied: matplotlib in /usr/local/lib/python3.7/dist-packages (from catboost) (3.2.2)\n",
            "Requirement already satisfied: pytz>=2017.3 in /usr/local/lib/python3.7/dist-packages (from pandas>=0.24.0->catboost) (2022.1)\n",
            "Requirement already satisfied: python-dateutil>=2.7.3 in /usr/local/lib/python3.7/dist-packages (from pandas>=0.24.0->catboost) (2.8.2)\n",
            "Requirement already satisfied: pyparsing!=2.0.4,!=2.1.2,!=2.1.6,>=2.0.1 in /usr/local/lib/python3.7/dist-packages (from matplotlib->catboost) (3.0.9)\n",
            "Requirement already satisfied: cycler>=0.10 in /usr/local/lib/python3.7/dist-packages (from matplotlib->catboost) (0.11.0)\n",
            "Requirement already satisfied: kiwisolver>=1.0.1 in /usr/local/lib/python3.7/dist-packages (from matplotlib->catboost) (1.4.3)\n",
            "Requirement already satisfied: typing-extensions in /usr/local/lib/python3.7/dist-packages (from kiwisolver>=1.0.1->matplotlib->catboost) (4.1.1)\n",
            "Requirement already satisfied: tenacity>=6.2.0 in /usr/local/lib/python3.7/dist-packages (from plotly->catboost) (8.0.1)\n",
            "Installing collected packages: catboost\n",
            "Successfully installed catboost-1.0.6\n"
          ]
        }
      ],
      "source": [
        "!pip install catboost"
      ]
    },
    {
      "cell_type": "code",
      "execution_count": null,
      "metadata": {
        "id": "vgrgVY-mK8sx"
      },
      "outputs": [],
      "source": [
        "import numpy as np\n",
        "import pandas as pd\n",
        "pd.set_option('max_columns', 17)\n",
        "pd.set_option('max_rows', 90)\n",
        "import matplotlib.pyplot as plt\n",
        "import seaborn as sns\n",
        "sns.set_style('darkgrid')\n",
        "\n",
        "from sklearn.neighbors import KNeighborsRegressor\n",
        "import scipy.stats\n",
        "from sklearn.preprocessing import StandardScaler\n",
        "from sklearn.ensemble import RandomForestRegressor,  GradientBoostingRegressor\n",
        "from sklearn.model_selection import KFold, cross_val_score\n",
        "from catboost import CatBoostRegressor\n",
        "from sklearn.linear_model import Ridge\n",
        "from lightgbm import LGBMRegressor\n",
        "from sklearn.ensemble import GradientBoostingRegressor\n",
        "from xgboost import XGBRegressor\n",
        "import xgboost as xgb\n",
        "from sklearn import linear_model"
      ]
    },
    {
      "cell_type": "code",
      "execution_count": null,
      "metadata": {
        "id": "cyRCwC4wLIWi"
      },
      "outputs": [],
      "source": [
        "train0 = pd.read_csv('train.csv')\n",
        "test0 = pd.read_csv('test.csv')\n"
      ]
    },
    {
      "cell_type": "code",
      "execution_count": null,
      "metadata": {
        "id": "cGRMqvGRUBrt"
      },
      "outputs": [],
      "source": [
        "train0.info()"
      ]
    },
    {
      "cell_type": "code",
      "execution_count": null,
      "metadata": {
        "id": "RpFybN5kLRT_"
      },
      "outputs": [],
      "source": [
        "train0.head(18)"
      ]
    },
    {
      "cell_type": "markdown",
      "metadata": {
        "id": "KlS_leJeLWIc"
      },
      "source": [
        "**Combine Train and Test Sets**"
      ]
    },
    {
      "cell_type": "code",
      "execution_count": null,
      "metadata": {
        "colab": {
          "base_uri": "https://localhost:8080/",
          "height": 424
        },
        "id": "VCxFROZbLWh2",
        "outputId": "4d02b8e1-1055-4441-8eb0-263e3aca7643"
      },
      "outputs": [
        {
          "output_type": "execute_result",
          "data": {
            "text/plain": [
              "      MSSubClass MSZoning  LotFrontage  LotArea Street Alley LotShape  \\\n",
              "0             60       RL         65.0     8450   Pave   NaN      Reg   \n",
              "1             20       RL         80.0     9600   Pave   NaN      Reg   \n",
              "2             60       RL         68.0    11250   Pave   NaN      IR1   \n",
              "3             70       RL         60.0     9550   Pave   NaN      IR1   \n",
              "4             60       RL         84.0    14260   Pave   NaN      IR1   \n",
              "...          ...      ...          ...      ...    ...   ...      ...   \n",
              "2914         160       RM         21.0     1936   Pave   NaN      Reg   \n",
              "2915         160       RM         21.0     1894   Pave   NaN      Reg   \n",
              "2916          20       RL        160.0    20000   Pave   NaN      Reg   \n",
              "2917          85       RL         62.0    10441   Pave   NaN      Reg   \n",
              "2918          60       RL         74.0     9627   Pave   NaN      Reg   \n",
              "\n",
              "     LandContour  ... PoolQC  Fence MiscFeature MiscVal MoSold YrSold  \\\n",
              "0            Lvl  ...    NaN    NaN         NaN       0      2   2008   \n",
              "1            Lvl  ...    NaN    NaN         NaN       0      5   2007   \n",
              "2            Lvl  ...    NaN    NaN         NaN       0      9   2008   \n",
              "3            Lvl  ...    NaN    NaN         NaN       0      2   2006   \n",
              "4            Lvl  ...    NaN    NaN         NaN       0     12   2008   \n",
              "...          ...  ...    ...    ...         ...     ...    ...    ...   \n",
              "2914         Lvl  ...    NaN    NaN         NaN       0      6   2006   \n",
              "2915         Lvl  ...    NaN    NaN         NaN       0      4   2006   \n",
              "2916         Lvl  ...    NaN    NaN         NaN       0      9   2006   \n",
              "2917         Lvl  ...    NaN  MnPrv        Shed     700      7   2006   \n",
              "2918         Lvl  ...    NaN    NaN         NaN       0     11   2006   \n",
              "\n",
              "     SaleType SaleCondition  \n",
              "0          WD        Normal  \n",
              "1          WD        Normal  \n",
              "2          WD        Normal  \n",
              "3          WD       Abnorml  \n",
              "4          WD        Normal  \n",
              "...       ...           ...  \n",
              "2914       WD        Normal  \n",
              "2915       WD       Abnorml  \n",
              "2916       WD       Abnorml  \n",
              "2917       WD        Normal  \n",
              "2918       WD        Normal  \n",
              "\n",
              "[2919 rows x 79 columns]"
            ],
            "text/html": [
              "\n",
              "  <div id=\"df-0088ac0c-25c7-4fcb-9e53-ccc3fa8eb492\">\n",
              "    <div class=\"colab-df-container\">\n",
              "      <div>\n",
              "<style scoped>\n",
              "    .dataframe tbody tr th:only-of-type {\n",
              "        vertical-align: middle;\n",
              "    }\n",
              "\n",
              "    .dataframe tbody tr th {\n",
              "        vertical-align: top;\n",
              "    }\n",
              "\n",
              "    .dataframe thead th {\n",
              "        text-align: right;\n",
              "    }\n",
              "</style>\n",
              "<table border=\"1\" class=\"dataframe\">\n",
              "  <thead>\n",
              "    <tr style=\"text-align: right;\">\n",
              "      <th></th>\n",
              "      <th>MSSubClass</th>\n",
              "      <th>MSZoning</th>\n",
              "      <th>LotFrontage</th>\n",
              "      <th>LotArea</th>\n",
              "      <th>Street</th>\n",
              "      <th>Alley</th>\n",
              "      <th>LotShape</th>\n",
              "      <th>LandContour</th>\n",
              "      <th>...</th>\n",
              "      <th>PoolQC</th>\n",
              "      <th>Fence</th>\n",
              "      <th>MiscFeature</th>\n",
              "      <th>MiscVal</th>\n",
              "      <th>MoSold</th>\n",
              "      <th>YrSold</th>\n",
              "      <th>SaleType</th>\n",
              "      <th>SaleCondition</th>\n",
              "    </tr>\n",
              "  </thead>\n",
              "  <tbody>\n",
              "    <tr>\n",
              "      <th>0</th>\n",
              "      <td>60</td>\n",
              "      <td>RL</td>\n",
              "      <td>65.0</td>\n",
              "      <td>8450</td>\n",
              "      <td>Pave</td>\n",
              "      <td>NaN</td>\n",
              "      <td>Reg</td>\n",
              "      <td>Lvl</td>\n",
              "      <td>...</td>\n",
              "      <td>NaN</td>\n",
              "      <td>NaN</td>\n",
              "      <td>NaN</td>\n",
              "      <td>0</td>\n",
              "      <td>2</td>\n",
              "      <td>2008</td>\n",
              "      <td>WD</td>\n",
              "      <td>Normal</td>\n",
              "    </tr>\n",
              "    <tr>\n",
              "      <th>1</th>\n",
              "      <td>20</td>\n",
              "      <td>RL</td>\n",
              "      <td>80.0</td>\n",
              "      <td>9600</td>\n",
              "      <td>Pave</td>\n",
              "      <td>NaN</td>\n",
              "      <td>Reg</td>\n",
              "      <td>Lvl</td>\n",
              "      <td>...</td>\n",
              "      <td>NaN</td>\n",
              "      <td>NaN</td>\n",
              "      <td>NaN</td>\n",
              "      <td>0</td>\n",
              "      <td>5</td>\n",
              "      <td>2007</td>\n",
              "      <td>WD</td>\n",
              "      <td>Normal</td>\n",
              "    </tr>\n",
              "    <tr>\n",
              "      <th>2</th>\n",
              "      <td>60</td>\n",
              "      <td>RL</td>\n",
              "      <td>68.0</td>\n",
              "      <td>11250</td>\n",
              "      <td>Pave</td>\n",
              "      <td>NaN</td>\n",
              "      <td>IR1</td>\n",
              "      <td>Lvl</td>\n",
              "      <td>...</td>\n",
              "      <td>NaN</td>\n",
              "      <td>NaN</td>\n",
              "      <td>NaN</td>\n",
              "      <td>0</td>\n",
              "      <td>9</td>\n",
              "      <td>2008</td>\n",
              "      <td>WD</td>\n",
              "      <td>Normal</td>\n",
              "    </tr>\n",
              "    <tr>\n",
              "      <th>3</th>\n",
              "      <td>70</td>\n",
              "      <td>RL</td>\n",
              "      <td>60.0</td>\n",
              "      <td>9550</td>\n",
              "      <td>Pave</td>\n",
              "      <td>NaN</td>\n",
              "      <td>IR1</td>\n",
              "      <td>Lvl</td>\n",
              "      <td>...</td>\n",
              "      <td>NaN</td>\n",
              "      <td>NaN</td>\n",
              "      <td>NaN</td>\n",
              "      <td>0</td>\n",
              "      <td>2</td>\n",
              "      <td>2006</td>\n",
              "      <td>WD</td>\n",
              "      <td>Abnorml</td>\n",
              "    </tr>\n",
              "    <tr>\n",
              "      <th>4</th>\n",
              "      <td>60</td>\n",
              "      <td>RL</td>\n",
              "      <td>84.0</td>\n",
              "      <td>14260</td>\n",
              "      <td>Pave</td>\n",
              "      <td>NaN</td>\n",
              "      <td>IR1</td>\n",
              "      <td>Lvl</td>\n",
              "      <td>...</td>\n",
              "      <td>NaN</td>\n",
              "      <td>NaN</td>\n",
              "      <td>NaN</td>\n",
              "      <td>0</td>\n",
              "      <td>12</td>\n",
              "      <td>2008</td>\n",
              "      <td>WD</td>\n",
              "      <td>Normal</td>\n",
              "    </tr>\n",
              "    <tr>\n",
              "      <th>...</th>\n",
              "      <td>...</td>\n",
              "      <td>...</td>\n",
              "      <td>...</td>\n",
              "      <td>...</td>\n",
              "      <td>...</td>\n",
              "      <td>...</td>\n",
              "      <td>...</td>\n",
              "      <td>...</td>\n",
              "      <td>...</td>\n",
              "      <td>...</td>\n",
              "      <td>...</td>\n",
              "      <td>...</td>\n",
              "      <td>...</td>\n",
              "      <td>...</td>\n",
              "      <td>...</td>\n",
              "      <td>...</td>\n",
              "      <td>...</td>\n",
              "    </tr>\n",
              "    <tr>\n",
              "      <th>2914</th>\n",
              "      <td>160</td>\n",
              "      <td>RM</td>\n",
              "      <td>21.0</td>\n",
              "      <td>1936</td>\n",
              "      <td>Pave</td>\n",
              "      <td>NaN</td>\n",
              "      <td>Reg</td>\n",
              "      <td>Lvl</td>\n",
              "      <td>...</td>\n",
              "      <td>NaN</td>\n",
              "      <td>NaN</td>\n",
              "      <td>NaN</td>\n",
              "      <td>0</td>\n",
              "      <td>6</td>\n",
              "      <td>2006</td>\n",
              "      <td>WD</td>\n",
              "      <td>Normal</td>\n",
              "    </tr>\n",
              "    <tr>\n",
              "      <th>2915</th>\n",
              "      <td>160</td>\n",
              "      <td>RM</td>\n",
              "      <td>21.0</td>\n",
              "      <td>1894</td>\n",
              "      <td>Pave</td>\n",
              "      <td>NaN</td>\n",
              "      <td>Reg</td>\n",
              "      <td>Lvl</td>\n",
              "      <td>...</td>\n",
              "      <td>NaN</td>\n",
              "      <td>NaN</td>\n",
              "      <td>NaN</td>\n",
              "      <td>0</td>\n",
              "      <td>4</td>\n",
              "      <td>2006</td>\n",
              "      <td>WD</td>\n",
              "      <td>Abnorml</td>\n",
              "    </tr>\n",
              "    <tr>\n",
              "      <th>2916</th>\n",
              "      <td>20</td>\n",
              "      <td>RL</td>\n",
              "      <td>160.0</td>\n",
              "      <td>20000</td>\n",
              "      <td>Pave</td>\n",
              "      <td>NaN</td>\n",
              "      <td>Reg</td>\n",
              "      <td>Lvl</td>\n",
              "      <td>...</td>\n",
              "      <td>NaN</td>\n",
              "      <td>NaN</td>\n",
              "      <td>NaN</td>\n",
              "      <td>0</td>\n",
              "      <td>9</td>\n",
              "      <td>2006</td>\n",
              "      <td>WD</td>\n",
              "      <td>Abnorml</td>\n",
              "    </tr>\n",
              "    <tr>\n",
              "      <th>2917</th>\n",
              "      <td>85</td>\n",
              "      <td>RL</td>\n",
              "      <td>62.0</td>\n",
              "      <td>10441</td>\n",
              "      <td>Pave</td>\n",
              "      <td>NaN</td>\n",
              "      <td>Reg</td>\n",
              "      <td>Lvl</td>\n",
              "      <td>...</td>\n",
              "      <td>NaN</td>\n",
              "      <td>MnPrv</td>\n",
              "      <td>Shed</td>\n",
              "      <td>700</td>\n",
              "      <td>7</td>\n",
              "      <td>2006</td>\n",
              "      <td>WD</td>\n",
              "      <td>Normal</td>\n",
              "    </tr>\n",
              "    <tr>\n",
              "      <th>2918</th>\n",
              "      <td>60</td>\n",
              "      <td>RL</td>\n",
              "      <td>74.0</td>\n",
              "      <td>9627</td>\n",
              "      <td>Pave</td>\n",
              "      <td>NaN</td>\n",
              "      <td>Reg</td>\n",
              "      <td>Lvl</td>\n",
              "      <td>...</td>\n",
              "      <td>NaN</td>\n",
              "      <td>NaN</td>\n",
              "      <td>NaN</td>\n",
              "      <td>0</td>\n",
              "      <td>11</td>\n",
              "      <td>2006</td>\n",
              "      <td>WD</td>\n",
              "      <td>Normal</td>\n",
              "    </tr>\n",
              "  </tbody>\n",
              "</table>\n",
              "<p>2919 rows × 79 columns</p>\n",
              "</div>\n",
              "      <button class=\"colab-df-convert\" onclick=\"convertToInteractive('df-0088ac0c-25c7-4fcb-9e53-ccc3fa8eb492')\"\n",
              "              title=\"Convert this dataframe to an interactive table.\"\n",
              "              style=\"display:none;\">\n",
              "        \n",
              "  <svg xmlns=\"http://www.w3.org/2000/svg\" height=\"24px\"viewBox=\"0 0 24 24\"\n",
              "       width=\"24px\">\n",
              "    <path d=\"M0 0h24v24H0V0z\" fill=\"none\"/>\n",
              "    <path d=\"M18.56 5.44l.94 2.06.94-2.06 2.06-.94-2.06-.94-.94-2.06-.94 2.06-2.06.94zm-11 1L8.5 8.5l.94-2.06 2.06-.94-2.06-.94L8.5 2.5l-.94 2.06-2.06.94zm10 10l.94 2.06.94-2.06 2.06-.94-2.06-.94-.94-2.06-.94 2.06-2.06.94z\"/><path d=\"M17.41 7.96l-1.37-1.37c-.4-.4-.92-.59-1.43-.59-.52 0-1.04.2-1.43.59L10.3 9.45l-7.72 7.72c-.78.78-.78 2.05 0 2.83L4 21.41c.39.39.9.59 1.41.59.51 0 1.02-.2 1.41-.59l7.78-7.78 2.81-2.81c.8-.78.8-2.07 0-2.86zM5.41 20L4 18.59l7.72-7.72 1.47 1.35L5.41 20z\"/>\n",
              "  </svg>\n",
              "      </button>\n",
              "      \n",
              "  <style>\n",
              "    .colab-df-container {\n",
              "      display:flex;\n",
              "      flex-wrap:wrap;\n",
              "      gap: 12px;\n",
              "    }\n",
              "\n",
              "    .colab-df-convert {\n",
              "      background-color: #E8F0FE;\n",
              "      border: none;\n",
              "      border-radius: 50%;\n",
              "      cursor: pointer;\n",
              "      display: none;\n",
              "      fill: #1967D2;\n",
              "      height: 32px;\n",
              "      padding: 0 0 0 0;\n",
              "      width: 32px;\n",
              "    }\n",
              "\n",
              "    .colab-df-convert:hover {\n",
              "      background-color: #E2EBFA;\n",
              "      box-shadow: 0px 1px 2px rgba(60, 64, 67, 0.3), 0px 1px 3px 1px rgba(60, 64, 67, 0.15);\n",
              "      fill: #174EA6;\n",
              "    }\n",
              "\n",
              "    [theme=dark] .colab-df-convert {\n",
              "      background-color: #3B4455;\n",
              "      fill: #D2E3FC;\n",
              "    }\n",
              "\n",
              "    [theme=dark] .colab-df-convert:hover {\n",
              "      background-color: #434B5C;\n",
              "      box-shadow: 0px 1px 3px 1px rgba(0, 0, 0, 0.15);\n",
              "      filter: drop-shadow(0px 1px 2px rgba(0, 0, 0, 0.3));\n",
              "      fill: #FFFFFF;\n",
              "    }\n",
              "  </style>\n",
              "\n",
              "      <script>\n",
              "        const buttonEl =\n",
              "          document.querySelector('#df-0088ac0c-25c7-4fcb-9e53-ccc3fa8eb492 button.colab-df-convert');\n",
              "        buttonEl.style.display =\n",
              "          google.colab.kernel.accessAllowed ? 'block' : 'none';\n",
              "\n",
              "        async function convertToInteractive(key) {\n",
              "          const element = document.querySelector('#df-0088ac0c-25c7-4fcb-9e53-ccc3fa8eb492');\n",
              "          const dataTable =\n",
              "            await google.colab.kernel.invokeFunction('convertToInteractive',\n",
              "                                                     [key], {});\n",
              "          if (!dataTable) return;\n",
              "\n",
              "          const docLinkHtml = 'Like what you see? Visit the ' +\n",
              "            '<a target=\"_blank\" href=https://colab.research.google.com/notebooks/data_table.ipynb>data table notebook</a>'\n",
              "            + ' to learn more about interactive tables.';\n",
              "          element.innerHTML = '';\n",
              "          dataTable['output_type'] = 'display_data';\n",
              "          await google.colab.output.renderOutput(dataTable, element);\n",
              "          const docLink = document.createElement('div');\n",
              "          docLink.innerHTML = docLinkHtml;\n",
              "          element.appendChild(docLink);\n",
              "        }\n",
              "      </script>\n",
              "    </div>\n",
              "  </div>\n",
              "  "
            ]
          },
          "metadata": {},
          "execution_count": 8
        }
      ],
      "source": [
        "target = train0['SalePrice']\n",
        "test_ids = test0['Id']\n",
        "\n",
        "train1 = train0.drop(['Id', 'SalePrice'], axis=1)\n",
        "test1 = test0.drop('Id', axis=1)\n",
        "\n",
        "data1 = pd.concat([train1, test1], axis=0).reset_index(drop=True)\n",
        "data1"
      ]
    },
    {
      "cell_type": "markdown",
      "metadata": {
        "id": "wH9SAYFmNVKv"
      },
      "source": [
        "**Cleaning**"
      ]
    },
    {
      "cell_type": "code",
      "execution_count": null,
      "metadata": {
        "id": "YDDgvqgGMQhE"
      },
      "outputs": [],
      "source": [
        "data2 = data1.copy()"
      ]
    },
    {
      "cell_type": "markdown",
      "metadata": {
        "id": "35dywzEsN30v"
      },
      "source": [
        "**Ensure Proper Data Types**"
      ]
    },
    {
      "cell_type": "code",
      "execution_count": null,
      "metadata": {
        "id": "6O129WboNorr"
      },
      "outputs": [],
      "source": [
        "data2['MSSubClass'] = data2['MSSubClass'].astype(str)"
      ]
    },
    {
      "cell_type": "markdown",
      "metadata": {
        "id": "nvhb_CFEONbx"
      },
      "source": [
        "**Fill Categorical Missing Values**"
      ]
    },
    {
      "cell_type": "code",
      "execution_count": null,
      "metadata": {
        "id": "tbAygxLYN4kU"
      },
      "outputs": [],
      "source": [
        "# Impute using a constant value\n",
        "for column in [\n",
        "    'Alley',\n",
        "    'BsmtQual',\n",
        "    'BsmtCond',\n",
        "    'BsmtExposure',\n",
        "    'BsmtFinType1',\n",
        "    'BsmtFinType2',\n",
        "    'FireplaceQu',\n",
        "    'GarageType',\n",
        "    'GarageFinish',\n",
        "    'GarageQual',\n",
        "    'GarageCond',\n",
        "    'PoolQC',\n",
        "    'Fence',\n",
        "    'MiscFeature'\n",
        "]:\n",
        "    data2[column] = data2[column].fillna(\"None\")\n"
      ]
    },
    {
      "cell_type": "code",
      "execution_count": null,
      "metadata": {
        "id": "yUf9vbKVOQyr"
      },
      "outputs": [],
      "source": [
        "# Impute using the column mode\n",
        "for column in [\n",
        "    'MSZoning',\n",
        "    'Utilities',\n",
        "    'Exterior1st',\n",
        "    'Exterior2nd',\n",
        "    'MasVnrType',\n",
        "    'Electrical',\n",
        "    'KitchenQual',\n",
        "    'Functional',\n",
        "    'SaleType'\n",
        "]:\n",
        "    data2[column] = data2[column].fillna(data2[column].mode()[0])"
      ]
    },
    {
      "cell_type": "code",
      "execution_count": null,
      "metadata": {
        "id": "E8jOeOSzOSlg"
      },
      "outputs": [],
      "source": [
        "data3 = data2.copy()"
      ]
    },
    {
      "cell_type": "markdown",
      "metadata": {
        "id": "U1d08Kj5OWrs"
      },
      "source": [
        "**Numeric Missing Values**"
      ]
    },
    {
      "cell_type": "code",
      "execution_count": null,
      "metadata": {
        "id": "SXD940LIOULN"
      },
      "outputs": [],
      "source": [
        "def knn_impute(df, na_target):\n",
        "    df = df.copy()\n",
        "    \n",
        "    numeric_df = df.select_dtypes(np.number)\n",
        "    non_na_columns = numeric_df.loc[: ,numeric_df.isna().sum() == 0].columns\n",
        "    \n",
        "    y_train = numeric_df.loc[numeric_df[na_target].isna() == False, na_target]\n",
        "    X_train = numeric_df.loc[numeric_df[na_target].isna() == False, non_na_columns]\n",
        "    X_test = numeric_df.loc[numeric_df[na_target].isna() == True, non_na_columns]\n",
        "    \n",
        "    knn = KNeighborsRegressor()\n",
        "    knn.fit(X_train, y_train)\n",
        "    \n",
        "    y_pred = knn.predict(X_test)\n",
        "    \n",
        "    df.loc[df[na_target].isna() == True, na_target] = y_pred\n",
        "    \n",
        "    return df"
      ]
    },
    {
      "cell_type": "code",
      "execution_count": null,
      "metadata": {
        "id": "hSRPwPWYOZDj"
      },
      "outputs": [],
      "source": [
        "for column in [\n",
        "    'LotFrontage',\n",
        "    'MasVnrArea',\n",
        "    'BsmtFinSF1',\n",
        "    'BsmtFinSF2',\n",
        "    'BsmtUnfSF',\n",
        "    'TotalBsmtSF',\n",
        "    'BsmtFullBath',\n",
        "    'BsmtHalfBath',\n",
        "    'GarageYrBlt',\n",
        "    'GarageCars',\n",
        "    'GarageArea'\n",
        "]:\n",
        "    data3 = knn_impute(data3, column)"
      ]
    },
    {
      "cell_type": "code",
      "execution_count": null,
      "metadata": {
        "id": "_sGHIB6OOa6O"
      },
      "outputs": [],
      "source": [
        "data4 = data3.copy()"
      ]
    },
    {
      "cell_type": "code",
      "execution_count": null,
      "metadata": {
        "id": "uc6KbefSQ_mL"
      },
      "outputs": [],
      "source": [
        "import plotly.express as px"
      ]
    },
    {
      "cell_type": "code",
      "execution_count": null,
      "metadata": {
        "colab": {
          "base_uri": "https://localhost:8080/",
          "height": 652
        },
        "id": "RT9x0QgSQ4kh",
        "outputId": "8099d537-8905-4a7e-9db5-2e08b2b42342"
      },
      "outputs": [
        {
          "output_type": "stream",
          "name": "stderr",
          "text": [
            "/usr/local/lib/python3.7/dist-packages/statsmodels/tools/_testing.py:19: FutureWarning: pandas.util.testing is deprecated. Use the functions in the public API at pandas.testing instead.\n",
            "  import pandas.util.testing as tm\n"
          ]
        },
        {
          "output_type": "display_data",
          "data": {
            "text/html": [
              "<html>\n",
              "<head><meta charset=\"utf-8\" /></head>\n",
              "<body>\n",
              "    <div>            <script src=\"https://cdnjs.cloudflare.com/ajax/libs/mathjax/2.7.5/MathJax.js?config=TeX-AMS-MML_SVG\"></script><script type=\"text/javascript\">if (window.MathJax) {MathJax.Hub.Config({SVG: {font: \"STIX-Web\"}});}</script>                <script type=\"text/javascript\">window.PlotlyConfig = {MathJaxConfig: 'local'};</script>\n",
              "        <script src=\"https://cdn.plot.ly/plotly-2.8.3.min.js\"></script>                <div id=\"d6088020-36b1-4678-8deb-e5cb767bd104\" class=\"plotly-graph-div\" style=\"height:600px; width:1000px;\"></div>            <script type=\"text/javascript\">                                    window.PLOTLYENV=window.PLOTLYENV || {};                                    if (document.getElementById(\"d6088020-36b1-4678-8deb-e5cb767bd104\")) {                    Plotly.newPlot(                        \"d6088020-36b1-4678-8deb-e5cb767bd104\",                        [{\"hovertemplate\":\"x=%{x}<br>y=%{y}<extra></extra>\",\"legendgroup\":\"\",\"marker\":{\"color\":\"#636efa\",\"symbol\":\"circle\"},\"mode\":\"markers\",\"name\":\"\",\"showlegend\":false,\"x\":[1710,1262,1786,1717,2198,1362,1694,2090,1774,1077,1040,2324,912,1494,1253,854,1004,1296,1114,1339,2376,1108,1795,1060,1060,1600,900,1704,1600,520,1317,1228,1234,1700,1561,2452,1097,1297,1057,1152,1324,1328,884,938,1150,1752,2149,1656,1452,955,1470,1176,816,1842,1360,1425,1739,1720,2945,780,1158,1111,1370,1710,2034,2473,2207,1479,747,2287,2223,845,1718,1086,1605,988,952,1285,1768,1230,2142,1337,1563,1065,1474,2417,1560,1224,1526,990,1040,1235,964,2291,1786,1470,1588,960,835,1225,1610,1732,1535,1226,1818,1992,1047,789,1517,1844,1855,1430,2696,2259,2320,1458,1092,1125,3222,1456,988,1123,1080,1199,1586,754,958,840,1348,1053,2157,2054,1327,1296,1721,1682,1214,1959,1852,1764,864,1734,1385,1501,1728,1709,875,2035,1080,1344,969,1710,1993,1252,1200,1096,1040,1968,1947,2462,1232,2668,1541,882,1616,1355,1867,2161,1720,1707,1382,1656,1767,1362,1651,2158,2060,1920,2234,968,1525,1802,1340,2082,1252,3608,1217,1656,1224,1593,2727,1479,1431,1709,864,1456,1726,3112,2229,1713,1121,1279,1310,848,1284,1442,1696,1100,2062,1092,864,1212,1852,990,1392,1236,1436,1328,1954,1248,1498,2267,1552,864,2392,1302,2520,987,912,1555,1194,2794,987,894,1960,987,1414,1744,1694,1487,1566,866,1440,1217,2110,1872,1928,1375,1668,2144,1306,1625,1640,1302,1314,2291,1728,1604,1792,882,1382,2574,1212,1316,764,1422,1511,2192,778,1113,1939,1363,2270,1632,816,1548,1560,864,2121,2022,1982,1262,1314,1468,1575,1250,1734,858,900,1396,1919,1716,1716,2263,1644,1003,1558,1950,1743,1152,1336,2452,1541,894,3493,2000,2243,1406,861,1944,1501,972,1118,2036,1641,1432,2353,1959,2646,1472,2596,2468,2730,1163,2978,803,1719,1383,2134,1192,1728,1056,1629,1358,1638,1786,1922,1536,1621,1215,1908,841,1040,1684,1112,1577,958,1478,1626,2728,1869,1453,1111,720,1595,1200,1167,1142,1352,1924,912,1505,1922,987,1574,1344,1394,1431,1268,1287,1664,1588,752,1319,1928,904,914,2466,1856,1800,1691,1301,1797,784,1953,1269,1184,1125,1479,2332,1367,1961,882,788,1034,1144,894,1812,1077,1550,1288,1310,672,2263,1572,1620,1639,1680,2172,2078,1276,1056,1478,1028,2097,1340,1400,2624,1134,1056,1344,1602,988,2630,1196,1389,1644,907,1208,1412,987,1198,1365,1604,630,1661,1118,904,694,1196,2402,1440,1573,1258,1908,1689,1888,1886,1376,1183,813,1533,1756,1590,1728,1242,1344,1663,1666,1203,1935,1135,864,1660,1040,1414,1277,1644,1634,1710,1502,1969,1072,1976,1652,970,1493,2643,1718,1131,1850,1792,1826,1216,999,1113,1073,1484,2414,630,1304,1578,1456,1269,886,720,3228,1820,899,912,1218,1768,1214,1801,1322,1960,1911,1218,1378,1041,1363,1368,864,1080,789,2020,2119,2344,1796,2080,1294,1244,1664,4676,2398,1266,928,2713,605,2515,1509,1362,827,334,1414,1347,1724,864,1159,1601,1838,2285,1680,767,1496,2183,1635,768,825,2094,1069,928,1717,1126,2046,1048,1092,1336,1446,1557,1392,1389,996,1674,2295,1647,2504,1535,2132,943,1728,864,1692,1430,1109,1216,1477,1320,1392,1795,1429,2042,816,2775,1573,2028,838,860,1473,935,1582,2296,816,848,924,1826,1368,1402,1647,1556,1904,1375,1915,1200,1494,1986,1040,2008,3194,1029,2153,1032,1872,1120,630,1054,1509,832,1828,2262,864,2614,980,1512,1790,1116,1422,1520,2080,1350,1750,1554,1411,1056,1056,3395,800,1387,796,1567,1518,1929,2704,1620,1766,981,1048,1094,1839,630,1665,1510,1716,1469,2113,1092,1053,1502,1458,1486,1935,2448,1392,1181,2097,1936,2380,1679,1437,1180,1476,1369,1208,1839,1136,1441,1774,792,2046,988,923,1520,1291,1668,1839,2090,1761,1102,1419,1362,848,4316,2519,1073,1539,1137,616,1148,894,1391,1800,1164,2576,1812,1484,1092,1824,1324,1456,904,729,1178,1228,960,1479,1350,2554,1178,2418,971,1742,848,864,1470,1698,864,1680,1232,1776,1208,1616,1146,2031,1144,948,1768,1040,1801,1200,1728,1432,912,1349,1464,1337,2715,2256,2640,1720,1529,1140,1320,1494,2098,1026,1471,1768,1386,1501,2531,864,1301,1547,2365,1494,1506,1714,1750,1836,3279,858,1220,1117,912,1973,1204,1614,894,2020,1004,1253,1603,1430,1110,1484,1342,1652,2084,901,2087,1145,1062,2013,1496,1895,1564,1285,773,3140,1768,1688,1196,1456,2822,1128,1428,980,1576,1086,2138,1309,848,1044,1442,1250,1661,1008,1689,1052,1358,1640,936,1733,1489,1489,2084,784,1434,2126,1223,1392,1200,1829,1516,1144,1067,1559,987,1099,1200,1482,1539,1165,1800,1416,1701,1775,864,2358,1855,848,1456,1646,1445,1779,1040,1026,1481,1370,2654,1426,1039,1097,1148,1372,1002,1646,1120,2320,1949,894,1682,910,1268,1131,2610,1040,2224,1155,864,1090,1717,1593,2230,892,1709,1712,1393,2217,1505,924,1683,1068,1383,1535,1796,951,2240,2364,1236,858,1306,1509,1670,902,1063,1636,2057,902,1484,2274,1268,1015,2002,1224,1092,480,1229,2127,1414,1721,2200,1316,1617,1686,1126,2374,1978,1788,2236,1466,925,1905,1500,2069,747,1200,1971,1962,2403,1728,2060,1440,1632,1344,1869,1144,1629,1776,1381,864,965,768,1968,980,1958,1229,1057,1337,1416,858,2872,1548,1800,1894,1484,1308,1098,968,1095,1192,1626,918,1428,2019,1382,869,1241,894,1121,999,2612,1266,2290,1734,1164,1635,1940,2030,1576,2392,1742,1851,1500,1718,1230,1050,1442,1077,1208,944,691,1574,1680,1504,985,1657,1092,1710,1522,1271,1664,1502,1022,1082,1665,1504,1360,1472,1506,1132,1220,1248,1504,2898,882,1264,1646,1376,1218,1928,3082,2520,1654,954,845,1620,2263,1344,630,1803,1632,1306,2329,2524,1733,2868,990,1771,930,1302,1316,1977,1526,1989,1523,1364,1850,2184,1991,1338,894,2337,1103,1154,2260,1571,1611,2521,893,1048,1556,1456,1426,1240,1740,1466,1096,848,990,1258,1040,1459,1251,1498,996,1092,1953,1709,1247,1040,1252,1694,1200,936,1314,1355,1088,1324,1601,438,950,1134,1194,1302,2622,1442,2021,1690,1836,1658,1964,816,1008,833,1734,1419,894,1601,1040,1012,1552,960,698,1482,1005,1555,1530,1959,936,1981,974,2210,2020,1600,986,1252,1020,1567,1167,952,1868,2828,1006,924,1576,1298,1564,1111,1482,932,1466,1811,816,1820,1437,1265,1314,1580,1876,1456,1640,894,1258,1432,1502,1694,1671,2108,3627,1118,1261,1250,3086,2345,2872,923,1224,1343,1124,2514,1652,4476,1130,1572,1221,1699,1624,1660,1804,1622,1441,1472,1224,1352,1456,1863,1690,1212,1382,864,1779,1348,1630,1074,2196,1056,1700,1283,1660,1845,1752,672,960,999,894,1902,1314,912,1218,912,1211,1846,2136,1490,1138,1933,912,1702,1507,2620,1190,1224,1188,1964,1784,1626,1948,1141,1484,1768,1689,1173,2076,1517,1868,1553,1034,2058,988,2110,1405,874,2167,1656,1367,1987,864,1166,1054,1675,1050,1788,1824,1337,1452,1889,2018,3447,1524,1524,1489,935,1357,1250,1920,1395,1724,2031,1128,1573,1339,1040,1824,2447,1412,1328,1582,1659,1970,1152,1302,2372,1664,864,1052,1128,1072,5642,1246,1983,1494,2526,1616,1708,1652,1368,990,1122,1294,1902,1274,2810,2599,948,2112,1630,1352,1787,948,1478,720,1923,708,1795,796,774,816,2792,1632,1588,954,816,1360,1365,1334,1656,693,1861,864,872,1114,2169,1913,1456,960,2156,1776,1494,2358,2634,1716,1176,3238,1865,1920,892,1078,1573,1980,2601,1530,1738,1412,1200,1674,1790,1475,848,1668,1374,1661,2097,2633,1958,1571,790,1604,987,1394,864,2117,1762,1416,1258,1154,2784,2526,1746,1218,1525,1584,900,1912,1500,2482,1687,1513,1904,1608,1158,1593,1294,1464,1214,1646,768,833,1363,2093,1840,1668,1040,1844,1848,1569,2290,2450,1144,1844,1416,1069,848,2201,1344,1252,2127,1558,804,1440,1838,958,968,1792,1126,1537,864,1932,1236,1725,2555,848,2007,952,1422,913,1188,2090,1346,630,1792,1578,1072,1140,1221,1647,2073,2340,1078,1256],\"xaxis\":\"x\",\"y\":[208500,181500,223500,140000,250000,143000,307000,200000,129900,118000,129500,345000,144000,279500,157000,132000,149000,90000,159000,139000,325300,139400,230000,129900,154000,256300,134800,306000,207500,68500,40000,149350,179900,165500,277500,309000,145000,153000,109000,82000,160000,170000,144000,130250,141000,319900,239686,249700,113000,127000,177000,114500,110000,385000,130000,180500,172500,196500,438780,124900,158000,101000,202500,140000,219500,317000,180000,226000,80000,225000,244000,129500,185000,144900,107400,91000,135750,127000,136500,110000,193500,153500,245000,126500,168500,260000,174000,164500,85000,123600,109900,98600,163500,133900,204750,185000,214000,94750,83000,128950,205000,178000,118964,198900,169500,250000,100000,115000,115000,190000,136900,180000,383970,217000,259500,176000,139000,155000,320000,163990,180000,100000,136000,153900,181000,84500,128000,87000,155000,150000,226000,244000,150750,220000,180000,174000,143000,171000,230000,231500,115000,260000,166000,204000,125000,130000,105000,222500,141000,115000,122000,372402,190000,235000,125000,79000,109500,269500,254900,320000,162500,412500,220000,103200,152000,127500,190000,325624,183500,228000,128500,215000,239000,163000,184000,243000,211000,172500,501837,100000,177000,200100,120000,200000,127000,475000,173000,135000,153337,286000,315000,184000,192000,130000,127000,148500,311872,235000,104000,274900,140000,171500,112000,149000,110000,180500,143900,141000,277000,145000,98000,186000,252678,156000,161750,134450,210000,107000,311500,167240,204900,200000,179900,97000,386250,112000,290000,106000,125000,192500,148000,403000,94500,128200,216500,89500,185500,194500,318000,113000,262500,110500,79000,120000,205000,241500,137000,140000,180000,277000,76500,235000,173000,158000,145000,230000,207500,220000,231500,97000,176000,276000,151000,130000,73000,175500,185000,179500,120500,148000,266000,241500,290000,139000,124500,205000,201000,141000,415298,192000,228500,185000,207500,244600,179200,164700,159000,88000,122000,153575,233230,135900,131000,235000,167000,142500,152000,239000,175000,158500,157000,267000,205000,149900,295000,305900,225000,89500,82500,360000,165600,132000,119900,375000,178000,188500,260000,270000,260000,187500,342643,354000,301000,126175,242000,87000,324000,145250,214500,78000,119000,139000,284000,207000,192000,228950,377426,214000,202500,155000,202900,82000,87500,266000,85000,140200,151500,157500,154000,437154,318061,190000,95000,105900,140000,177500,173000,134000,130000,280000,156000,145000,198500,118000,190000,147000,159000,165000,132000,162000,172400,134432,125000,123000,219500,61000,148000,340000,394432,179000,127000,187750,213500,76000,240000,192000,81000,125000,191000,426000,119000,215000,106500,100000,109000,129000,123000,169500,67000,241000,245500,164990,108000,258000,168000,150000,115000,177000,280000,339750,60000,145000,222000,115000,228000,181134,149500,239000,126000,142000,206300,215000,113000,315000,139000,135000,275000,109008,195400,175000,85400,79900,122500,181000,81000,212000,116000,119000,90350,110000,555000,118000,162900,172500,210000,127500,190000,199900,119500,120000,110000,280000,204000,210000,188000,175500,98000,256000,161000,110000,263435,155000,62383,188700,124000,178740,167000,146500,250000,187000,212000,190000,148000,440000,251000,132500,208900,380000,297000,89471,326000,374000,155000,164000,132500,147000,156000,175000,160000,86000,115000,133000,172785,155000,91300,34900,430000,184000,130000,120000,113000,226700,140000,289000,147000,124500,215000,208300,161000,124500,164900,202665,129900,134000,96500,402861,158000,265000,211000,234000,106250,150000,159000,184750,315750,176000,132000,446261,86000,200624,175000,128000,107500,39300,178000,107500,188000,111250,158000,272000,315000,248000,213250,133000,179665,229000,210000,129500,125000,263000,140000,112500,255500,108000,284000,113000,141000,108000,175000,234000,121500,170000,108000,185000,268000,128000,325000,214000,316600,135960,142600,120000,224500,170000,139000,118500,145000,164500,146000,131500,181900,253293,118500,325000,133000,369900,130000,137000,143000,79500,185900,451950,138000,140000,110000,319000,114504,194201,217500,151000,275000,141000,220000,151000,221000,205000,152000,225000,359100,118500,313000,148000,261500,147000,75500,137500,183200,105500,314813,305000,67000,240000,135000,168500,165150,160000,139900,153000,135000,168500,124000,209500,82500,139400,144000,200000,60000,93000,85000,264561,274000,226000,345000,152000,370878,143250,98300,155000,155000,84500,205950,108000,191000,135000,350000,88000,145500,149000,97500,167000,197900,402000,110000,137500,423000,230500,129000,193500,168000,137500,173500,103600,165000,257500,140000,148500,87000,109500,372500,128500,143000,159434,173000,285000,221000,207500,227875,148800,392000,194700,141000,755000,335000,108480,141500,176000,89000,123500,138500,196000,312500,140000,361919,140000,213000,55000,302000,254000,179540,109900,52000,102776,189000,129000,130500,165000,159500,157000,341000,128500,275000,143000,124500,135000,320000,120500,222000,194500,110000,103000,236500,187500,222500,131400,108000,163000,93500,239900,179000,190000,132000,142000,179000,175000,180000,299800,236000,265979,260400,98000,96500,162000,217000,275500,156000,172500,212000,158900,179400,290000,127500,100000,215200,337000,270000,264132,196500,160000,216837,538000,134900,102000,107000,114500,395000,162000,221500,142500,144000,135000,176000,175900,187100,165500,128000,161500,139000,233000,107900,187500,160200,146800,269790,225000,194500,171000,143500,110000,485000,175000,200000,109900,189000,582933,118000,227680,135500,223500,159950,106000,181000,144500,55993,157900,116000,224900,137000,271000,155000,224000,183000,93000,225000,139500,232600,385000,109500,189000,185000,147400,166000,151000,237000,167000,139950,128000,153500,100000,144000,130500,140000,157500,174900,141000,153900,171000,213000,133500,240000,187000,131500,215000,164000,158000,170000,127000,147000,174000,152000,250000,189950,131500,152000,132500,250580,148500,248900,129000,169000,236000,109500,200500,116000,133000,66500,303477,132250,350000,148000,136500,157000,187500,178000,118500,100000,328900,145000,135500,268000,149500,122900,172500,154500,165000,118858,140000,106500,142953,611657,135000,110000,153000,180000,240000,125500,128000,255000,250000,131000,174000,154300,143500,88000,145000,173733,75000,35311,135000,238000,176500,201000,145900,169990,193000,207500,175000,285000,176000,236500,222000,201000,117500,320000,190000,242000,79900,184900,253000,239799,244400,150900,214000,150000,143000,137500,124900,143000,270000,192500,197500,129000,119900,133900,172000,127500,145000,124000,132000,185000,155000,116500,272000,155000,239000,214900,178900,160000,135000,37900,140000,135000,173000,99500,182000,167500,165000,85500,199900,110000,139000,178400,336000,159895,255900,126000,125000,117000,395192,195000,197000,348000,168000,187000,173900,337500,121600,136500,185000,91000,206000,82000,86000,232000,136905,181000,149900,163500,88000,240000,102000,135000,100000,165000,85000,119200,227000,203000,187500,160000,213490,176000,194000,87000,191000,287000,112500,167500,293077,105000,118000,160000,197000,310000,230000,119750,84000,315500,287000,97000,80000,155000,173000,196000,262280,278000,139600,556581,145000,115000,84900,176485,200141,165000,144500,255000,180000,185850,248000,335000,220000,213500,81000,90000,110500,154000,328000,178000,167900,151400,135000,135000,154000,91500,159500,194000,219500,170000,138800,155900,126000,145000,133000,192000,160000,187500,147000,83500,252000,137500,197000,92900,160000,136500,146000,129000,176432,127000,170000,128000,157000,60000,119500,135000,159500,106000,325000,179900,274725,181000,280000,188000,205000,129900,134500,117000,318000,184100,130000,140000,133700,118400,212900,112000,118000,163900,115000,174000,259000,215000,140000,135000,93500,117500,239500,169000,102000,119000,94000,196000,144000,139000,197500,424870,80000,80000,149000,180000,174500,116900,143000,124000,149900,230000,120500,201800,218000,179900,230000,235128,185000,146000,224000,129000,108959,194000,233170,245350,173000,235000,625000,171000,163000,171900,200500,239000,285000,119500,115000,154900,93000,250000,392500,745000,120000,186700,104900,95000,262000,195000,189000,168000,174000,125000,165000,158000,176000,219210,144000,178000,148000,116050,197900,117000,213000,153500,271900,107000,200000,140000,290000,189000,164000,113000,145000,134500,125000,112000,229456,80500,91500,115000,134000,143000,137900,184000,145000,214000,147000,367294,127000,190000,132500,101800,142000,130000,138887,175500,195000,142500,265900,224900,248328,170000,465000,230000,178000,186500,169900,129500,119000,244000,171750,130000,294000,165400,127500,301500,99900,190000,151000,181000,128900,161500,180500,181000,183900,122000,378500,381000,144000,260000,185750,137000,177000,139000,137000,162000,197900,237000,68400,227000,180000,150500,139000,169000,132500,143000,190000,278000,281000,180500,119500,107500,162900,115000,138500,155000,140000,160000,154000,225000,177500,290000,232000,130000,325000,202500,138000,147000,179200,335000,203000,302000,333168,119000,206900,295493,208900,275000,111000,156500,72500,190000,82500,147000,55000,79000,130500,256000,176500,227000,132500,100000,125500,125000,167900,135000,52500,200000,128500,123000,155000,228500,177000,155835,108500,262500,283463,215000,122000,200000,171000,134900,410000,235000,170000,110000,149900,177500,315000,189000,260000,104900,156932,144152,216000,193000,127000,144000,232000,105000,165500,274300,466500,250000,239000,91000,117000,83000,167500,58500,237500,157000,112000,105000,125500,250000,136000,377500,131000,235000,124000,123000,163000,246578,281213,160000,137500,138000,137450,120000,193000,193879,282922,105000,275000,133000,112000,125500,215000,230000,140000,90000,257000,207000,175900,122500,340000,124000,223000,179900,127500,136500,274970,144000,142000,271000,140000,119000,182900,192140,143750,64500,186500,160000,174000,120500,394617,149700,197000,191000,149300,310000,121000,179600,129000,157900,240000,112000,92000,136000,287090,145000,84500,185000,175000,210000,266500,142125,147500],\"yaxis\":\"y\",\"type\":\"scattergl\"},{\"hovertemplate\":\"<b>OLS trendline</b><br>y = 107.13 * x + 18569<br>R<sup>2</sup>=0.502149<br><br>x=%{x}<br>y=%{y} <b>(trend)</b><extra></extra>\",\"legendgroup\":\"\",\"marker\":{\"color\":\"#636efa\",\"symbol\":\"circle\"},\"mode\":\"lines\",\"name\":\"\",\"showlegend\":false,\"x\":[334,438,480,520,605,616,630,630,630,630,630,630,672,672,691,693,694,698,708,720,720,720,729,747,747,752,754,764,767,768,768,768,773,774,778,780,784,784,788,789,789,790,792,796,796,800,803,804,813,816,816,816,816,816,816,816,816,825,827,832,833,833,835,838,840,841,845,845,848,848,848,848,848,848,848,848,848,848,854,858,858,858,858,860,861,864,864,864,864,864,864,864,864,864,864,864,864,864,864,864,864,864,864,864,864,864,864,866,869,872,874,875,882,882,882,882,884,886,892,892,893,894,894,894,894,894,894,894,894,894,894,894,899,900,900,900,901,902,902,904,904,904,907,910,912,912,912,912,912,912,912,912,912,913,914,918,923,923,924,924,924,925,928,928,930,932,935,935,936,936,936,938,943,944,948,948,948,950,951,952,952,952,954,954,955,958,958,958,960,960,960,960,960,964,965,968,968,968,969,970,971,972,974,980,980,980,981,985,986,987,987,987,987,987,987,987,988,988,988,988,988,990,990,990,990,990,996,996,999,999,999,1002,1003,1004,1004,1005,1006,1008,1008,1012,1015,1020,1022,1026,1026,1028,1029,1032,1034,1034,1039,1040,1040,1040,1040,1040,1040,1040,1040,1040,1040,1040,1040,1040,1040,1041,1044,1047,1048,1048,1048,1050,1050,1052,1052,1053,1053,1054,1054,1056,1056,1056,1056,1056,1056,1057,1057,1060,1060,1062,1063,1065,1067,1068,1069,1069,1072,1072,1072,1073,1073,1074,1077,1077,1077,1078,1078,1080,1080,1080,1082,1086,1086,1088,1090,1092,1092,1092,1092,1092,1092,1092,1092,1094,1095,1096,1096,1097,1097,1098,1099,1100,1102,1103,1108,1109,1110,1111,1111,1111,1112,1113,1113,1114,1114,1116,1117,1118,1118,1118,1120,1120,1121,1121,1122,1123,1124,1125,1125,1126,1126,1126,1128,1128,1128,1130,1131,1131,1132,1134,1134,1135,1136,1137,1138,1140,1140,1141,1142,1144,1144,1144,1144,1144,1145,1146,1148,1148,1150,1152,1152,1152,1154,1154,1155,1158,1158,1159,1163,1164,1164,1165,1166,1167,1167,1173,1176,1176,1178,1178,1180,1181,1183,1184,1188,1188,1190,1192,1192,1194,1194,1196,1196,1196,1198,1199,1200,1200,1200,1200,1200,1200,1200,1200,1200,1203,1204,1208,1208,1208,1208,1211,1212,1212,1212,1214,1214,1214,1215,1216,1216,1217,1217,1218,1218,1218,1218,1218,1220,1220,1221,1221,1223,1224,1224,1224,1224,1224,1224,1225,1226,1228,1228,1229,1229,1230,1230,1232,1232,1234,1235,1236,1236,1236,1240,1241,1242,1244,1246,1247,1248,1248,1250,1250,1250,1250,1251,1252,1252,1252,1252,1252,1253,1253,1256,1258,1258,1258,1258,1261,1262,1262,1264,1265,1266,1266,1268,1268,1268,1269,1269,1271,1274,1276,1277,1279,1283,1284,1285,1285,1287,1288,1291,1294,1294,1294,1296,1296,1297,1298,1301,1301,1302,1302,1302,1302,1302,1304,1306,1306,1306,1308,1309,1310,1310,1314,1314,1314,1314,1314,1316,1316,1316,1317,1319,1320,1320,1322,1324,1324,1324,1327,1328,1328,1328,1334,1336,1336,1337,1337,1337,1337,1338,1339,1339,1340,1340,1342,1343,1344,1344,1344,1344,1344,1344,1344,1346,1347,1348,1348,1349,1350,1350,1352,1352,1352,1355,1355,1357,1358,1358,1360,1360,1360,1362,1362,1362,1362,1363,1363,1363,1364,1365,1365,1367,1367,1368,1368,1368,1369,1370,1370,1372,1374,1375,1375,1376,1376,1378,1381,1382,1382,1382,1382,1383,1383,1385,1386,1387,1389,1389,1391,1392,1392,1392,1392,1392,1393,1394,1394,1395,1396,1400,1402,1405,1406,1411,1412,1412,1412,1414,1414,1414,1414,1416,1416,1416,1416,1419,1419,1422,1422,1422,1425,1426,1426,1428,1428,1429,1430,1430,1430,1431,1431,1432,1432,1432,1434,1436,1437,1437,1440,1440,1440,1440,1441,1441,1442,1442,1442,1442,1445,1446,1452,1452,1453,1456,1456,1456,1456,1456,1456,1456,1456,1456,1456,1458,1458,1459,1464,1464,1466,1466,1466,1468,1469,1470,1470,1470,1471,1472,1472,1472,1473,1474,1475,1476,1477,1478,1478,1478,1479,1479,1479,1479,1481,1482,1482,1482,1484,1484,1484,1484,1484,1484,1486,1487,1489,1489,1489,1490,1493,1494,1494,1494,1494,1494,1494,1496,1496,1498,1498,1500,1500,1500,1501,1501,1501,1502,1502,1502,1502,1504,1504,1504,1505,1505,1506,1506,1507,1509,1509,1509,1510,1511,1512,1513,1516,1517,1517,1518,1520,1520,1522,1523,1524,1524,1525,1525,1526,1526,1529,1530,1530,1533,1535,1535,1535,1536,1537,1539,1539,1541,1541,1547,1548,1548,1550,1552,1552,1553,1554,1555,1555,1556,1556,1557,1558,1558,1559,1560,1560,1561,1563,1564,1564,1566,1567,1567,1569,1571,1571,1572,1572,1573,1573,1573,1573,1574,1574,1575,1576,1576,1576,1577,1578,1578,1580,1582,1582,1584,1586,1588,1588,1588,1590,1593,1593,1593,1595,1600,1600,1600,1601,1601,1601,1602,1603,1604,1604,1604,1605,1608,1610,1611,1614,1616,1616,1616,1617,1620,1620,1620,1621,1622,1624,1625,1626,1626,1626,1629,1629,1630,1630,1632,1632,1632,1632,1634,1635,1635,1636,1638,1639,1640,1640,1640,1641,1644,1644,1644,1646,1646,1646,1646,1647,1647,1647,1651,1652,1652,1652,1652,1654,1656,1656,1656,1656,1656,1657,1658,1659,1660,1660,1660,1661,1661,1661,1663,1664,1664,1664,1664,1665,1665,1666,1668,1668,1668,1668,1670,1671,1674,1674,1675,1679,1680,1680,1680,1680,1682,1682,1683,1684,1686,1687,1688,1689,1689,1689,1690,1690,1691,1692,1694,1694,1694,1694,1696,1698,1699,1700,1700,1701,1702,1704,1707,1708,1709,1709,1709,1709,1710,1710,1710,1710,1710,1712,1713,1714,1716,1716,1716,1716,1717,1717,1717,1718,1718,1718,1719,1720,1720,1720,1721,1721,1724,1724,1725,1726,1728,1728,1728,1728,1728,1728,1728,1732,1733,1733,1734,1734,1734,1734,1738,1739,1740,1742,1742,1743,1744,1746,1750,1750,1752,1752,1756,1761,1762,1764,1766,1767,1768,1768,1768,1768,1768,1768,1771,1774,1774,1775,1776,1776,1776,1779,1779,1784,1786,1786,1786,1787,1788,1788,1790,1790,1792,1792,1792,1792,1795,1795,1795,1796,1796,1797,1800,1800,1800,1800,1801,1801,1802,1803,1804,1811,1812,1812,1818,1820,1820,1824,1824,1824,1826,1826,1828,1829,1836,1836,1838,1838,1839,1839,1839,1840,1842,1844,1844,1844,1845,1846,1848,1850,1850,1851,1852,1852,1855,1855,1856,1861,1863,1865,1867,1868,1868,1869,1869,1872,1872,1876,1886,1888,1889,1894,1895,1902,1902,1904,1904,1905,1908,1908,1911,1912,1913,1915,1919,1920,1920,1920,1922,1922,1923,1924,1928,1928,1928,1929,1932,1933,1935,1935,1936,1939,1940,1944,1947,1948,1949,1950,1953,1953,1954,1958,1958,1959,1959,1959,1960,1960,1961,1962,1964,1964,1968,1968,1969,1970,1971,1973,1976,1977,1978,1980,1981,1982,1983,1986,1987,1989,1991,1992,1993,2000,2002,2007,2008,2013,2018,2019,2020,2020,2020,2021,2022,2028,2030,2031,2031,2034,2035,2036,2042,2046,2046,2054,2057,2058,2060,2060,2062,2069,2073,2076,2078,2080,2080,2082,2084,2084,2087,2090,2090,2090,2093,2094,2097,2097,2097,2098,2108,2110,2110,2112,2113,2117,2119,2121,2126,2127,2127,2132,2134,2136,2138,2142,2144,2149,2153,2156,2157,2158,2161,2167,2169,2172,2183,2184,2192,2196,2198,2200,2201,2207,2210,2217,2223,2224,2229,2230,2234,2236,2240,2243,2256,2259,2260,2262,2263,2263,2263,2267,2270,2274,2285,2287,2290,2290,2291,2291,2295,2296,2320,2320,2324,2329,2332,2337,2340,2344,2345,2353,2358,2358,2364,2365,2372,2374,2376,2380,2392,2392,2398,2402,2403,2414,2417,2418,2447,2448,2450,2452,2452,2462,2466,2468,2473,2482,2504,2514,2515,2519,2520,2520,2521,2524,2526,2526,2531,2554,2555,2574,2576,2596,2599,2601,2610,2612,2614,2620,2622,2624,2630,2633,2634,2640,2643,2646,2654,2668,2696,2704,2713,2715,2727,2728,2730,2775,2784,2792,2794,2810,2822,2828,2868,2872,2872,2898,2945,2978,3082,3086,3112,3140,3194,3222,3228,3238,3279,3395,3447,3493,3608,3627,4316,4476,4676,5642],\"xaxis\":\"x\",\"y\":[54350.565751072696,65492.12308351852,69991.59816008317,74276.8125187162,83382.89303081133,84561.32697943541,86061.15200495697,86061.15200495697,86061.15200495697,86061.15200495697,86061.15200495697,86061.15200495697,90560.62708152163,90560.62708152163,92596.10390187231,92810.36461980395,92917.49497876978,93346.01641463308,94417.32000429134,95702.88431188124,95702.88431188124,95702.88431188124,96667.05754257366,98595.40400395852,98595.40400395852,99131.05579878764,99345.3165167193,100416.62010637755,100738.01118327503,100845.14154224085,100845.14154224085,100845.14154224085,101380.79333706998,101487.9236960358,101916.4451318991,102130.70584983075,102559.22728569405,102559.22728569405,102987.74872155735,103094.87908052317,103094.87908052317,103202.009439489,103416.27015742066,103844.79159328395,103844.79159328395,104273.31302914725,104594.70410604472,104701.83446501056,105666.00769570298,105987.39877260046,105987.39877260046,105987.39877260046,105987.39877260046,105987.39877260046,105987.39877260046,105987.39877260046,105987.39877260046,106951.57200329288,107165.83272122453,107701.48451605366,107808.61487501948,107808.61487501948,108022.87559295114,108344.26666984861,108558.52738778027,108665.65774674609,109094.17918260938,109094.17918260938,109415.57025950686,109415.57025950686,109415.57025950686,109415.57025950686,109415.57025950686,109415.57025950686,109415.57025950686,109415.57025950686,109415.57025950686,109415.57025950686,110058.35241330182,110486.87384916512,110486.87384916512,110486.87384916512,110486.87384916512,110701.13456709677,110808.26492606259,111129.65600296007,111129.65600296007,111129.65600296007,111129.65600296007,111129.65600296007,111129.65600296007,111129.65600296007,111129.65600296007,111129.65600296007,111129.65600296007,111129.65600296007,111129.65600296007,111129.65600296007,111129.65600296007,111129.65600296007,111129.65600296007,111129.65600296007,111129.65600296007,111129.65600296007,111129.65600296007,111129.65600296007,111129.65600296007,111343.91672089172,111665.3077977892,111986.69887468667,112200.95959261832,112308.08995158414,113058.00246434493,113058.00246434493,113058.00246434493,113058.00246434493,113272.26318227657,113486.52390020822,114129.30605400317,114129.30605400317,114236.436412969,114343.56677193483,114343.56677193483,114343.56677193483,114343.56677193483,114343.56677193483,114343.56677193483,114343.56677193483,114343.56677193483,114343.56677193483,114343.56677193483,114343.56677193483,114879.21856676396,114986.34892572978,114986.34892572978,114986.34892572978,115093.4792846956,115200.60964366143,115200.60964366143,115414.87036159307,115414.87036159307,115414.87036159307,115736.26143849055,116057.65251538802,116271.91323331968,116271.91323331968,116271.91323331968,116271.91323331968,116271.91323331968,116271.91323331968,116271.91323331968,116271.91323331968,116271.91323331968,116379.04359228551,116486.17395125133,116914.69538711463,117450.34718194375,117450.34718194375,117557.47754090957,117557.47754090957,117557.47754090957,117664.60789987541,117985.99897677288,117985.99897677288,118200.25969470454,118414.52041263618,118735.91148953365,118735.91148953365,118843.04184849949,118843.04184849949,118843.04184849949,119057.30256643113,119592.95436126026,119700.08472022609,120128.60615608939,120128.60615608939,120128.60615608939,120342.86687402104,120449.99723298686,120557.12759195268,120557.12759195268,120557.12759195268,120771.38830988434,120771.38830988434,120878.51866885016,121199.90974574765,121199.90974574765,121199.90974574765,121414.17046367929,121414.17046367929,121414.17046367929,121414.17046367929,121414.17046367929,121842.6918995426,121949.82225850841,122271.21333540589,122271.21333540589,122271.21333540589,122378.34369437171,122485.47405333754,122592.60441230336,122699.7347712692,122913.99548920084,123556.77764299579,123556.77764299579,123556.77764299579,123663.90800196162,124092.42943782492,124199.55979679074,124306.69015575657,124306.69015575657,124306.69015575657,124306.69015575657,124306.69015575657,124306.69015575657,124306.69015575657,124413.82051472239,124413.82051472239,124413.82051472239,124413.82051472239,124413.82051472239,124628.08123265405,124628.08123265405,124628.08123265405,124628.08123265405,124628.08123265405,125270.863386449,125270.863386449,125592.25446334647,125592.25446334647,125592.25446334647,125913.64554024395,126020.77589920978,126127.9062581756,126127.9062581756,126235.03661714142,126342.16697610726,126556.4276940389,126556.4276940389,126984.9491299022,127306.34020679968,127841.99200162881,128056.25271956045,128484.77415542376,128484.77415542376,128699.0348733554,128806.16523232123,129127.55630921871,129341.81702715036,129341.81702715036,129877.46882197948,129984.59918094531,129984.59918094531,129984.59918094531,129984.59918094531,129984.59918094531,129984.59918094531,129984.59918094531,129984.59918094531,129984.59918094531,129984.59918094531,129984.59918094531,129984.59918094531,129984.59918094531,129984.59918094531,130091.72953991113,130413.1206168086,130734.51169370608,130841.64205267192,130841.64205267192,130841.64205267192,131055.90277060356,131055.90277060356,131270.1634885352,131270.1634885352,131377.29384750105,131377.29384750105,131484.42420646688,131484.42420646688,131698.6849243985,131698.6849243985,131698.6849243985,131698.6849243985,131698.6849243985,131698.6849243985,131805.81528336433,131805.81528336433,132127.20636026183,132127.20636026183,132341.46707819347,132448.59743715927,132662.85815509094,132877.11887302258,132984.24923198842,133091.37959095422,133091.37959095422,133412.77066785173,133412.77066785173,133412.77066785173,133519.90102681753,133519.90102681753,133627.03138578337,133948.42246268084,133948.42246268084,133948.42246268084,134055.55282164668,134055.55282164668,134269.81353957832,134269.81353957832,134269.81353957832,134484.07425750996,134912.59569337327,134912.59569337327,135126.8564113049,135341.11712923658,135555.37784716822,135555.37784716822,135555.37784716822,135555.37784716822,135555.37784716822,135555.37784716822,135555.37784716822,135555.37784716822,135769.63856509986,135876.7689240657,135983.89928303153,135983.89928303153,136091.02964199736,136091.02964199736,136198.16000096317,136305.290359929,136412.4207188948,136626.68143682647,136733.8117957923,137269.46359062142,137376.59394958726,137483.7243085531,137590.8546675189,137590.8546675189,137590.8546675189,137697.9850264847,137805.11538545054,137805.11538545054,137912.24574441637,137912.24574441637,138126.50646234804,138233.63682131385,138340.76718027965,138340.76718027965,138340.76718027965,138555.02789821132,138555.02789821132,138662.15825717716,138662.15825717716,138769.288616143,138876.4189751088,138983.54933407463,139090.67969304044,139090.67969304044,139197.81005200627,139197.81005200627,139197.81005200627,139412.07076993794,139412.07076993794,139412.07076993794,139626.33148786958,139733.4618468354,139733.4618468354,139840.59220580122,140054.8529237329,140054.8529237329,140161.9832826987,140269.11364166453,140376.24400063034,140483.37435959617,140697.63507752784,140697.63507752784,140804.76543649368,140911.89579545948,141126.15651339112,141126.15651339112,141126.15651339112,141126.15651339112,141126.15651339112,141233.28687235696,141340.4172313228,141554.67794925443,141554.67794925443,141768.93866718607,141983.19938511774,141983.19938511774,141983.19938511774,142197.46010304938,142197.46010304938,142304.5904620152,142625.9815389127,142625.9815389127,142733.11189787852,143161.6333337418,143268.76369270764,143268.76369270764,143375.89405167347,143483.02441063928,143590.1547696051,143590.1547696051,144232.93692340006,144554.32800029754,144554.32800029754,144768.5887182292,144768.5887182292,144982.84943616082,145089.97979512665,145304.24051305832,145411.37087202416,145839.89230788744,145839.89230788744,146054.1530258191,146268.41374375075,146268.41374375075,146482.67446168239,146482.67446168239,146696.93517961405,146696.93517961405,146696.93517961405,146911.1958975457,147018.3262565115,147125.45661547733,147125.45661547733,147125.45661547733,147125.45661547733,147125.45661547733,147125.45661547733,147125.45661547733,147125.45661547733,147125.45661547733,147446.84769237484,147553.97805134064,147982.49948720395,147982.49948720395,147982.49948720395,147982.49948720395,148303.8905641014,148411.02092306723,148411.02092306723,148411.02092306723,148625.2816409989,148625.2816409989,148625.2816409989,148732.41199996474,148839.54235893054,148839.54235893054,148946.67271789638,148946.67271789638,149053.80307686218,149053.80307686218,149053.80307686218,149053.80307686218,149053.80307686218,149268.06379479385,149268.06379479385,149375.1941537597,149375.1941537597,149589.45487169133,149696.58523065716,149696.58523065716,149696.58523065716,149696.58523065716,149696.58523065716,149696.58523065716,149803.71558962297,149910.8459485888,150125.10666652044,150125.10666652044,150232.23702548628,150232.23702548628,150339.3673844521,150339.3673844521,150553.62810238375,150553.62810238375,150767.8888203154,150875.01917928123,150982.14953824706,150982.14953824706,150982.14953824706,151410.67097411034,151517.80133307618,151624.931692042,151839.19240997365,152053.4531279053,152160.58348687112,152267.71384583696,152267.71384583696,152481.9745637686,152481.9745637686,152481.9745637686,152481.9745637686,152589.10492273443,152696.23528170027,152696.23528170027,152696.23528170027,152696.23528170027,152696.23528170027,152803.36564066607,152803.36564066607,153124.75671756355,153339.01743549522,153339.01743549522,153339.01743549522,153339.01743549522,153660.4085123927,153767.5388713585,153767.5388713585,153981.79958929017,154088.92994825597,154196.0603072218,154196.0603072218,154410.32102515345,154410.32102515345,154410.32102515345,154517.45138411928,154517.45138411928,154731.71210205092,155053.1031789484,155267.36389688007,155374.49425584587,155588.75497377754,156017.27640964085,156124.40676860666,156231.5371275725,156231.5371275725,156445.79784550413,156552.92820446996,156874.31928136744,157195.7103582649,157195.7103582649,157195.7103582649,157409.97107619655,157409.97107619655,157517.1014351624,157624.23179412822,157945.6228710257,157945.6228710257,158052.7532299915,158052.7532299915,158052.7532299915,158052.7532299915,158052.7532299915,158267.01394792317,158481.2746658548,158481.2746658548,158481.2746658548,158695.53538378645,158802.6657427523,158909.79610171812,158909.79610171812,159338.31753758143,159338.31753758143,159338.31753758143,159338.31753758143,159338.31753758143,159552.57825551307,159552.57825551307,159552.57825551307,159659.7086144789,159873.96933241055,159981.09969137638,159981.09969137638,160195.36040930802,160409.62112723966,160409.62112723966,160409.62112723966,160731.01220413714,160838.14256310297,160838.14256310297,160838.14256310297,161480.92471689792,161695.18543482956,161695.18543482956,161802.3157937954,161802.3157937954,161802.3157937954,161802.3157937954,161909.44615276123,162016.57651172703,162016.57651172703,162123.70687069287,162123.70687069287,162337.96758862454,162445.09794759034,162552.22830655618,162552.22830655618,162552.22830655618,162552.22830655618,162552.22830655618,162552.22830655618,162552.22830655618,162766.48902448782,162873.61938345365,162980.7497424195,162980.7497424195,163087.8801013853,163195.01046035113,163195.01046035113,163409.27117828277,163409.27117828277,163409.27117828277,163730.66225518024,163730.66225518024,163944.9229731119,164052.05333207772,164052.05333207772,164266.3140500094,164266.3140500094,164266.3140500094,164480.57476794103,164480.57476794103,164480.57476794103,164480.57476794103,164587.70512690686,164587.70512690686,164587.70512690686,164694.83548587267,164801.9658448385,164801.9658448385,165016.22656277014,165016.22656277014,165123.35692173598,165123.35692173598,165123.35692173598,165230.4872807018,165337.61763966762,165337.61763966762,165551.8783575993,165766.13907553093,165873.26943449676,165873.26943449676,165980.3997934626,165980.3997934626,166194.66051139424,166516.0515882917,166623.18194725754,166623.18194725754,166623.18194725754,166623.18194725754,166730.31230622335,166730.31230622335,166944.57302415502,167051.70338312082,167158.83374208666,167373.0944600183,167373.0944600183,167587.35517794997,167694.48553691577,167694.48553691577,167694.48553691577,167694.48553691577,167694.48553691577,167801.6158958816,167908.74625484744,167908.74625484744,168015.87661381325,168123.00697277908,168551.5284086424,168765.78912657403,169087.1802034715,169194.31056243734,169729.96235726646,169837.0927162323,169837.0927162323,169837.0927162323,170051.35343416393,170051.35343416393,170051.35343416393,170051.35343416393,170265.6141520956,170265.6141520956,170265.6141520956,170265.6141520956,170587.00522899308,170587.00522899308,170908.39630589055,170908.39630589055,170908.39630589055,171229.78738278802,171336.91774175383,171336.91774175383,171551.1784596855,171551.1784596855,171658.3088186513,171765.43917761714,171765.43917761714,171765.43917761714,171872.56953658297,171872.56953658297,171979.6998955488,171979.6998955488,171979.6998955488,172193.96061348045,172408.2213314121,172515.35169037792,172515.35169037792,172836.7427672754,172836.7427672754,172836.7427672754,172836.7427672754,172943.87312624123,172943.87312624123,173051.00348520704,173051.00348520704,173051.00348520704,173051.00348520704,173372.3945621045,173479.52492107035,174122.3070748653,174122.3070748653,174229.43743383113,174550.8285107286,174550.8285107286,174550.8285107286,174550.8285107286,174550.8285107286,174550.8285107286,174550.8285107286,174550.8285107286,174550.8285107286,174550.8285107286,174765.08922866025,174765.08922866025,174872.21958762608,175407.8713824552,175407.8713824552,175622.13210038687,175622.13210038687,175622.13210038687,175836.3928183185,175943.52317728434,176050.65353625015,176050.65353625015,176050.65353625015,176157.78389521598,176264.91425418181,176264.91425418181,176264.91425418181,176372.04461314762,176479.17497211345,176586.3053310793,176693.4356900451,176800.56604901093,176907.69640797676,176907.69640797676,176907.69640797676,177014.82676694257,177014.82676694257,177014.82676694257,177014.82676694257,177229.08748487424,177336.21784384004,177336.21784384004,177336.21784384004,177550.4785617717,177550.4785617717,177550.4785617717,177550.4785617717,177550.4785617717,177550.4785617717,177764.73927970335,177871.8696386692,178086.13035660083,178086.13035660083,178086.13035660083,178193.26071556666,178514.65179246414,178621.78215142997,178621.78215142997,178621.78215142997,178621.78215142997,178621.78215142997,178621.78215142997,178836.0428693616,178836.0428693616,179050.30358729325,179050.30358729325,179264.56430522492,179264.56430522492,179264.56430522492,179371.69466419073,179371.69466419073,179371.69466419073,179478.82502315656,179478.82502315656,179478.82502315656,179478.82502315656,179693.0857410882,179693.0857410882,179693.0857410882,179800.21610005404,179800.21610005404,179907.34645901987,179907.34645901987,180014.47681798568,180228.73753591735,180228.73753591735,180228.73753591735,180335.86789488315,180442.998253849,180550.12861281482,180657.25897178063,180978.6500486781,181085.78040764394,181085.78040764394,181192.91076660977,181407.1714845414,181407.1714845414,181621.43220247308,181728.56256143888,181835.69292040472,181835.69292040472,181942.82327937055,181942.82327937055,182049.95363833636,182049.95363833636,182371.34471523383,182478.47507419967,182478.47507419967,182799.86615109714,183014.12686902878,183014.12686902878,183014.12686902878,183121.25722799462,183228.38758696045,183442.6483048921,183442.6483048921,183656.90902282373,183656.90902282373,184299.69117661868,184406.82153558452,184406.82153558452,184621.08225351616,184835.34297144783,184835.34297144783,184942.47333041366,185049.60368937947,185156.7340483453,185156.7340483453,185263.86440731114,185263.86440731114,185370.99476627694,185478.12512524278,185478.12512524278,185585.2554842086,185692.38584317442,185692.38584317442,185799.51620214025,186013.7769200719,186120.90727903772,186120.90727903772,186335.16799696937,186442.2983559352,186442.2983559352,186656.55907386684,186870.8197917985,186870.8197917985,186977.9501507643,186977.9501507643,187085.08050973015,187085.08050973015,187085.08050973015,187085.08050973015,187192.21086869598,187192.21086869598,187299.3412276618,187406.47158662762,187406.47158662762,187406.47158662762,187513.60194559346,187620.73230455926,187620.73230455926,187834.99302249093,188049.25374042257,188049.25374042257,188263.51445835424,188477.77517628588,188692.03589421752,188692.03589421752,188692.03589421752,188906.2966121492,189227.68768904667,189227.68768904667,189227.68768904667,189441.9484069783,189977.60020180742,189977.60020180742,189977.60020180742,190084.73056077326,190084.73056077326,190084.73056077326,190191.8609197391,190298.9912787049,190406.12163767073,190406.12163767073,190406.12163767073,190513.25199663657,190834.64307353404,191048.90379146568,191156.03415043151,191477.425227329,191691.68594526063,191691.68594526063,191691.68594526063,191798.81630422646,192120.20738112394,192120.20738112394,192120.20738112394,192227.33774008977,192334.46809905558,192548.72881698725,192655.85917595305,192762.9895349189,192762.9895349189,192762.9895349189,193084.38061181636,193084.38061181636,193191.5109707822,193191.5109707822,193405.77168871384,193405.77168871384,193405.77168871384,193405.77168871384,193620.03240664548,193727.1627656113,193727.1627656113,193834.29312457715,194048.5538425088,194155.68420147462,194262.81456044043,194262.81456044043,194262.81456044043,194369.94491940626,194691.33599630374,194691.33599630374,194691.33599630374,194905.5967142354,194905.5967142354,194905.5967142354,194905.5967142354,195012.7270732012,195012.7270732012,195012.7270732012,195441.24850906452,195548.37886803036,195548.37886803036,195548.37886803036,195548.37886803036,195762.639585962,195976.90030389364,195976.90030389364,195976.90030389364,195976.90030389364,195976.90030389364,196084.03066285947,196191.1610218253,196298.2913807911,196405.42173975694,196405.42173975694,196405.42173975694,196512.55209872278,196512.55209872278,196512.55209872278,196726.81281665442,196833.94317562025,196833.94317562025,196833.94317562025,196833.94317562025,196941.07353458606,196941.07353458606,197048.2038935519,197262.46461148353,197262.46461148353,197262.46461148353,197262.46461148353,197476.7253294152,197583.855688381,197905.2467652785,197905.2467652785,198012.37712424432,198440.89856010763,198548.02891907346,198548.02891907346,198548.02891907346,198548.02891907346,198762.2896370051,198762.2896370051,198869.41999597094,198976.55035493674,199190.8110728684,199297.94143183422,199405.07179080005,199512.2021497659,199512.2021497659,199512.2021497659,199619.3325087317,199619.3325087317,199726.46286769753,199833.59322666336,200047.853944595,200047.853944595,200047.853944595,200047.853944595,200262.11466252664,200476.3753804583,200583.50573942412,200690.63609838995,200690.63609838995,200797.76645735578,200904.89681632162,201119.15753425326,201440.54861115073,201547.67897011657,201654.80932908237,201654.80932908237,201654.80932908237,201654.80932908237,201761.9396880482,201761.9396880482,201761.9396880482,201761.9396880482,201761.9396880482,201976.20040597985,202083.33076494568,202190.46112391152,202404.72184184316,202404.72184184316,202404.72184184316,202404.72184184316,202511.852200809,202511.852200809,202511.852200809,202618.9825597748,202618.9825597748,202618.9825597748,202726.11291874063,202833.24327770647,202833.24327770647,202833.24327770647,202940.37363667227,202940.37363667227,203261.76471356975,203261.76471356975,203368.89507253558,203476.02543150142,203690.28614943306,203690.28614943306,203690.28614943306,203690.28614943306,203690.28614943306,203690.28614943306,203690.28614943306,204118.80758529637,204225.9379442622,204225.9379442622,204333.068303228,204333.068303228,204333.068303228,204333.068303228,204761.58973909132,204868.72009805715,204975.85045702296,205190.11117495463,205190.11117495463,205297.24153392043,205404.37189288627,205618.6326108179,206047.15404668121,206047.15404668121,206261.41476461285,206261.41476461285,206689.93620047616,207225.58799530528,207332.7183542711,207546.97907220278,207761.23979013442,207868.37014910026,207975.50050806606,207975.50050806606,207975.50050806606,207975.50050806606,207975.50050806606,207975.50050806606,208296.89158496354,208618.282661861,208618.282661861,208725.41302082685,208832.54337979268,208832.54337979268,208832.54337979268,209153.93445669016,209153.93445669016,209689.58625151927,209903.8469694509,209903.8469694509,209903.8469694509,210010.97732841675,210118.10768738258,210118.10768738258,210332.36840531422,210332.36840531422,210546.62912324586,210546.62912324586,210546.62912324586,210546.62912324586,210868.02020014336,210868.02020014336,210868.02020014336,210975.15055910917,210975.15055910917,211082.280918075,211403.67199497248,211403.67199497248,211403.67199497248,211403.67199497248,211510.8023539383,211510.8023539383,211617.93271290412,211725.06307186995,211832.1934308358,212582.10594359654,212689.23630256238,212689.23630256238,213332.01845635733,213546.27917428897,213546.27917428897,213974.80061015228,213974.80061015228,213974.80061015228,214189.06132808395,214189.06132808395,214403.3220460156,214510.45240498142,215260.36491774218,215260.36491774218,215474.62563567384,215474.62563567384,215581.75599463965,215581.75599463965,215581.75599463965,215688.88635360549,215903.14707153713,216117.4077894688,216117.4077894688,216117.4077894688,216224.5381484346,216331.66850740043,216545.92922533207,216760.18994326374,216760.18994326374,216867.32030222955,216974.45066119538,216974.45066119538,217295.84173809286,217295.84173809286,217402.9720970587,217938.6238918878,218152.88460981948,218367.14532775112,218581.40604568276,218688.5364046486,218688.5364046486,218795.66676361443,218795.66676361443,219117.0578405119,219117.0578405119,219545.57927637518,220616.88286603344,220831.1435839651,220938.27394293091,221473.92573776006,221581.05609672586,222330.96860948665,222330.96860948665,222545.2293274183,222545.2293274183,222652.35968638412,222973.7507632816,222973.7507632816,223295.14184017907,223402.2721991449,223509.40255811074,223723.66327604238,224152.1847119057,224259.3150708715,224259.3150708715,224259.3150708715,224473.57578880317,224473.57578880317,224580.70614776897,224687.8365067348,225116.35794259812,225116.35794259812,225116.35794259812,225223.48830156392,225544.8793784614,225652.00973742723,225866.27045535887,225866.27045535887,225973.4008143247,226294.79189122218,226401.922250188,226830.44368605132,227151.8347629488,227258.9651219146,227366.09548088044,227473.22583984627,227794.61691674375,227794.61691674375,227901.74727570955,228330.26871157286,228330.26871157286,228437.3990705387,228437.3990705387,228437.3990705387,228544.5294295045,228544.5294295045,228651.65978847034,228758.79014743617,228973.0508653678,228973.0508653678,229401.57230123112,229401.57230123112,229508.70266019693,229615.83301916276,229722.9633781286,229937.22409606024,230258.6151729577,230365.74553192355,230472.87589088938,230687.13660882102,230794.26696778685,230901.39732675266,231008.5276857185,231329.91876261597,231437.0491215818,231651.30983951344,231865.57055744508,231972.70091641092,232079.83127537675,232829.7437881375,233044.00450606918,233579.6563008983,233686.78665986413,234222.43845469324,234758.09024952239,234865.2206084882,234972.35096745403,234972.35096745403,234972.35096745403,235079.48132641986,235186.61168538567,235829.39383918062,236043.65455711228,236150.7849160781,236150.7849160781,236472.1759929756,236579.3063519414,236686.43671090723,237329.21886470218,237757.7403005655,237757.7403005655,238614.78317229208,238936.17424918956,239043.3046081554,239257.56532608703,239257.56532608703,239471.82604401867,240221.73855677946,240650.25999264276,240971.65106954024,241185.91178747188,241400.17250540355,241400.17250540355,241614.4332233352,241828.69394126683,241828.69394126683,242150.0850181643,242471.47609506178,242471.47609506178,242471.47609506178,242792.86717195925,242899.9975309251,243221.38860782256,243221.38860782256,243221.38860782256,243328.5189667884,244399.82255644666,244614.0832743783,244614.0832743783,244828.34399230994,244935.47435127577,245363.99578713908,245578.25650507072,245792.51722300236,246328.1690178315,246435.29937679734,246435.29937679734,246970.95117162645,247185.2118895581,247399.47260748976,247613.7333254214,248042.2547612847,248256.51547921635,248792.16727404547,249220.68870990878,249542.07978680625,249649.2101457721,249756.34050473792,250077.7315816354,250720.51373543034,250934.77445336198,251256.16553025946,252434.59947888352,252541.72983784936,253398.77270957598,253827.29414543926,254041.55486337093,254255.81558130257,254362.9459402684,255005.72809406335,255327.11917096082,256077.0316837216,256719.81383751656,256826.94419648236,257362.5959913115,257469.7263502773,257898.24778614062,258112.50850407226,258541.02993993557,258862.42101683305,260255.11568338878,260576.50676028625,260683.6371192521,260897.89783718373,261005.02819614956,261005.02819614956,261005.02819614956,261433.54963201284,261754.94070891032,262183.4621447736,263361.89609339775,263576.15681132936,263897.5478882268,263897.5478882268,264004.67824719264,264004.67824719264,264433.199683056,264540.3300420218,267111.4586572016,267111.4586572016,267539.9800930649,268075.631887894,268397.0229647915,268932.6747596206,269254.0658365181,269682.5872723814,269789.71763134724,270646.7605030738,271182.412297903,271182.412297903,271825.19445169787,271932.3248106637,272682.23732342455,272896.49804135616,273110.75875928777,273539.2801951511,274824.844502741,274824.844502741,275467.62665653595,275896.14809239923,276003.27845136507,277181.71239998913,277503.10347688664,277610.2338358525,280717.01424586144,280824.1446048273,281038.40532275883,281252.6660406905,281252.6660406905,282323.9696303487,282752.49106621207,282966.75178414374,283502.4035789729,284466.5768096653,286823.44470691343,287894.74829657166,288001.8786555375,288430.40009140084,288537.53045036667,288537.53045036667,288644.6608093325,288966.0518862299,289180.31260416156,289180.31260416156,289715.96439899073,292179.9626552047,292287.09301417053,294322.56983452116,294536.8305524528,296679.4377317694,297000.8288086668,297215.08952659846,298179.26275729085,298393.5234752225,298607.7841931542,299250.5663469492,299464.82706488087,299679.0877828124,300321.8699366074,300643.26101350493,300750.39137247077,301393.17352626566,301714.56460316316,302035.95568006067,302892.9985517872,304392.8235773088,307392.47362835193,308249.5165000785,309213.6897307709,309427.95044870256,310713.51475629245,310820.6451152583,311034.90583318996,315855.77198665205,316819.94521734444,317676.9880890711,317891.2488070028,319605.3345504559,320890.8988580458,321533.6810118408,325818.89537047385,326247.4168063371,326247.4168063371,329032.80613944854,334067.9330108423,337603.2348567146,348744.79218916036,349173.3136250237,351958.70295813517,354958.3530091783,360743.3923933328,363743.0424443759,364385.82459817093,365457.12818782916,369849.47290542803,382276.5945454637,387847.3732116866,392775.36972411454,405095.3610051845,407130.8378255352,480943.65515298874,498084.51258752076,519510.5843806858,622998.511141673],\"yaxis\":\"y\",\"type\":\"scattergl\"}],                        {\"template\":{\"data\":{\"bar\":[{\"error_x\":{\"color\":\"#2a3f5f\"},\"error_y\":{\"color\":\"#2a3f5f\"},\"marker\":{\"line\":{\"color\":\"#E5ECF6\",\"width\":0.5},\"pattern\":{\"fillmode\":\"overlay\",\"size\":10,\"solidity\":0.2}},\"type\":\"bar\"}],\"barpolar\":[{\"marker\":{\"line\":{\"color\":\"#E5ECF6\",\"width\":0.5},\"pattern\":{\"fillmode\":\"overlay\",\"size\":10,\"solidity\":0.2}},\"type\":\"barpolar\"}],\"carpet\":[{\"aaxis\":{\"endlinecolor\":\"#2a3f5f\",\"gridcolor\":\"white\",\"linecolor\":\"white\",\"minorgridcolor\":\"white\",\"startlinecolor\":\"#2a3f5f\"},\"baxis\":{\"endlinecolor\":\"#2a3f5f\",\"gridcolor\":\"white\",\"linecolor\":\"white\",\"minorgridcolor\":\"white\",\"startlinecolor\":\"#2a3f5f\"},\"type\":\"carpet\"}],\"choropleth\":[{\"colorbar\":{\"outlinewidth\":0,\"ticks\":\"\"},\"type\":\"choropleth\"}],\"contour\":[{\"colorbar\":{\"outlinewidth\":0,\"ticks\":\"\"},\"colorscale\":[[0.0,\"#0d0887\"],[0.1111111111111111,\"#46039f\"],[0.2222222222222222,\"#7201a8\"],[0.3333333333333333,\"#9c179e\"],[0.4444444444444444,\"#bd3786\"],[0.5555555555555556,\"#d8576b\"],[0.6666666666666666,\"#ed7953\"],[0.7777777777777778,\"#fb9f3a\"],[0.8888888888888888,\"#fdca26\"],[1.0,\"#f0f921\"]],\"type\":\"contour\"}],\"contourcarpet\":[{\"colorbar\":{\"outlinewidth\":0,\"ticks\":\"\"},\"type\":\"contourcarpet\"}],\"heatmap\":[{\"colorbar\":{\"outlinewidth\":0,\"ticks\":\"\"},\"colorscale\":[[0.0,\"#0d0887\"],[0.1111111111111111,\"#46039f\"],[0.2222222222222222,\"#7201a8\"],[0.3333333333333333,\"#9c179e\"],[0.4444444444444444,\"#bd3786\"],[0.5555555555555556,\"#d8576b\"],[0.6666666666666666,\"#ed7953\"],[0.7777777777777778,\"#fb9f3a\"],[0.8888888888888888,\"#fdca26\"],[1.0,\"#f0f921\"]],\"type\":\"heatmap\"}],\"heatmapgl\":[{\"colorbar\":{\"outlinewidth\":0,\"ticks\":\"\"},\"colorscale\":[[0.0,\"#0d0887\"],[0.1111111111111111,\"#46039f\"],[0.2222222222222222,\"#7201a8\"],[0.3333333333333333,\"#9c179e\"],[0.4444444444444444,\"#bd3786\"],[0.5555555555555556,\"#d8576b\"],[0.6666666666666666,\"#ed7953\"],[0.7777777777777778,\"#fb9f3a\"],[0.8888888888888888,\"#fdca26\"],[1.0,\"#f0f921\"]],\"type\":\"heatmapgl\"}],\"histogram\":[{\"marker\":{\"pattern\":{\"fillmode\":\"overlay\",\"size\":10,\"solidity\":0.2}},\"type\":\"histogram\"}],\"histogram2d\":[{\"colorbar\":{\"outlinewidth\":0,\"ticks\":\"\"},\"colorscale\":[[0.0,\"#0d0887\"],[0.1111111111111111,\"#46039f\"],[0.2222222222222222,\"#7201a8\"],[0.3333333333333333,\"#9c179e\"],[0.4444444444444444,\"#bd3786\"],[0.5555555555555556,\"#d8576b\"],[0.6666666666666666,\"#ed7953\"],[0.7777777777777778,\"#fb9f3a\"],[0.8888888888888888,\"#fdca26\"],[1.0,\"#f0f921\"]],\"type\":\"histogram2d\"}],\"histogram2dcontour\":[{\"colorbar\":{\"outlinewidth\":0,\"ticks\":\"\"},\"colorscale\":[[0.0,\"#0d0887\"],[0.1111111111111111,\"#46039f\"],[0.2222222222222222,\"#7201a8\"],[0.3333333333333333,\"#9c179e\"],[0.4444444444444444,\"#bd3786\"],[0.5555555555555556,\"#d8576b\"],[0.6666666666666666,\"#ed7953\"],[0.7777777777777778,\"#fb9f3a\"],[0.8888888888888888,\"#fdca26\"],[1.0,\"#f0f921\"]],\"type\":\"histogram2dcontour\"}],\"mesh3d\":[{\"colorbar\":{\"outlinewidth\":0,\"ticks\":\"\"},\"type\":\"mesh3d\"}],\"parcoords\":[{\"line\":{\"colorbar\":{\"outlinewidth\":0,\"ticks\":\"\"}},\"type\":\"parcoords\"}],\"pie\":[{\"automargin\":true,\"type\":\"pie\"}],\"scatter\":[{\"marker\":{\"colorbar\":{\"outlinewidth\":0,\"ticks\":\"\"}},\"type\":\"scatter\"}],\"scatter3d\":[{\"line\":{\"colorbar\":{\"outlinewidth\":0,\"ticks\":\"\"}},\"marker\":{\"colorbar\":{\"outlinewidth\":0,\"ticks\":\"\"}},\"type\":\"scatter3d\"}],\"scattercarpet\":[{\"marker\":{\"colorbar\":{\"outlinewidth\":0,\"ticks\":\"\"}},\"type\":\"scattercarpet\"}],\"scattergeo\":[{\"marker\":{\"colorbar\":{\"outlinewidth\":0,\"ticks\":\"\"}},\"type\":\"scattergeo\"}],\"scattergl\":[{\"marker\":{\"colorbar\":{\"outlinewidth\":0,\"ticks\":\"\"}},\"type\":\"scattergl\"}],\"scattermapbox\":[{\"marker\":{\"colorbar\":{\"outlinewidth\":0,\"ticks\":\"\"}},\"type\":\"scattermapbox\"}],\"scatterpolar\":[{\"marker\":{\"colorbar\":{\"outlinewidth\":0,\"ticks\":\"\"}},\"type\":\"scatterpolar\"}],\"scatterpolargl\":[{\"marker\":{\"colorbar\":{\"outlinewidth\":0,\"ticks\":\"\"}},\"type\":\"scatterpolargl\"}],\"scatterternary\":[{\"marker\":{\"colorbar\":{\"outlinewidth\":0,\"ticks\":\"\"}},\"type\":\"scatterternary\"}],\"surface\":[{\"colorbar\":{\"outlinewidth\":0,\"ticks\":\"\"},\"colorscale\":[[0.0,\"#0d0887\"],[0.1111111111111111,\"#46039f\"],[0.2222222222222222,\"#7201a8\"],[0.3333333333333333,\"#9c179e\"],[0.4444444444444444,\"#bd3786\"],[0.5555555555555556,\"#d8576b\"],[0.6666666666666666,\"#ed7953\"],[0.7777777777777778,\"#fb9f3a\"],[0.8888888888888888,\"#fdca26\"],[1.0,\"#f0f921\"]],\"type\":\"surface\"}],\"table\":[{\"cells\":{\"fill\":{\"color\":\"#EBF0F8\"},\"line\":{\"color\":\"white\"}},\"header\":{\"fill\":{\"color\":\"#C8D4E3\"},\"line\":{\"color\":\"white\"}},\"type\":\"table\"}]},\"layout\":{\"annotationdefaults\":{\"arrowcolor\":\"#2a3f5f\",\"arrowhead\":0,\"arrowwidth\":1},\"autotypenumbers\":\"strict\",\"coloraxis\":{\"colorbar\":{\"outlinewidth\":0,\"ticks\":\"\"}},\"colorscale\":{\"diverging\":[[0,\"#8e0152\"],[0.1,\"#c51b7d\"],[0.2,\"#de77ae\"],[0.3,\"#f1b6da\"],[0.4,\"#fde0ef\"],[0.5,\"#f7f7f7\"],[0.6,\"#e6f5d0\"],[0.7,\"#b8e186\"],[0.8,\"#7fbc41\"],[0.9,\"#4d9221\"],[1,\"#276419\"]],\"sequential\":[[0.0,\"#0d0887\"],[0.1111111111111111,\"#46039f\"],[0.2222222222222222,\"#7201a8\"],[0.3333333333333333,\"#9c179e\"],[0.4444444444444444,\"#bd3786\"],[0.5555555555555556,\"#d8576b\"],[0.6666666666666666,\"#ed7953\"],[0.7777777777777778,\"#fb9f3a\"],[0.8888888888888888,\"#fdca26\"],[1.0,\"#f0f921\"]],\"sequentialminus\":[[0.0,\"#0d0887\"],[0.1111111111111111,\"#46039f\"],[0.2222222222222222,\"#7201a8\"],[0.3333333333333333,\"#9c179e\"],[0.4444444444444444,\"#bd3786\"],[0.5555555555555556,\"#d8576b\"],[0.6666666666666666,\"#ed7953\"],[0.7777777777777778,\"#fb9f3a\"],[0.8888888888888888,\"#fdca26\"],[1.0,\"#f0f921\"]]},\"colorway\":[\"#636efa\",\"#EF553B\",\"#00cc96\",\"#ab63fa\",\"#FFA15A\",\"#19d3f3\",\"#FF6692\",\"#B6E880\",\"#FF97FF\",\"#FECB52\"],\"font\":{\"color\":\"#2a3f5f\"},\"geo\":{\"bgcolor\":\"white\",\"lakecolor\":\"white\",\"landcolor\":\"#E5ECF6\",\"showlakes\":true,\"showland\":true,\"subunitcolor\":\"white\"},\"hoverlabel\":{\"align\":\"left\"},\"hovermode\":\"closest\",\"mapbox\":{\"style\":\"light\"},\"paper_bgcolor\":\"white\",\"plot_bgcolor\":\"#E5ECF6\",\"polar\":{\"angularaxis\":{\"gridcolor\":\"white\",\"linecolor\":\"white\",\"ticks\":\"\"},\"bgcolor\":\"#E5ECF6\",\"radialaxis\":{\"gridcolor\":\"white\",\"linecolor\":\"white\",\"ticks\":\"\"}},\"scene\":{\"xaxis\":{\"backgroundcolor\":\"#E5ECF6\",\"gridcolor\":\"white\",\"gridwidth\":2,\"linecolor\":\"white\",\"showbackground\":true,\"ticks\":\"\",\"zerolinecolor\":\"white\"},\"yaxis\":{\"backgroundcolor\":\"#E5ECF6\",\"gridcolor\":\"white\",\"gridwidth\":2,\"linecolor\":\"white\",\"showbackground\":true,\"ticks\":\"\",\"zerolinecolor\":\"white\"},\"zaxis\":{\"backgroundcolor\":\"#E5ECF6\",\"gridcolor\":\"white\",\"gridwidth\":2,\"linecolor\":\"white\",\"showbackground\":true,\"ticks\":\"\",\"zerolinecolor\":\"white\"}},\"shapedefaults\":{\"line\":{\"color\":\"#2a3f5f\"}},\"ternary\":{\"aaxis\":{\"gridcolor\":\"white\",\"linecolor\":\"white\",\"ticks\":\"\"},\"baxis\":{\"gridcolor\":\"white\",\"linecolor\":\"white\",\"ticks\":\"\"},\"bgcolor\":\"#E5ECF6\",\"caxis\":{\"gridcolor\":\"white\",\"linecolor\":\"white\",\"ticks\":\"\"}},\"title\":{\"x\":0.05},\"xaxis\":{\"automargin\":true,\"gridcolor\":\"white\",\"linecolor\":\"white\",\"ticks\":\"\",\"title\":{\"standoff\":15},\"zerolinecolor\":\"white\",\"zerolinewidth\":2},\"yaxis\":{\"automargin\":true,\"gridcolor\":\"white\",\"linecolor\":\"white\",\"ticks\":\"\",\"title\":{\"standoff\":15},\"zerolinecolor\":\"white\",\"zerolinewidth\":2}}},\"xaxis\":{\"anchor\":\"y\",\"domain\":[0.0,1.0],\"title\":{\"text\":\"x\"}},\"yaxis\":{\"anchor\":\"x\",\"domain\":[0.0,1.0],\"title\":{\"text\":\"y\"}},\"legend\":{\"tracegroupgap\":0},\"margin\":{\"t\":60},\"height\":600,\"width\":1000},                        {\"responsive\": true}                    ).then(function(){\n",
              "                            \n",
              "var gd = document.getElementById('d6088020-36b1-4678-8deb-e5cb767bd104');\n",
              "var x = new MutationObserver(function (mutations, observer) {{\n",
              "        var display = window.getComputedStyle(gd).display;\n",
              "        if (!display || display === 'none') {{\n",
              "            console.log([gd, 'removed!']);\n",
              "            Plotly.purge(gd);\n",
              "            observer.disconnect();\n",
              "        }}\n",
              "}});\n",
              "\n",
              "// Listen for the removal of the full notebook cells\n",
              "var notebookContainer = gd.closest('#notebook-container');\n",
              "if (notebookContainer) {{\n",
              "    x.observe(notebookContainer, {childList: true});\n",
              "}}\n",
              "\n",
              "// Listen for the clearing of the current output cell\n",
              "var outputEl = gd.closest('.output');\n",
              "if (outputEl) {{\n",
              "    x.observe(outputEl, {childList: true});\n",
              "}}\n",
              "\n",
              "                        })                };                            </script>        </div>\n",
              "</body>\n",
              "</html>"
            ]
          },
          "metadata": {}
        }
      ],
      "source": [
        "fig=px.scatter(x=train0['GrLivArea'],y=train0['SalePrice'],trendline='ols',width=1000, height=600)\n",
        "fig.show()"
      ]
    },
    {
      "cell_type": "code",
      "execution_count": null,
      "metadata": {
        "colab": {
          "base_uri": "https://localhost:8080/",
          "height": 551
        },
        "id": "l63-eBU8S4Sh",
        "outputId": "ff7eff12-abf4-4825-dc96-a616c195ef59"
      },
      "outputs": [
        {
          "output_type": "display_data",
          "data": {
            "text/plain": [
              "<Figure size 936x648 with 1 Axes>"
            ],
            "image/png": "[encoded data removed]"
          },
          "metadata": {}
        }
      ],
      "source": [
        "fig, ax = plt.subplots(figsize=(13,9))\n",
        "ax = sns.boxplot(x=\"OverallQual\", y=\"SalePrice\", data=train0)"
      ]
    },
    {
      "cell_type": "code",
      "execution_count": null,
      "metadata": {
        "colab": {
          "base_uri": "https://localhost:8080/",
          "height": 551
        },
        "id": "WfucXfq3T-Pl",
        "outputId": "e3fe6266-994a-4131-88e7-67af78f161b5"
      },
      "outputs": [
        {
          "output_type": "display_data",
          "data": {
            "text/plain": [
              "<Figure size 936x648 with 1 Axes>"
            ],
            "image/png": "[encoded data removed]"
          },
          "metadata": {}
        }
      ],
      "source": [
        "fig, ax = plt.subplots(figsize=(13,9))\n",
        "ax = sns.boxplot(x=\"GarageCars\", y=\"SalePrice\", data=train0)"
      ]
    },
    {
      "cell_type": "code",
      "execution_count": null,
      "metadata": {
        "id": "WGsZPOcQS4Qh"
      },
      "outputs": [],
      "source": [
        ""
      ]
    },
    {
      "cell_type": "code",
      "execution_count": null,
      "metadata": {
        "id": "3KuYAFGLS4OA"
      },
      "outputs": [],
      "source": [
        ""
      ]
    },
    {
      "cell_type": "code",
      "execution_count": null,
      "metadata": {
        "id": "9hTespT8S4Lo"
      },
      "outputs": [],
      "source": [
        ""
      ]
    },
    {
      "cell_type": "code",
      "execution_count": null,
      "metadata": {
        "id": "kf7r1IKRS4Ix"
      },
      "outputs": [],
      "source": [
        ""
      ]
    },
    {
      "cell_type": "code",
      "execution_count": null,
      "metadata": {
        "id": "f45Y6xkqS4GN"
      },
      "outputs": [],
      "source": [
        ""
      ]
    },
    {
      "cell_type": "markdown",
      "metadata": {
        "id": "osHzh-CCOcjt"
      },
      "source": [
        "**Feature Engineering**"
      ]
    },
    {
      "cell_type": "code",
      "execution_count": null,
      "metadata": {
        "id": "EjktIlenOcZg"
      },
      "outputs": [],
      "source": [
        "data4[\"SqFtPerRoom\"] = data4[\"GrLivArea\"] / (data4[\"TotRmsAbvGrd\"] + data4[\"FullBath\"] + data4[\"HalfBath\"] + data4[\"KitchenAbvGr\"])\n",
        "\n",
        "data4['HomeQuality'] = data4['OverallQual'] + data4['OverallCond']\n",
        "\n",
        "data4['Total_Bathrooms'] = (data4['FullBath'] + (0.5 * data4['HalfBath']) +\n",
        "                               data4['BsmtFullBath'] + (0.5 * data4['BsmtHalfBath']))\n",
        "\n",
        "data4[\"CombinedSF\"] = data4[\"1stFlrSF\"] + data4[\"2ndFlrSF\"]"
      ]
    },
    {
      "cell_type": "code",
      "execution_count": null,
      "metadata": {
        "id": "EdTLrt_nOf6D"
      },
      "outputs": [],
      "source": [
        "data5 = data4.copy()"
      ]
    },
    {
      "cell_type": "markdown",
      "metadata": {
        "id": "MLQBUQ59P_oi"
      },
      "source": [
        "**Feature Transformations**"
      ]
    },
    {
      "cell_type": "markdown",
      "metadata": {
        "id": "_lJAlHe9Qq1y"
      },
      "source": [
        "**Target Transformation**"
      ]
    },
    {
      "cell_type": "code",
      "execution_count": null,
      "metadata": {
        "colab": {
          "base_uri": "https://localhost:8080/",
          "height": 760
        },
        "id": "1yLrJyJbQroN",
        "outputId": "68cab8b0-7743-45a8-8dc3-8ce44d01aa29"
      },
      "outputs": [
        {
          "output_type": "stream",
          "name": "stderr",
          "text": [
            "/usr/local/lib/python3.7/dist-packages/seaborn/distributions.py:2619: FutureWarning:\n",
            "\n",
            "`distplot` is a deprecated function and will be removed in a future version. Please adapt your code to use either `displot` (a figure-level function with similar flexibility) or `histplot` (an axes-level function for histograms).\n",
            "\n",
            "/usr/local/lib/python3.7/dist-packages/seaborn/distributions.py:2619: FutureWarning:\n",
            "\n",
            "`distplot` is a deprecated function and will be removed in a future version. Please adapt your code to use either `displot` (a figure-level function with similar flexibility) or `histplot` (an axes-level function for histograms).\n",
            "\n"
          ]
        },
        {
          "output_type": "display_data",
          "data": {
            "text/plain": [
              "<Figure size 1440x720 with 2 Axes>"
            ],
            "image/png": "[encoded data removed]"
          },
          "metadata": {}
        }
      ],
      "source": [
        "plt.figure(figsize=(20, 10))\n",
        "\n",
        "plt.subplot(1, 2, 1)\n",
        "sns.distplot(target, kde=True, fit=scipy.stats.norm)\n",
        "plt.title(\"Without Log Transform\")\n",
        "\n",
        "plt.subplot(1, 2, 2)\n",
        "sns.distplot(np.log(target), kde=True, fit=scipy.stats.norm)\n",
        "plt.xlabel(\"Log SalePrice\")\n",
        "plt.title(\"With Log Transform\")\n",
        "\n",
        "plt.show()"
      ]
    },
    {
      "cell_type": "code",
      "execution_count": null,
      "metadata": {
        "id": "HPaVTVm1RAF5"
      },
      "outputs": [],
      "source": [
        "log_target = np.log(target)"
      ]
    },
    {
      "cell_type": "markdown",
      "metadata": {
        "id": "9zzCST_1GdMT"
      },
      "source": [
        "#StatesModel here\n"
      ]
    },
    {
      "cell_type": "code",
      "execution_count": null,
      "metadata": {
        "id": "Tlq_dpaGGdBC"
      },
      "outputs": [],
      "source": [
        ""
      ]
    },
    {
      "cell_type": "markdown",
      "metadata": {
        "id": "KYXeKU2YQBso"
      },
      "source": [
        "**Log Transform for Skewed Features**"
      ]
    },
    {
      "cell_type": "code",
      "execution_count": null,
      "metadata": {
        "colab": {
          "base_uri": "https://localhost:8080/",
          "height": 1000
        },
        "id": "yo7mE9QcQASH",
        "outputId": "6cdf9f1e-cb1a-454e-b1c1-5ae58fc1f602"
      },
      "outputs": [
        {
          "output_type": "execute_result",
          "data": {
            "text/plain": [
              "            Feature  Absolute Skew  Skewed\n",
              "0       LotFrontage       1.340751    True\n",
              "1           LotArea      12.822431    True\n",
              "2       OverallQual       0.197110   False\n",
              "3       OverallCond       0.570312    True\n",
              "4         YearBuilt       0.599806    True\n",
              "5      YearRemodAdd       0.451020   False\n",
              "6        MasVnrArea       2.603682    True\n",
              "7        BsmtFinSF1       1.425516    True\n",
              "8        BsmtFinSF2       4.146111    True\n",
              "9         BsmtUnfSF       0.919322    True\n",
              "10      TotalBsmtSF       1.162806    True\n",
              "11         1stFlrSF       1.469604    True\n",
              "12         2ndFlrSF       0.861675    True\n",
              "13     LowQualFinSF      12.088761    True\n",
              "14        GrLivArea       1.269358    True\n",
              "15     BsmtFullBath       0.624373    True\n",
              "16     BsmtHalfBath       3.931594    True\n",
              "17         FullBath       0.167606   False\n",
              "18         HalfBath       0.694566    True\n",
              "19     BedroomAbvGr       0.326324   False\n",
              "20     KitchenAbvGr       4.302254    True\n",
              "21     TotRmsAbvGrd       0.758367    True\n",
              "22       Fireplaces       0.733495    True\n",
              "23      GarageYrBlt       0.346327   False\n",
              "24       GarageCars       0.218593   False\n",
              "25       GarageArea       0.240896   False\n",
              "26       WoodDeckSF       1.842433    True\n",
              "27      OpenPorchSF       2.535114    True\n",
              "28    EnclosedPorch       4.003891    True\n",
              "29        3SsnPorch      11.376065    True\n",
              "30      ScreenPorch       3.946694    True\n",
              "31         PoolArea      16.898328    True\n",
              "32          MiscVal      21.947195    True\n",
              "33           MoSold       0.195884   False\n",
              "34           YrSold       0.132399   False\n",
              "35      SqFtPerRoom       0.893992    True\n",
              "36      HomeQuality       0.564123    True\n",
              "37  Total_Bathrooms       0.493402   False\n",
              "38       CombinedSF       1.252036    True"
            ],
            "text/html": [
              "\n",
              "  <div id=\"df-7f7a4139-24fd-4865-8c38-0d7b99b0a721\">\n",
              "    <div class=\"colab-df-container\">\n",
              "      <div>\n",
              "<style scoped>\n",
              "    .dataframe tbody tr th:only-of-type {\n",
              "        vertical-align: middle;\n",
              "    }\n",
              "\n",
              "    .dataframe tbody tr th {\n",
              "        vertical-align: top;\n",
              "    }\n",
              "\n",
              "    .dataframe thead th {\n",
              "        text-align: right;\n",
              "    }\n",
              "</style>\n",
              "<table border=\"1\" class=\"dataframe\">\n",
              "  <thead>\n",
              "    <tr style=\"text-align: right;\">\n",
              "      <th></th>\n",
              "      <th>Feature</th>\n",
              "      <th>Absolute Skew</th>\n",
              "      <th>Skewed</th>\n",
              "    </tr>\n",
              "  </thead>\n",
              "  <tbody>\n",
              "    <tr>\n",
              "      <th>0</th>\n",
              "      <td>LotFrontage</td>\n",
              "      <td>1.340751</td>\n",
              "      <td>True</td>\n",
              "    </tr>\n",
              "    <tr>\n",
              "      <th>1</th>\n",
              "      <td>LotArea</td>\n",
              "      <td>12.822431</td>\n",
              "      <td>True</td>\n",
              "    </tr>\n",
              "    <tr>\n",
              "      <th>2</th>\n",
              "      <td>OverallQual</td>\n",
              "      <td>0.197110</td>\n",
              "      <td>False</td>\n",
              "    </tr>\n",
              "    <tr>\n",
              "      <th>3</th>\n",
              "      <td>OverallCond</td>\n",
              "      <td>0.570312</td>\n",
              "      <td>True</td>\n",
              "    </tr>\n",
              "    <tr>\n",
              "      <th>4</th>\n",
              "      <td>YearBuilt</td>\n",
              "      <td>0.599806</td>\n",
              "      <td>True</td>\n",
              "    </tr>\n",
              "    <tr>\n",
              "      <th>5</th>\n",
              "      <td>YearRemodAdd</td>\n",
              "      <td>0.451020</td>\n",
              "      <td>False</td>\n",
              "    </tr>\n",
              "    <tr>\n",
              "      <th>6</th>\n",
              "      <td>MasVnrArea</td>\n",
              "      <td>2.603682</td>\n",
              "      <td>True</td>\n",
              "    </tr>\n",
              "    <tr>\n",
              "      <th>7</th>\n",
              "      <td>BsmtFinSF1</td>\n",
              "      <td>1.425516</td>\n",
              "      <td>True</td>\n",
              "    </tr>\n",
              "    <tr>\n",
              "      <th>8</th>\n",
              "      <td>BsmtFinSF2</td>\n",
              "      <td>4.146111</td>\n",
              "      <td>True</td>\n",
              "    </tr>\n",
              "    <tr>\n",
              "      <th>9</th>\n",
              "      <td>BsmtUnfSF</td>\n",
              "      <td>0.919322</td>\n",
              "      <td>True</td>\n",
              "    </tr>\n",
              "    <tr>\n",
              "      <th>10</th>\n",
              "      <td>TotalBsmtSF</td>\n",
              "      <td>1.162806</td>\n",
              "      <td>True</td>\n",
              "    </tr>\n",
              "    <tr>\n",
              "      <th>11</th>\n",
              "      <td>1stFlrSF</td>\n",
              "      <td>1.469604</td>\n",
              "      <td>True</td>\n",
              "    </tr>\n",
              "    <tr>\n",
              "      <th>12</th>\n",
              "      <td>2ndFlrSF</td>\n",
              "      <td>0.861675</td>\n",
              "      <td>True</td>\n",
              "    </tr>\n",
              "    <tr>\n",
              "      <th>13</th>\n",
              "      <td>LowQualFinSF</td>\n",
              "      <td>12.088761</td>\n",
              "      <td>True</td>\n",
              "    </tr>\n",
              "    <tr>\n",
              "      <th>14</th>\n",
              "      <td>GrLivArea</td>\n",
              "      <td>1.269358</td>\n",
              "      <td>True</td>\n",
              "    </tr>\n",
              "    <tr>\n",
              "      <th>15</th>\n",
              "      <td>BsmtFullBath</td>\n",
              "      <td>0.624373</td>\n",
              "      <td>True</td>\n",
              "    </tr>\n",
              "    <tr>\n",
              "      <th>16</th>\n",
              "      <td>BsmtHalfBath</td>\n",
              "      <td>3.931594</td>\n",
              "      <td>True</td>\n",
              "    </tr>\n",
              "    <tr>\n",
              "      <th>17</th>\n",
              "      <td>FullBath</td>\n",
              "      <td>0.167606</td>\n",
              "      <td>False</td>\n",
              "    </tr>\n",
              "    <tr>\n",
              "      <th>18</th>\n",
              "      <td>HalfBath</td>\n",
              "      <td>0.694566</td>\n",
              "      <td>True</td>\n",
              "    </tr>\n",
              "    <tr>\n",
              "      <th>19</th>\n",
              "      <td>BedroomAbvGr</td>\n",
              "      <td>0.326324</td>\n",
              "      <td>False</td>\n",
              "    </tr>\n",
              "    <tr>\n",
              "      <th>20</th>\n",
              "      <td>KitchenAbvGr</td>\n",
              "      <td>4.302254</td>\n",
              "      <td>True</td>\n",
              "    </tr>\n",
              "    <tr>\n",
              "      <th>21</th>\n",
              "      <td>TotRmsAbvGrd</td>\n",
              "      <td>0.758367</td>\n",
              "      <td>True</td>\n",
              "    </tr>\n",
              "    <tr>\n",
              "      <th>22</th>\n",
              "      <td>Fireplaces</td>\n",
              "      <td>0.733495</td>\n",
              "      <td>True</td>\n",
              "    </tr>\n",
              "    <tr>\n",
              "      <th>23</th>\n",
              "      <td>GarageYrBlt</td>\n",
              "      <td>0.346327</td>\n",
              "      <td>False</td>\n",
              "    </tr>\n",
              "    <tr>\n",
              "      <th>24</th>\n",
              "      <td>GarageCars</td>\n",
              "      <td>0.218593</td>\n",
              "      <td>False</td>\n",
              "    </tr>\n",
              "    <tr>\n",
              "      <th>25</th>\n",
              "      <td>GarageArea</td>\n",
              "      <td>0.240896</td>\n",
              "      <td>False</td>\n",
              "    </tr>\n",
              "    <tr>\n",
              "      <th>26</th>\n",
              "      <td>WoodDeckSF</td>\n",
              "      <td>1.842433</td>\n",
              "      <td>True</td>\n",
              "    </tr>\n",
              "    <tr>\n",
              "      <th>27</th>\n",
              "      <td>OpenPorchSF</td>\n",
              "      <td>2.535114</td>\n",
              "      <td>True</td>\n",
              "    </tr>\n",
              "    <tr>\n",
              "      <th>28</th>\n",
              "      <td>EnclosedPorch</td>\n",
              "      <td>4.003891</td>\n",
              "      <td>True</td>\n",
              "    </tr>\n",
              "    <tr>\n",
              "      <th>29</th>\n",
              "      <td>3SsnPorch</td>\n",
              "      <td>11.376065</td>\n",
              "      <td>True</td>\n",
              "    </tr>\n",
              "    <tr>\n",
              "      <th>30</th>\n",
              "      <td>ScreenPorch</td>\n",
              "      <td>3.946694</td>\n",
              "      <td>True</td>\n",
              "    </tr>\n",
              "    <tr>\n",
              "      <th>31</th>\n",
              "      <td>PoolArea</td>\n",
              "      <td>16.898328</td>\n",
              "      <td>True</td>\n",
              "    </tr>\n",
              "    <tr>\n",
              "      <th>32</th>\n",
              "      <td>MiscVal</td>\n",
              "      <td>21.947195</td>\n",
              "      <td>True</td>\n",
              "    </tr>\n",
              "    <tr>\n",
              "      <th>33</th>\n",
              "      <td>MoSold</td>\n",
              "      <td>0.195884</td>\n",
              "      <td>False</td>\n",
              "    </tr>\n",
              "    <tr>\n",
              "      <th>34</th>\n",
              "      <td>YrSold</td>\n",
              "      <td>0.132399</td>\n",
              "      <td>False</td>\n",
              "    </tr>\n",
              "    <tr>\n",
              "      <th>35</th>\n",
              "      <td>SqFtPerRoom</td>\n",
              "      <td>0.893992</td>\n",
              "      <td>True</td>\n",
              "    </tr>\n",
              "    <tr>\n",
              "      <th>36</th>\n",
              "      <td>HomeQuality</td>\n",
              "      <td>0.564123</td>\n",
              "      <td>True</td>\n",
              "    </tr>\n",
              "    <tr>\n",
              "      <th>37</th>\n",
              "      <td>Total_Bathrooms</td>\n",
              "      <td>0.493402</td>\n",
              "      <td>False</td>\n",
              "    </tr>\n",
              "    <tr>\n",
              "      <th>38</th>\n",
              "      <td>CombinedSF</td>\n",
              "      <td>1.252036</td>\n",
              "      <td>True</td>\n",
              "    </tr>\n",
              "  </tbody>\n",
              "</table>\n",
              "</div>\n",
              "      <button class=\"colab-df-convert\" onclick=\"convertToInteractive('df-7f7a4139-24fd-4865-8c38-0d7b99b0a721')\"\n",
              "              title=\"Convert this dataframe to an interactive table.\"\n",
              "              style=\"display:none;\">\n",
              "        \n",
              "  <svg xmlns=\"http://www.w3.org/2000/svg\" height=\"24px\"viewBox=\"0 0 24 24\"\n",
              "       width=\"24px\">\n",
              "    <path d=\"M0 0h24v24H0V0z\" fill=\"none\"/>\n",
              "    <path d=\"M18.56 5.44l.94 2.06.94-2.06 2.06-.94-2.06-.94-.94-2.06-.94 2.06-2.06.94zm-11 1L8.5 8.5l.94-2.06 2.06-.94-2.06-.94L8.5 2.5l-.94 2.06-2.06.94zm10 10l.94 2.06.94-2.06 2.06-.94-2.06-.94-.94-2.06-.94 2.06-2.06.94z\"/><path d=\"M17.41 7.96l-1.37-1.37c-.4-.4-.92-.59-1.43-.59-.52 0-1.04.2-1.43.59L10.3 9.45l-7.72 7.72c-.78.78-.78 2.05 0 2.83L4 21.41c.39.39.9.59 1.41.59.51 0 1.02-.2 1.41-.59l7.78-7.78 2.81-2.81c.8-.78.8-2.07 0-2.86zM5.41 20L4 18.59l7.72-7.72 1.47 1.35L5.41 20z\"/>\n",
              "  </svg>\n",
              "      </button>\n",
              "      \n",
              "  <style>\n",
              "    .colab-df-container {\n",
              "      display:flex;\n",
              "      flex-wrap:wrap;\n",
              "      gap: 12px;\n",
              "    }\n",
              "\n",
              "    .colab-df-convert {\n",
              "      background-color: #E8F0FE;\n",
              "      border: none;\n",
              "      border-radius: 50%;\n",
              "      cursor: pointer;\n",
              "      display: none;\n",
              "      fill: #1967D2;\n",
              "      height: 32px;\n",
              "      padding: 0 0 0 0;\n",
              "      width: 32px;\n",
              "    }\n",
              "\n",
              "    .colab-df-convert:hover {\n",
              "      background-color: #E2EBFA;\n",
              "      box-shadow: 0px 1px 2px rgba(60, 64, 67, 0.3), 0px 1px 3px 1px rgba(60, 64, 67, 0.15);\n",
              "      fill: #174EA6;\n",
              "    }\n",
              "\n",
              "    [theme=dark] .colab-df-convert {\n",
              "      background-color: #3B4455;\n",
              "      fill: #D2E3FC;\n",
              "    }\n",
              "\n",
              "    [theme=dark] .colab-df-convert:hover {\n",
              "      background-color: #434B5C;\n",
              "      box-shadow: 0px 1px 3px 1px rgba(0, 0, 0, 0.15);\n",
              "      filter: drop-shadow(0px 1px 2px rgba(0, 0, 0, 0.3));\n",
              "      fill: #FFFFFF;\n",
              "    }\n",
              "  </style>\n",
              "\n",
              "      <script>\n",
              "        const buttonEl =\n",
              "          document.querySelector('#df-7f7a4139-24fd-4865-8c38-0d7b99b0a721 button.colab-df-convert');\n",
              "        buttonEl.style.display =\n",
              "          google.colab.kernel.accessAllowed ? 'block' : 'none';\n",
              "\n",
              "        async function convertToInteractive(key) {\n",
              "          const element = document.querySelector('#df-7f7a4139-24fd-4865-8c38-0d7b99b0a721');\n",
              "          const dataTable =\n",
              "            await google.colab.kernel.invokeFunction('convertToInteractive',\n",
              "                                                     [key], {});\n",
              "          if (!dataTable) return;\n",
              "\n",
              "          const docLinkHtml = 'Like what you see? Visit the ' +\n",
              "            '<a target=\"_blank\" href=https://colab.research.google.com/notebooks/data_table.ipynb>data table notebook</a>'\n",
              "            + ' to learn more about interactive tables.';\n",
              "          element.innerHTML = '';\n",
              "          dataTable['output_type'] = 'display_data';\n",
              "          await google.colab.output.renderOutput(dataTable, element);\n",
              "          const docLink = document.createElement('div');\n",
              "          docLink.innerHTML = docLinkHtml;\n",
              "          element.appendChild(docLink);\n",
              "        }\n",
              "      </script>\n",
              "    </div>\n",
              "  </div>\n",
              "  "
            ]
          },
          "metadata": {},
          "execution_count": 25
        }
      ],
      "source": [
        "skew_df = pd.DataFrame(data5.select_dtypes(np.number).columns, columns=['Feature'])\n",
        "skew_df['Skew'] = skew_df['Feature'].apply(lambda feature: scipy.stats.skew(data5[feature]))\n",
        "skew_df['Absolute Skew'] = skew_df['Skew'].apply(abs)\n",
        "skew_df['Skewed'] = skew_df['Absolute Skew'].apply(lambda x: True if x >= 0.5 else False)\n",
        "skew_df.drop([\"Skew\"],axis=1)"
      ]
    },
    {
      "cell_type": "code",
      "execution_count": null,
      "metadata": {
        "id": "tMotLx4bQSS7"
      },
      "outputs": [],
      "source": [
        "for column in skew_df.query(\"Skewed == True\")['Feature'].values:\n",
        "    data5[column] = np.log1p(data5[column])"
      ]
    },
    {
      "cell_type": "code",
      "execution_count": null,
      "metadata": {
        "id": "x1V78R3EQT6U"
      },
      "outputs": [],
      "source": [
        "#Cosine Transform for Cyclical Features\n",
        "data4['MoSold'] = (-np.cos(0.5236 * data5['MoSold']))"
      ]
    },
    {
      "cell_type": "code",
      "execution_count": null,
      "metadata": {
        "id": "MxzO6bMOQZIR"
      },
      "outputs": [],
      "source": [
        "data6 = data5.copy()"
      ]
    },
    {
      "cell_type": "markdown",
      "metadata": {
        "id": "wFuHgUw5QcCb"
      },
      "source": [
        "**Encode Categoricals**"
      ]
    },
    {
      "cell_type": "code",
      "execution_count": null,
      "metadata": {
        "id": "FeYyHAzjQaUQ"
      },
      "outputs": [],
      "source": [
        "data6 = pd.get_dummies(data6)"
      ]
    },
    {
      "cell_type": "code",
      "execution_count": null,
      "metadata": {
        "id": "Kg8U_NyeQeIn"
      },
      "outputs": [],
      "source": [
        "data7 = data6.copy()"
      ]
    },
    {
      "cell_type": "markdown",
      "metadata": {
        "id": "K6sjIWs9QhBA"
      },
      "source": [
        "**Scaling**"
      ]
    },
    {
      "cell_type": "code",
      "execution_count": null,
      "metadata": {
        "id": "A-d6uOeKQfQY"
      },
      "outputs": [],
      "source": [
        "scaler = StandardScaler()\n",
        "scaler.fit(data7)\n",
        "\n",
        "data7 = pd.DataFrame(scaler.transform(data7), index=data7.index, columns=data7.columns)"
      ]
    },
    {
      "cell_type": "code",
      "execution_count": null,
      "metadata": {
        "colab": {
          "base_uri": "https://localhost:8080/",
          "height": 488
        },
        "id": "oIAdL1VcQixp",
        "outputId": "80a304db-b0ae-4fc1-a70e-36f2eab3bc04"
      },
      "outputs": [
        {
          "output_type": "execute_result",
          "data": {
            "text/plain": [
              "      LotFrontage   LotArea  OverallQual  OverallCond  YearBuilt  \\\n",
              "0       -0.064176 -0.103719     0.646183    -0.435439   1.040634   \n",
              "1        0.536077  0.146544    -0.063185     1.906370   0.161526   \n",
              "2        0.066112  0.457629     0.646183    -0.435439   0.975922   \n",
              "3       -0.295084  0.136301     0.646183    -0.435439  -1.869638   \n",
              "4        0.677357  0.922662     1.355551    -0.435439   0.943542   \n",
              "...           ...       ...          ...          ...        ...   \n",
              "2914    -3.284214 -2.993401    -1.481920     1.226101  -0.035461   \n",
              "2915    -3.284214 -3.036401    -1.481920    -0.435439  -0.035461   \n",
              "2916     2.549545  1.586172    -0.772552     1.226101  -0.365110   \n",
              "2917    -0.200527  0.311255    -0.772552    -0.435439   0.683917   \n",
              "2918     0.310504  0.152052     0.646183    -0.435439   0.716427   \n",
              "\n",
              "      YearRemodAdd  MasVnrArea  BsmtFinSF1  ...  SaleType_Oth  SaleType_WD  \\\n",
              "0         0.896833    1.210174    0.783229  ...     -0.049029     0.394439   \n",
              "1        -0.395604   -0.804554    0.892444  ...     -0.049029     0.394439   \n",
              "2         0.848965    1.137926    0.658154  ...     -0.049029     0.394439   \n",
              "3        -0.682812   -0.804554    0.386923  ...     -0.049029     0.394439   \n",
              "4         0.753229    1.430432    0.758108  ...     -0.049029     0.394439   \n",
              "...            ...         ...         ...  ...           ...          ...   \n",
              "2914     -0.682812   -0.804554   -1.418196  ...     -0.049029     0.394439   \n",
              "2915     -0.682812   -0.804554    0.438424  ...     -0.049029     0.394439   \n",
              "2916      0.561757   -0.804554    0.967658  ...     -0.049029     0.394439   \n",
              "2917      0.370284   -0.804554    0.535612  ...     -0.049029     0.394439   \n",
              "2918      0.466021    0.932048    0.807042  ...     -0.049029     0.394439   \n",
              "\n",
              "      SaleCondition_Abnorml  SaleCondition_AdjLand  SaleCondition_Alloca  \\\n",
              "0                 -0.263861              -0.064249              -0.09105   \n",
              "1                 -0.263861              -0.064249              -0.09105   \n",
              "2                 -0.263861              -0.064249              -0.09105   \n",
              "3                  3.789876              -0.064249              -0.09105   \n",
              "4                 -0.263861              -0.064249              -0.09105   \n",
              "...                     ...                    ...                   ...   \n",
              "2914              -0.263861              -0.064249              -0.09105   \n",
              "2915               3.789876              -0.064249              -0.09105   \n",
              "2916               3.789876              -0.064249              -0.09105   \n",
              "2917              -0.263861              -0.064249              -0.09105   \n",
              "2918              -0.263861              -0.064249              -0.09105   \n",
              "\n",
              "      SaleCondition_Family  SaleCondition_Normal  SaleCondition_Partial  \n",
              "0                -0.126535              0.463937              -0.302693  \n",
              "1                -0.126535              0.463937              -0.302693  \n",
              "2                -0.126535              0.463937              -0.302693  \n",
              "3                -0.126535             -2.155466              -0.302693  \n",
              "4                -0.126535              0.463937              -0.302693  \n",
              "...                    ...                   ...                    ...  \n",
              "2914             -0.126535              0.463937              -0.302693  \n",
              "2915             -0.126535             -2.155466              -0.302693  \n",
              "2916             -0.126535             -2.155466              -0.302693  \n",
              "2917             -0.126535              0.463937              -0.302693  \n",
              "2918             -0.126535              0.463937              -0.302693  \n",
              "\n",
              "[2919 rows x 321 columns]"
            ],
            "text/html": [
              "\n",
              "  <div id=\"df-ec3ec10d-1539-44d8-b74f-ab5263371de1\">\n",
              "    <div class=\"colab-df-container\">\n",
              "      <div>\n",
              "<style scoped>\n",
              "    .dataframe tbody tr th:only-of-type {\n",
              "        vertical-align: middle;\n",
              "    }\n",
              "\n",
              "    .dataframe tbody tr th {\n",
              "        vertical-align: top;\n",
              "    }\n",
              "\n",
              "    .dataframe thead th {\n",
              "        text-align: right;\n",
              "    }\n",
              "</style>\n",
              "<table border=\"1\" class=\"dataframe\">\n",
              "  <thead>\n",
              "    <tr style=\"text-align: right;\">\n",
              "      <th></th>\n",
              "      <th>LotFrontage</th>\n",
              "      <th>LotArea</th>\n",
              "      <th>OverallQual</th>\n",
              "      <th>OverallCond</th>\n",
              "      <th>YearBuilt</th>\n",
              "      <th>YearRemodAdd</th>\n",
              "      <th>MasVnrArea</th>\n",
              "      <th>BsmtFinSF1</th>\n",
              "      <th>...</th>\n",
              "      <th>SaleType_Oth</th>\n",
              "      <th>SaleType_WD</th>\n",
              "      <th>SaleCondition_Abnorml</th>\n",
              "      <th>SaleCondition_AdjLand</th>\n",
              "      <th>SaleCondition_Alloca</th>\n",
              "      <th>SaleCondition_Family</th>\n",
              "      <th>SaleCondition_Normal</th>\n",
              "      <th>SaleCondition_Partial</th>\n",
              "    </tr>\n",
              "  </thead>\n",
              "  <tbody>\n",
              "    <tr>\n",
              "      <th>0</th>\n",
              "      <td>-0.064176</td>\n",
              "      <td>-0.103719</td>\n",
              "      <td>0.646183</td>\n",
              "      <td>-0.435439</td>\n",
              "      <td>1.040634</td>\n",
              "      <td>0.896833</td>\n",
              "      <td>1.210174</td>\n",
              "      <td>0.783229</td>\n",
              "      <td>...</td>\n",
              "      <td>-0.049029</td>\n",
              "      <td>0.394439</td>\n",
              "      <td>-0.263861</td>\n",
              "      <td>-0.064249</td>\n",
              "      <td>-0.09105</td>\n",
              "      <td>-0.126535</td>\n",
              "      <td>0.463937</td>\n",
              "      <td>-0.302693</td>\n",
              "    </tr>\n",
              "    <tr>\n",
              "      <th>1</th>\n",
              "      <td>0.536077</td>\n",
              "      <td>0.146544</td>\n",
              "      <td>-0.063185</td>\n",
              "      <td>1.906370</td>\n",
              "      <td>0.161526</td>\n",
              "      <td>-0.395604</td>\n",
              "      <td>-0.804554</td>\n",
              "      <td>0.892444</td>\n",
              "      <td>...</td>\n",
              "      <td>-0.049029</td>\n",
              "      <td>0.394439</td>\n",
              "      <td>-0.263861</td>\n",
              "      <td>-0.064249</td>\n",
              "      <td>-0.09105</td>\n",
              "      <td>-0.126535</td>\n",
              "      <td>0.463937</td>\n",
              "      <td>-0.302693</td>\n",
              "    </tr>\n",
              "    <tr>\n",
              "      <th>2</th>\n",
              "      <td>0.066112</td>\n",
              "      <td>0.457629</td>\n",
              "      <td>0.646183</td>\n",
              "      <td>-0.435439</td>\n",
              "      <td>0.975922</td>\n",
              "      <td>0.848965</td>\n",
              "      <td>1.137926</td>\n",
              "      <td>0.658154</td>\n",
              "      <td>...</td>\n",
              "      <td>-0.049029</td>\n",
              "      <td>0.394439</td>\n",
              "      <td>-0.263861</td>\n",
              "      <td>-0.064249</td>\n",
              "      <td>-0.09105</td>\n",
              "      <td>-0.126535</td>\n",
              "      <td>0.463937</td>\n",
              "      <td>-0.302693</td>\n",
              "    </tr>\n",
              "    <tr>\n",
              "      <th>3</th>\n",
              "      <td>-0.295084</td>\n",
              "      <td>0.136301</td>\n",
              "      <td>0.646183</td>\n",
              "      <td>-0.435439</td>\n",
              "      <td>-1.869638</td>\n",
              "      <td>-0.682812</td>\n",
              "      <td>-0.804554</td>\n",
              "      <td>0.386923</td>\n",
              "      <td>...</td>\n",
              "      <td>-0.049029</td>\n",
              "      <td>0.394439</td>\n",
              "      <td>3.789876</td>\n",
              "      <td>-0.064249</td>\n",
              "      <td>-0.09105</td>\n",
              "      <td>-0.126535</td>\n",
              "      <td>-2.155466</td>\n",
              "      <td>-0.302693</td>\n",
              "    </tr>\n",
              "    <tr>\n",
              "      <th>4</th>\n",
              "      <td>0.677357</td>\n",
              "      <td>0.922662</td>\n",
              "      <td>1.355551</td>\n",
              "      <td>-0.435439</td>\n",
              "      <td>0.943542</td>\n",
              "      <td>0.753229</td>\n",
              "      <td>1.430432</td>\n",
              "      <td>0.758108</td>\n",
              "      <td>...</td>\n",
              "      <td>-0.049029</td>\n",
              "      <td>0.394439</td>\n",
              "      <td>-0.263861</td>\n",
              "      <td>-0.064249</td>\n",
              "      <td>-0.09105</td>\n",
              "      <td>-0.126535</td>\n",
              "      <td>0.463937</td>\n",
              "      <td>-0.302693</td>\n",
              "    </tr>\n",
              "    <tr>\n",
              "      <th>...</th>\n",
              "      <td>...</td>\n",
              "      <td>...</td>\n",
              "      <td>...</td>\n",
              "      <td>...</td>\n",
              "      <td>...</td>\n",
              "      <td>...</td>\n",
              "      <td>...</td>\n",
              "      <td>...</td>\n",
              "      <td>...</td>\n",
              "      <td>...</td>\n",
              "      <td>...</td>\n",
              "      <td>...</td>\n",
              "      <td>...</td>\n",
              "      <td>...</td>\n",
              "      <td>...</td>\n",
              "      <td>...</td>\n",
              "      <td>...</td>\n",
              "    </tr>\n",
              "    <tr>\n",
              "      <th>2914</th>\n",
              "      <td>-3.284214</td>\n",
              "      <td>-2.993401</td>\n",
              "      <td>-1.481920</td>\n",
              "      <td>1.226101</td>\n",
              "      <td>-0.035461</td>\n",
              "      <td>-0.682812</td>\n",
              "      <td>-0.804554</td>\n",
              "      <td>-1.418196</td>\n",
              "      <td>...</td>\n",
              "      <td>-0.049029</td>\n",
              "      <td>0.394439</td>\n",
              "      <td>-0.263861</td>\n",
              "      <td>-0.064249</td>\n",
              "      <td>-0.09105</td>\n",
              "      <td>-0.126535</td>\n",
              "      <td>0.463937</td>\n",
              "      <td>-0.302693</td>\n",
              "    </tr>\n",
              "    <tr>\n",
              "      <th>2915</th>\n",
              "      <td>-3.284214</td>\n",
              "      <td>-3.036401</td>\n",
              "      <td>-1.481920</td>\n",
              "      <td>-0.435439</td>\n",
              "      <td>-0.035461</td>\n",
              "      <td>-0.682812</td>\n",
              "      <td>-0.804554</td>\n",
              "      <td>0.438424</td>\n",
              "      <td>...</td>\n",
              "      <td>-0.049029</td>\n",
              "      <td>0.394439</td>\n",
              "      <td>3.789876</td>\n",
              "      <td>-0.064249</td>\n",
              "      <td>-0.09105</td>\n",
              "      <td>-0.126535</td>\n",
              "      <td>-2.155466</td>\n",
              "      <td>-0.302693</td>\n",
              "    </tr>\n",
              "    <tr>\n",
              "      <th>2916</th>\n",
              "      <td>2.549545</td>\n",
              "      <td>1.586172</td>\n",
              "      <td>-0.772552</td>\n",
              "      <td>1.226101</td>\n",
              "      <td>-0.365110</td>\n",
              "      <td>0.561757</td>\n",
              "      <td>-0.804554</td>\n",
              "      <td>0.967658</td>\n",
              "      <td>...</td>\n",
              "      <td>-0.049029</td>\n",
              "      <td>0.394439</td>\n",
              "      <td>3.789876</td>\n",
              "      <td>-0.064249</td>\n",
              "      <td>-0.09105</td>\n",
              "      <td>-0.126535</td>\n",
              "      <td>-2.155466</td>\n",
              "      <td>-0.302693</td>\n",
              "    </tr>\n",
              "    <tr>\n",
              "      <th>2917</th>\n",
              "      <td>-0.200527</td>\n",
              "      <td>0.311255</td>\n",
              "      <td>-0.772552</td>\n",
              "      <td>-0.435439</td>\n",
              "      <td>0.683917</td>\n",
              "      <td>0.370284</td>\n",
              "      <td>-0.804554</td>\n",
              "      <td>0.535612</td>\n",
              "      <td>...</td>\n",
              "      <td>-0.049029</td>\n",
              "      <td>0.394439</td>\n",
              "      <td>-0.263861</td>\n",
              "      <td>-0.064249</td>\n",
              "      <td>-0.09105</td>\n",
              "      <td>-0.126535</td>\n",
              "      <td>0.463937</td>\n",
              "      <td>-0.302693</td>\n",
              "    </tr>\n",
              "    <tr>\n",
              "      <th>2918</th>\n",
              "      <td>0.310504</td>\n",
              "      <td>0.152052</td>\n",
              "      <td>0.646183</td>\n",
              "      <td>-0.435439</td>\n",
              "      <td>0.716427</td>\n",
              "      <td>0.466021</td>\n",
              "      <td>0.932048</td>\n",
              "      <td>0.807042</td>\n",
              "      <td>...</td>\n",
              "      <td>-0.049029</td>\n",
              "      <td>0.394439</td>\n",
              "      <td>-0.263861</td>\n",
              "      <td>-0.064249</td>\n",
              "      <td>-0.09105</td>\n",
              "      <td>-0.126535</td>\n",
              "      <td>0.463937</td>\n",
              "      <td>-0.302693</td>\n",
              "    </tr>\n",
              "  </tbody>\n",
              "</table>\n",
              "<p>2919 rows × 321 columns</p>\n",
              "</div>\n",
              "      <button class=\"colab-df-convert\" onclick=\"convertToInteractive('df-ec3ec10d-1539-44d8-b74f-ab5263371de1')\"\n",
              "              title=\"Convert this dataframe to an interactive table.\"\n",
              "              style=\"display:none;\">\n",
              "        \n",
              "  <svg xmlns=\"http://www.w3.org/2000/svg\" height=\"24px\"viewBox=\"0 0 24 24\"\n",
              "       width=\"24px\">\n",
              "    <path d=\"M0 0h24v24H0V0z\" fill=\"none\"/>\n",
              "    <path d=\"M18.56 5.44l.94 2.06.94-2.06 2.06-.94-2.06-.94-.94-2.06-.94 2.06-2.06.94zm-11 1L8.5 8.5l.94-2.06 2.06-.94-2.06-.94L8.5 2.5l-.94 2.06-2.06.94zm10 10l.94 2.06.94-2.06 2.06-.94-2.06-.94-.94-2.06-.94 2.06-2.06.94z\"/><path d=\"M17.41 7.96l-1.37-1.37c-.4-.4-.92-.59-1.43-.59-.52 0-1.04.2-1.43.59L10.3 9.45l-7.72 7.72c-.78.78-.78 2.05 0 2.83L4 21.41c.39.39.9.59 1.41.59.51 0 1.02-.2 1.41-.59l7.78-7.78 2.81-2.81c.8-.78.8-2.07 0-2.86zM5.41 20L4 18.59l7.72-7.72 1.47 1.35L5.41 20z\"/>\n",
              "  </svg>\n",
              "      </button>\n",
              "      \n",
              "  <style>\n",
              "    .colab-df-container {\n",
              "      display:flex;\n",
              "      flex-wrap:wrap;\n",
              "      gap: 12px;\n",
              "    }\n",
              "\n",
              "    .colab-df-convert {\n",
              "      background-color: #E8F0FE;\n",
              "      border: none;\n",
              "      border-radius: 50%;\n",
              "      cursor: pointer;\n",
              "      display: none;\n",
              "      fill: #1967D2;\n",
              "      height: 32px;\n",
              "      padding: 0 0 0 0;\n",
              "      width: 32px;\n",
              "    }\n",
              "\n",
              "    .colab-df-convert:hover {\n",
              "      background-color: #E2EBFA;\n",
              "      box-shadow: 0px 1px 2px rgba(60, 64, 67, 0.3), 0px 1px 3px 1px rgba(60, 64, 67, 0.15);\n",
              "      fill: #174EA6;\n",
              "    }\n",
              "\n",
              "    [theme=dark] .colab-df-convert {\n",
              "      background-color: #3B4455;\n",
              "      fill: #D2E3FC;\n",
              "    }\n",
              "\n",
              "    [theme=dark] .colab-df-convert:hover {\n",
              "      background-color: #434B5C;\n",
              "      box-shadow: 0px 1px 3px 1px rgba(0, 0, 0, 0.15);\n",
              "      filter: drop-shadow(0px 1px 2px rgba(0, 0, 0, 0.3));\n",
              "      fill: #FFFFFF;\n",
              "    }\n",
              "  </style>\n",
              "\n",
              "      <script>\n",
              "        const buttonEl =\n",
              "          document.querySelector('#df-ec3ec10d-1539-44d8-b74f-ab5263371de1 button.colab-df-convert');\n",
              "        buttonEl.style.display =\n",
              "          google.colab.kernel.accessAllowed ? 'block' : 'none';\n",
              "\n",
              "        async function convertToInteractive(key) {\n",
              "          const element = document.querySelector('#df-ec3ec10d-1539-44d8-b74f-ab5263371de1');\n",
              "          const dataTable =\n",
              "            await google.colab.kernel.invokeFunction('convertToInteractive',\n",
              "                                                     [key], {});\n",
              "          if (!dataTable) return;\n",
              "\n",
              "          const docLinkHtml = 'Like what you see? Visit the ' +\n",
              "            '<a target=\"_blank\" href=https://colab.research.google.com/notebooks/data_table.ipynb>data table notebook</a>'\n",
              "            + ' to learn more about interactive tables.';\n",
              "          element.innerHTML = '';\n",
              "          dataTable['output_type'] = 'display_data';\n",
              "          await google.colab.output.renderOutput(dataTable, element);\n",
              "          const docLink = document.createElement('div');\n",
              "          docLink.innerHTML = docLinkHtml;\n",
              "          element.appendChild(docLink);\n",
              "        }\n",
              "      </script>\n",
              "    </div>\n",
              "  </div>\n",
              "  "
            ]
          },
          "metadata": {},
          "execution_count": 32
        }
      ],
      "source": [
        "data7"
      ]
    },
    {
      "cell_type": "code",
      "execution_count": null,
      "metadata": {
        "id": "wHZ8Mo9kQkUX"
      },
      "outputs": [],
      "source": [
        "data8 = data7.copy()"
      ]
    },
    {
      "cell_type": "markdown",
      "metadata": {
        "id": "0v_LplM7RCsR"
      },
      "source": [
        "**Split Data**"
      ]
    },
    {
      "cell_type": "code",
      "execution_count": null,
      "metadata": {
        "id": "jQHXdR8rRAyl"
      },
      "outputs": [],
      "source": [
        "train_final = data8.loc[:train0.index.max(), :].copy()\n",
        "test_final = data8.loc[train0.index.max() + 1:, :].reset_index(drop=True).copy()"
      ]
    },
    {
      "cell_type": "code",
      "execution_count": null,
      "metadata": {
        "colab": {
          "base_uri": "https://localhost:8080/",
          "height": 488
        },
        "id": "O8l8uRd3REy-",
        "outputId": "3152d553-a2a2-4214-ccca-9e2a1c676eda"
      },
      "outputs": [
        {
          "output_type": "execute_result",
          "data": {
            "text/plain": [
              "      LotFrontage   LotArea  OverallQual  OverallCond  YearBuilt  \\\n",
              "0       -0.064176 -0.103719     0.646183    -0.435439   1.040634   \n",
              "1        0.536077  0.146544    -0.063185     1.906370   0.161526   \n",
              "2        0.066112  0.457629     0.646183    -0.435439   0.975922   \n",
              "3       -0.295084  0.136301     0.646183    -0.435439  -1.869638   \n",
              "4        0.677357  0.922662     1.355551    -0.435439   0.943542   \n",
              "...           ...       ...          ...          ...        ...   \n",
              "1455    -0.200527 -0.231508    -0.063185    -0.435439   0.911146   \n",
              "1456     0.711638  0.767440    -0.063185     0.454875   0.227056   \n",
              "1457    -0.020100  0.029092     0.646183     2.514892  -0.996100   \n",
              "1458     0.066112  0.170303    -0.772552     0.454875  -0.696444   \n",
              "1459     0.349325  0.214215    -0.772552     0.454875  -0.200076   \n",
              "\n",
              "      YearRemodAdd  MasVnrArea  BsmtFinSF1  ...  SaleType_Oth  SaleType_WD  \\\n",
              "0         0.896833    1.210174    0.783229  ...     -0.049029     0.394439   \n",
              "1        -0.395604   -0.804554    0.892444  ...     -0.049029     0.394439   \n",
              "2         0.848965    1.137926    0.658154  ...     -0.049029     0.394439   \n",
              "3        -0.682812   -0.804554    0.386923  ...     -0.049029     0.394439   \n",
              "4         0.753229    1.430432    0.758108  ...     -0.049029     0.394439   \n",
              "...            ...         ...         ...  ...           ...          ...   \n",
              "1455      0.753229   -0.804554   -1.418196  ...     -0.049029     0.394439   \n",
              "1456      0.178812    1.021136    0.820898  ...     -0.049029     0.394439   \n",
              "1457      1.040437   -0.804554    0.467619  ...     -0.049029     0.394439   \n",
              "1458      0.561757   -0.804554   -0.105594  ...     -0.049029     0.394439   \n",
              "1459     -0.922153   -0.804554    0.837450  ...     -0.049029     0.394439   \n",
              "\n",
              "      SaleCondition_Abnorml  SaleCondition_AdjLand  SaleCondition_Alloca  \\\n",
              "0                 -0.263861              -0.064249              -0.09105   \n",
              "1                 -0.263861              -0.064249              -0.09105   \n",
              "2                 -0.263861              -0.064249              -0.09105   \n",
              "3                  3.789876              -0.064249              -0.09105   \n",
              "4                 -0.263861              -0.064249              -0.09105   \n",
              "...                     ...                    ...                   ...   \n",
              "1455              -0.263861              -0.064249              -0.09105   \n",
              "1456              -0.263861              -0.064249              -0.09105   \n",
              "1457              -0.263861              -0.064249              -0.09105   \n",
              "1458              -0.263861              -0.064249              -0.09105   \n",
              "1459              -0.263861              -0.064249              -0.09105   \n",
              "\n",
              "      SaleCondition_Family  SaleCondition_Normal  SaleCondition_Partial  \n",
              "0                -0.126535              0.463937              -0.302693  \n",
              "1                -0.126535              0.463937              -0.302693  \n",
              "2                -0.126535              0.463937              -0.302693  \n",
              "3                -0.126535             -2.155466              -0.302693  \n",
              "4                -0.126535              0.463937              -0.302693  \n",
              "...                    ...                   ...                    ...  \n",
              "1455             -0.126535              0.463937              -0.302693  \n",
              "1456             -0.126535              0.463937              -0.302693  \n",
              "1457             -0.126535              0.463937              -0.302693  \n",
              "1458             -0.126535              0.463937              -0.302693  \n",
              "1459             -0.126535              0.463937              -0.302693  \n",
              "\n",
              "[1460 rows x 321 columns]"
            ],
            "text/html": [
              "\n",
              "  <div id=\"df-ab5b1746-bbbd-49ae-ab47-11b02f3c9330\">\n",
              "    <div class=\"colab-df-container\">\n",
              "      <div>\n",
              "<style scoped>\n",
              "    .dataframe tbody tr th:only-of-type {\n",
              "        vertical-align: middle;\n",
              "    }\n",
              "\n",
              "    .dataframe tbody tr th {\n",
              "        vertical-align: top;\n",
              "    }\n",
              "\n",
              "    .dataframe thead th {\n",
              "        text-align: right;\n",
              "    }\n",
              "</style>\n",
              "<table border=\"1\" class=\"dataframe\">\n",
              "  <thead>\n",
              "    <tr style=\"text-align: right;\">\n",
              "      <th></th>\n",
              "      <th>LotFrontage</th>\n",
              "      <th>LotArea</th>\n",
              "      <th>OverallQual</th>\n",
              "      <th>OverallCond</th>\n",
              "      <th>YearBuilt</th>\n",
              "      <th>YearRemodAdd</th>\n",
              "      <th>MasVnrArea</th>\n",
              "      <th>BsmtFinSF1</th>\n",
              "      <th>...</th>\n",
              "      <th>SaleType_Oth</th>\n",
              "      <th>SaleType_WD</th>\n",
              "      <th>SaleCondition_Abnorml</th>\n",
              "      <th>SaleCondition_AdjLand</th>\n",
              "      <th>SaleCondition_Alloca</th>\n",
              "      <th>SaleCondition_Family</th>\n",
              "      <th>SaleCondition_Normal</th>\n",
              "      <th>SaleCondition_Partial</th>\n",
              "    </tr>\n",
              "  </thead>\n",
              "  <tbody>\n",
              "    <tr>\n",
              "      <th>0</th>\n",
              "      <td>-0.064176</td>\n",
              "      <td>-0.103719</td>\n",
              "      <td>0.646183</td>\n",
              "      <td>-0.435439</td>\n",
              "      <td>1.040634</td>\n",
              "      <td>0.896833</td>\n",
              "      <td>1.210174</td>\n",
              "      <td>0.783229</td>\n",
              "      <td>...</td>\n",
              "      <td>-0.049029</td>\n",
              "      <td>0.394439</td>\n",
              "      <td>-0.263861</td>\n",
              "      <td>-0.064249</td>\n",
              "      <td>-0.09105</td>\n",
              "      <td>-0.126535</td>\n",
              "      <td>0.463937</td>\n",
              "      <td>-0.302693</td>\n",
              "    </tr>\n",
              "    <tr>\n",
              "      <th>1</th>\n",
              "      <td>0.536077</td>\n",
              "      <td>0.146544</td>\n",
              "      <td>-0.063185</td>\n",
              "      <td>1.906370</td>\n",
              "      <td>0.161526</td>\n",
              "      <td>-0.395604</td>\n",
              "      <td>-0.804554</td>\n",
              "      <td>0.892444</td>\n",
              "      <td>...</td>\n",
              "      <td>-0.049029</td>\n",
              "      <td>0.394439</td>\n",
              "      <td>-0.263861</td>\n",
              "      <td>-0.064249</td>\n",
              "      <td>-0.09105</td>\n",
              "      <td>-0.126535</td>\n",
              "      <td>0.463937</td>\n",
              "      <td>-0.302693</td>\n",
              "    </tr>\n",
              "    <tr>\n",
              "      <th>2</th>\n",
              "      <td>0.066112</td>\n",
              "      <td>0.457629</td>\n",
              "      <td>0.646183</td>\n",
              "      <td>-0.435439</td>\n",
              "      <td>0.975922</td>\n",
              "      <td>0.848965</td>\n",
              "      <td>1.137926</td>\n",
              "      <td>0.658154</td>\n",
              "      <td>...</td>\n",
              "      <td>-0.049029</td>\n",
              "      <td>0.394439</td>\n",
              "      <td>-0.263861</td>\n",
              "      <td>-0.064249</td>\n",
              "      <td>-0.09105</td>\n",
              "      <td>-0.126535</td>\n",
              "      <td>0.463937</td>\n",
              "      <td>-0.302693</td>\n",
              "    </tr>\n",
              "    <tr>\n",
              "      <th>3</th>\n",
              "      <td>-0.295084</td>\n",
              "      <td>0.136301</td>\n",
              "      <td>0.646183</td>\n",
              "      <td>-0.435439</td>\n",
              "      <td>-1.869638</td>\n",
              "      <td>-0.682812</td>\n",
              "      <td>-0.804554</td>\n",
              "      <td>0.386923</td>\n",
              "      <td>...</td>\n",
              "      <td>-0.049029</td>\n",
              "      <td>0.394439</td>\n",
              "      <td>3.789876</td>\n",
              "      <td>-0.064249</td>\n",
              "      <td>-0.09105</td>\n",
              "      <td>-0.126535</td>\n",
              "      <td>-2.155466</td>\n",
              "      <td>-0.302693</td>\n",
              "    </tr>\n",
              "    <tr>\n",
              "      <th>4</th>\n",
              "      <td>0.677357</td>\n",
              "      <td>0.922662</td>\n",
              "      <td>1.355551</td>\n",
              "      <td>-0.435439</td>\n",
              "      <td>0.943542</td>\n",
              "      <td>0.753229</td>\n",
              "      <td>1.430432</td>\n",
              "      <td>0.758108</td>\n",
              "      <td>...</td>\n",
              "      <td>-0.049029</td>\n",
              "      <td>0.394439</td>\n",
              "      <td>-0.263861</td>\n",
              "      <td>-0.064249</td>\n",
              "      <td>-0.09105</td>\n",
              "      <td>-0.126535</td>\n",
              "      <td>0.463937</td>\n",
              "      <td>-0.302693</td>\n",
              "    </tr>\n",
              "    <tr>\n",
              "      <th>...</th>\n",
              "      <td>...</td>\n",
              "      <td>...</td>\n",
              "      <td>...</td>\n",
              "      <td>...</td>\n",
              "      <td>...</td>\n",
              "      <td>...</td>\n",
              "      <td>...</td>\n",
              "      <td>...</td>\n",
              "      <td>...</td>\n",
              "      <td>...</td>\n",
              "      <td>...</td>\n",
              "      <td>...</td>\n",
              "      <td>...</td>\n",
              "      <td>...</td>\n",
              "      <td>...</td>\n",
              "      <td>...</td>\n",
              "      <td>...</td>\n",
              "    </tr>\n",
              "    <tr>\n",
              "      <th>1455</th>\n",
              "      <td>-0.200527</td>\n",
              "      <td>-0.231508</td>\n",
              "      <td>-0.063185</td>\n",
              "      <td>-0.435439</td>\n",
              "      <td>0.911146</td>\n",
              "      <td>0.753229</td>\n",
              "      <td>-0.804554</td>\n",
              "      <td>-1.418196</td>\n",
              "      <td>...</td>\n",
              "      <td>-0.049029</td>\n",
              "      <td>0.394439</td>\n",
              "      <td>-0.263861</td>\n",
              "      <td>-0.064249</td>\n",
              "      <td>-0.09105</td>\n",
              "      <td>-0.126535</td>\n",
              "      <td>0.463937</td>\n",
              "      <td>-0.302693</td>\n",
              "    </tr>\n",
              "    <tr>\n",
              "      <th>1456</th>\n",
              "      <td>0.711638</td>\n",
              "      <td>0.767440</td>\n",
              "      <td>-0.063185</td>\n",
              "      <td>0.454875</td>\n",
              "      <td>0.227056</td>\n",
              "      <td>0.178812</td>\n",
              "      <td>1.021136</td>\n",
              "      <td>0.820898</td>\n",
              "      <td>...</td>\n",
              "      <td>-0.049029</td>\n",
              "      <td>0.394439</td>\n",
              "      <td>-0.263861</td>\n",
              "      <td>-0.064249</td>\n",
              "      <td>-0.09105</td>\n",
              "      <td>-0.126535</td>\n",
              "      <td>0.463937</td>\n",
              "      <td>-0.302693</td>\n",
              "    </tr>\n",
              "    <tr>\n",
              "      <th>1457</th>\n",
              "      <td>-0.020100</td>\n",
              "      <td>0.029092</td>\n",
              "      <td>0.646183</td>\n",
              "      <td>2.514892</td>\n",
              "      <td>-0.996100</td>\n",
              "      <td>1.040437</td>\n",
              "      <td>-0.804554</td>\n",
              "      <td>0.467619</td>\n",
              "      <td>...</td>\n",
              "      <td>-0.049029</td>\n",
              "      <td>0.394439</td>\n",
              "      <td>-0.263861</td>\n",
              "      <td>-0.064249</td>\n",
              "      <td>-0.09105</td>\n",
              "      <td>-0.126535</td>\n",
              "      <td>0.463937</td>\n",
              "      <td>-0.302693</td>\n",
              "    </tr>\n",
              "    <tr>\n",
              "      <th>1458</th>\n",
              "      <td>0.066112</td>\n",
              "      <td>0.170303</td>\n",
              "      <td>-0.772552</td>\n",
              "      <td>0.454875</td>\n",
              "      <td>-0.696444</td>\n",
              "      <td>0.561757</td>\n",
              "      <td>-0.804554</td>\n",
              "      <td>-0.105594</td>\n",
              "      <td>...</td>\n",
              "      <td>-0.049029</td>\n",
              "      <td>0.394439</td>\n",
              "      <td>-0.263861</td>\n",
              "      <td>-0.064249</td>\n",
              "      <td>-0.09105</td>\n",
              "      <td>-0.126535</td>\n",
              "      <td>0.463937</td>\n",
              "      <td>-0.302693</td>\n",
              "    </tr>\n",
              "    <tr>\n",
              "      <th>1459</th>\n",
              "      <td>0.349325</td>\n",
              "      <td>0.214215</td>\n",
              "      <td>-0.772552</td>\n",
              "      <td>0.454875</td>\n",
              "      <td>-0.200076</td>\n",
              "      <td>-0.922153</td>\n",
              "      <td>-0.804554</td>\n",
              "      <td>0.837450</td>\n",
              "      <td>...</td>\n",
              "      <td>-0.049029</td>\n",
              "      <td>0.394439</td>\n",
              "      <td>-0.263861</td>\n",
              "      <td>-0.064249</td>\n",
              "      <td>-0.09105</td>\n",
              "      <td>-0.126535</td>\n",
              "      <td>0.463937</td>\n",
              "      <td>-0.302693</td>\n",
              "    </tr>\n",
              "  </tbody>\n",
              "</table>\n",
              "<p>1460 rows × 321 columns</p>\n",
              "</div>\n",
              "      <button class=\"colab-df-convert\" onclick=\"convertToInteractive('df-ab5b1746-bbbd-49ae-ab47-11b02f3c9330')\"\n",
              "              title=\"Convert this dataframe to an interactive table.\"\n",
              "              style=\"display:none;\">\n",
              "        \n",
              "  <svg xmlns=\"http://www.w3.org/2000/svg\" height=\"24px\"viewBox=\"0 0 24 24\"\n",
              "       width=\"24px\">\n",
              "    <path d=\"M0 0h24v24H0V0z\" fill=\"none\"/>\n",
              "    <path d=\"M18.56 5.44l.94 2.06.94-2.06 2.06-.94-2.06-.94-.94-2.06-.94 2.06-2.06.94zm-11 1L8.5 8.5l.94-2.06 2.06-.94-2.06-.94L8.5 2.5l-.94 2.06-2.06.94zm10 10l.94 2.06.94-2.06 2.06-.94-2.06-.94-.94-2.06-.94 2.06-2.06.94z\"/><path d=\"M17.41 7.96l-1.37-1.37c-.4-.4-.92-.59-1.43-.59-.52 0-1.04.2-1.43.59L10.3 9.45l-7.72 7.72c-.78.78-.78 2.05 0 2.83L4 21.41c.39.39.9.59 1.41.59.51 0 1.02-.2 1.41-.59l7.78-7.78 2.81-2.81c.8-.78.8-2.07 0-2.86zM5.41 20L4 18.59l7.72-7.72 1.47 1.35L5.41 20z\"/>\n",
              "  </svg>\n",
              "      </button>\n",
              "      \n",
              "  <style>\n",
              "    .colab-df-container {\n",
              "      display:flex;\n",
              "      flex-wrap:wrap;\n",
              "      gap: 12px;\n",
              "    }\n",
              "\n",
              "    .colab-df-convert {\n",
              "      background-color: #E8F0FE;\n",
              "      border: none;\n",
              "      border-radius: 50%;\n",
              "      cursor: pointer;\n",
              "      display: none;\n",
              "      fill: #1967D2;\n",
              "      height: 32px;\n",
              "      padding: 0 0 0 0;\n",
              "      width: 32px;\n",
              "    }\n",
              "\n",
              "    .colab-df-convert:hover {\n",
              "      background-color: #E2EBFA;\n",
              "      box-shadow: 0px 1px 2px rgba(60, 64, 67, 0.3), 0px 1px 3px 1px rgba(60, 64, 67, 0.15);\n",
              "      fill: #174EA6;\n",
              "    }\n",
              "\n",
              "    [theme=dark] .colab-df-convert {\n",
              "      background-color: #3B4455;\n",
              "      fill: #D2E3FC;\n",
              "    }\n",
              "\n",
              "    [theme=dark] .colab-df-convert:hover {\n",
              "      background-color: #434B5C;\n",
              "      box-shadow: 0px 1px 3px 1px rgba(0, 0, 0, 0.15);\n",
              "      filter: drop-shadow(0px 1px 2px rgba(0, 0, 0, 0.3));\n",
              "      fill: #FFFFFF;\n",
              "    }\n",
              "  </style>\n",
              "\n",
              "      <script>\n",
              "        const buttonEl =\n",
              "          document.querySelector('#df-ab5b1746-bbbd-49ae-ab47-11b02f3c9330 button.colab-df-convert');\n",
              "        buttonEl.style.display =\n",
              "          google.colab.kernel.accessAllowed ? 'block' : 'none';\n",
              "\n",
              "        async function convertToInteractive(key) {\n",
              "          const element = document.querySelector('#df-ab5b1746-bbbd-49ae-ab47-11b02f3c9330');\n",
              "          const dataTable =\n",
              "            await google.colab.kernel.invokeFunction('convertToInteractive',\n",
              "                                                     [key], {});\n",
              "          if (!dataTable) return;\n",
              "\n",
              "          const docLinkHtml = 'Like what you see? Visit the ' +\n",
              "            '<a target=\"_blank\" href=https://colab.research.google.com/notebooks/data_table.ipynb>data table notebook</a>'\n",
              "            + ' to learn more about interactive tables.';\n",
              "          element.innerHTML = '';\n",
              "          dataTable['output_type'] = 'display_data';\n",
              "          await google.colab.output.renderOutput(dataTable, element);\n",
              "          const docLink = document.createElement('div');\n",
              "          docLink.innerHTML = docLinkHtml;\n",
              "          element.appendChild(docLink);\n",
              "        }\n",
              "      </script>\n",
              "    </div>\n",
              "  </div>\n",
              "  "
            ]
          },
          "metadata": {},
          "execution_count": 35
        }
      ],
      "source": [
        "train_final"
      ]
    },
    {
      "cell_type": "code",
      "execution_count": null,
      "metadata": {
        "colab": {
          "base_uri": "https://localhost:8080/"
        },
        "id": "H8ww1YdVj_ht",
        "outputId": "f241ae1d-8a29-4615-a941-b3b8fe997269"
      },
      "outputs": [
        {
          "output_type": "execute_result",
          "data": {
            "text/plain": [
              "0       12.247694\n",
              "1       12.109011\n",
              "2       12.317167\n",
              "3       11.849398\n",
              "4       12.429216\n",
              "          ...    \n",
              "1455    12.072541\n",
              "1456    12.254863\n",
              "1457    12.493130\n",
              "1458    11.864462\n",
              "1459    11.901583\n",
              "Name: SalePrice, Length: 1460, dtype: float64"
            ]
          },
          "metadata": {},
          "execution_count": 36
        }
      ],
      "source": [
        "log_target"
      ]
    },
    {
      "cell_type": "markdown",
      "metadata": {
        "id": "RoIuHW_4RKNq"
      },
      "source": [
        "# **Model Selection**"
      ]
    },
    {
      "cell_type": "markdown",
      "metadata": {
        "id": "kCBH8Ha-hsBy"
      },
      "source": [
        "**Train split for testing**"
      ]
    },
    {
      "cell_type": "code",
      "execution_count": null,
      "metadata": {
        "id": "CSxcbVYLhZiL"
      },
      "outputs": [],
      "source": [
        "from sklearn.model_selection import train_test_split"
      ]
    },
    {
      "cell_type": "code",
      "execution_count": null,
      "metadata": {
        "id": "PvPGUCKPh3DY"
      },
      "outputs": [],
      "source": [
        "X_train, X_test, y_train, y_test = train_test_split(train_final, log_target, test_size = 0.25, random_state = 123)"
      ]
    },
    {
      "cell_type": "code",
      "execution_count": null,
      "metadata": {
        "id": "VhOOv2YwiCPT"
      },
      "outputs": [],
      "source": [
        "#The origial value of y_train and y_test before log transformation\n",
        "y_test_o = np.expm1(y_test)\n",
        "y_test_o\n",
        "y_train_o = np.expm1(y_train)"
      ]
    },
    {
      "cell_type": "markdown",
      "metadata": {
        "id": "_zGkqfa4ibHf"
      },
      "source": [
        "Evaluation function"
      ]
    },
    {
      "cell_type": "code",
      "execution_count": null,
      "metadata": {
        "id": "McEF72kykZeh"
      },
      "outputs": [],
      "source": [
        "from sklearn.metrics import mean_squared_error"
      ]
    },
    {
      "cell_type": "markdown",
      "metadata": {
        "id": "mvy7d0LwhbIG"
      },
      "source": [
        "**Linear Regression**"
      ]
    },
    {
      "cell_type": "code",
      "execution_count": null,
      "metadata": {
        "id": "iYb0L25zRGwQ"
      },
      "outputs": [],
      "source": [
        "#fit the model and predict\n",
        "from sklearn.linear_model import LinearRegression\n",
        "LR = LinearRegression()\n",
        "LR.fit(X_train,y_train)\n",
        "LR_pred = LR.predict(X_test)"
      ]
    },
    {
      "cell_type": "code",
      "execution_count": null,
      "metadata": {
        "colab": {
          "base_uri": "https://localhost:8080/"
        },
        "id": "rYtGKColiRQi",
        "outputId": "bef4ad5f-f1db-4f54-89e3-0a724ca58195"
      },
      "outputs": [
        {
          "output_type": "execute_result",
          "data": {
            "text/plain": [
              "25605325163.133"
            ]
          },
          "metadata": {},
          "execution_count": 42
        }
      ],
      "source": [
        "rmse_log = round(np.sqrt(mean_squared_error(y_test, LR_pred)),4)\n",
        "rmse_log"
      ]
    },
    {
      "cell_type": "code",
      "execution_count": null,
      "metadata": {
        "colab": {
          "base_uri": "https://localhost:8080/"
        },
        "id": "c64nWBjVtmL-",
        "outputId": "76e75fe3-da18-4d40-ccf9-694950b2a7d8"
      },
      "outputs": [
        {
          "output_type": "execute_result",
          "data": {
            "text/plain": [
              "0.0883"
            ]
          },
          "metadata": {},
          "execution_count": 43
        }
      ],
      "source": [
        "#Check the training error\n",
        "LR_train_pred = LR.predict(X_train)\n",
        "rmse_log_train = round(np.sqrt(mean_squared_error(y_train, LR_train_pred)),4)\n",
        "rmse_log_train"
      ]
    },
    {
      "cell_type": "code",
      "execution_count": null,
      "metadata": {
        "colab": {
          "base_uri": "https://localhost:8080/"
        },
        "id": "-lePCGfR1mnu",
        "outputId": "6f33b56c-6e30-4b9c-e737-7337313b31e2"
      },
      "outputs": [
        {
          "output_type": "execute_result",
          "data": {
            "text/plain": [
              "['Linear Regression', 25605325163.133, 0.0883, 'None']"
            ]
          },
          "metadata": {},
          "execution_count": 44
        }
      ],
      "source": [
        "columns = ['Model','Test RMSE(log)','Train RMSE(log)','Test RMSE']\n",
        "LR_list = [\"Linear Regression\", rmse_log, rmse_log_train, \"None\"]\n",
        "LR_list"
      ]
    },
    {
      "cell_type": "markdown",
      "metadata": {
        "id": "vENVlSKAkfjS"
      },
      "source": [
        "**Ridge Regression**"
      ]
    },
    {
      "cell_type": "code",
      "execution_count": null,
      "metadata": {
        "id": "IbiEm5bnks8N"
      },
      "outputs": [],
      "source": [
        "RR = Ridge(alpha=5.0)\n",
        "RR.fit(X_train,y_train)\n",
        "RR_pred = RR.predict(X_test)"
      ]
    },
    {
      "cell_type": "code",
      "execution_count": null,
      "metadata": {
        "colab": {
          "base_uri": "https://localhost:8080/"
        },
        "id": "tLY2qbXpk1-Q",
        "outputId": "983ac146-c1b2-4378-9182-40ca5602ee86"
      },
      "outputs": [
        {
          "output_type": "execute_result",
          "data": {
            "text/plain": [
              "0.1267"
            ]
          },
          "metadata": {},
          "execution_count": 46
        }
      ],
      "source": [
        "RR_pred = RR.predict(X_test)\n",
        "rmse_RR = round(np.sqrt(mean_squared_error(y_test, RR_pred)),4)\n",
        "rmse_RR"
      ]
    },
    {
      "cell_type": "code",
      "execution_count": null,
      "metadata": {
        "colab": {
          "base_uri": "https://localhost:8080/"
        },
        "id": "AiAVe_vt1JWj",
        "outputId": "47d88da1-bf28-4821-bc1a-44375f0915d7"
      },
      "outputs": [
        {
          "output_type": "execute_result",
          "data": {
            "text/plain": [
              "0.0885"
            ]
          },
          "metadata": {},
          "execution_count": 47
        }
      ],
      "source": [
        "#training error\n",
        "RR_train_pred = RR.predict(X_train)\n",
        "rmse_train_RR = round(np.sqrt(mean_squared_error(y_train, RR_train_pred)),4)\n",
        "rmse_train_RR"
      ]
    },
    {
      "cell_type": "code",
      "execution_count": null,
      "metadata": {
        "colab": {
          "base_uri": "https://localhost:8080/"
        },
        "id": "BsHID-AAsH8a",
        "outputId": "256d2987-57d0-4502-9cec-2d6d1caa7253"
      },
      "outputs": [
        {
          "output_type": "execute_result",
          "data": {
            "text/plain": [
              "24489.2"
            ]
          },
          "metadata": {},
          "execution_count": 48
        }
      ],
      "source": [
        "#Transform the prediction of the log price to original unit and calculate the rmse\n",
        "RR_pred_o = np.expm1(RR_pred)\n",
        "rmse_o_RR = round(np.sqrt(mean_squared_error(y_test_o, RR_pred_o)),1)\n",
        "rmse_o_RR"
      ]
    },
    {
      "cell_type": "code",
      "execution_count": null,
      "metadata": {
        "colab": {
          "base_uri": "https://localhost:8080/"
        },
        "id": "prqB5zTt3YEJ",
        "outputId": "4d6e4360-b68f-491f-a0bc-d11ac4b5c8b1"
      },
      "outputs": [
        {
          "output_type": "execute_result",
          "data": {
            "text/plain": [
              "['Ridge Regression', 0.1267, 0.0885, 24489.2]"
            ]
          },
          "metadata": {},
          "execution_count": 49
        }
      ],
      "source": [
        "RR_list = [\"Ridge Regression\", rmse_RR, rmse_train_RR, rmse_o_RR]\n",
        "RR_list"
      ]
    },
    {
      "cell_type": "markdown",
      "metadata": {
        "id": "Db6N6SIYszHX"
      },
      "source": [
        "**Lasso Regression**"
      ]
    },
    {
      "cell_type": "code",
      "execution_count": null,
      "metadata": {
        "colab": {
          "base_uri": "https://localhost:8080/"
        },
        "id": "oVFHyDewszeE",
        "outputId": "9e79fa91-7d8d-49fb-91d4-ba3f77bfd52e"
      },
      "outputs": [
        {
          "output_type": "execute_result",
          "data": {
            "text/plain": [
              "0.11366261253967751"
            ]
          },
          "metadata": {},
          "execution_count": 50
        }
      ],
      "source": [
        "LA_R = linear_model.Lasso(alpha=0.004)\n",
        "LA_R.fit(X_train, y_train)\n",
        "LA_R_pred = LA_R.predict(X_test)\n",
        "rmse_LA = np.sqrt(mean_squared_error(y_test, LA_R_pred))\n",
        "rmse_LA"
      ]
    },
    {
      "cell_type": "code",
      "execution_count": null,
      "metadata": {
        "colab": {
          "base_uri": "https://localhost:8080/"
        },
        "id": "iQYbZhnv4Ll8",
        "outputId": "f95e8fd2-a342-4525-a21d-7e2e05462b18"
      },
      "outputs": [
        {
          "output_type": "execute_result",
          "data": {
            "text/plain": [
              "0.1005"
            ]
          },
          "metadata": {},
          "execution_count": 51
        }
      ],
      "source": [
        "#training error\n",
        "LA_train_pred = LA_R.predict(X_train)\n",
        "rmse_train_LA = round(np.sqrt(mean_squared_error(y_train, LA_train_pred)),4)\n",
        "rmse_train_LA"
      ]
    },
    {
      "cell_type": "code",
      "execution_count": null,
      "metadata": {
        "colab": {
          "base_uri": "https://localhost:8080/"
        },
        "id": "72QVto3js-F2",
        "outputId": "c3b0a47d-9c72-410d-92b5-7324cfdc689d"
      },
      "outputs": [
        {
          "output_type": "execute_result",
          "data": {
            "text/plain": [
              "23018.1"
            ]
          },
          "metadata": {},
          "execution_count": 52
        }
      ],
      "source": [
        "#Transform the prediction of the log price to original unit and calculate the rmse\n",
        "LA_R_o = np.expm1(LA_R_pred)\n",
        "rmse_o_LA = round(np.sqrt(mean_squared_error(y_test_o, LA_R_o)),1)\n",
        "rmse_o_LA"
      ]
    },
    {
      "cell_type": "code",
      "execution_count": null,
      "metadata": {
        "colab": {
          "base_uri": "https://localhost:8080/"
        },
        "id": "4YLU243J4a5a",
        "outputId": "ba9048d0-65ee-43c9-85ea-0faf0afae050"
      },
      "outputs": [
        {
          "output_type": "execute_result",
          "data": {
            "text/plain": [
              "['Lasso Regression', 0.11366261253967751, 0.1005, 23018.1]"
            ]
          },
          "metadata": {},
          "execution_count": 53
        }
      ],
      "source": [
        "LA_list = [\"Lasso Regression\", rmse_LA, rmse_train_LA, rmse_o_LA]\n",
        "LA_list"
      ]
    },
    {
      "cell_type": "markdown",
      "metadata": {
        "id": "XetCYzc0wDNH"
      },
      "source": [
        "**Random Forest**"
      ]
    },
    {
      "cell_type": "code",
      "execution_count": null,
      "metadata": {
        "colab": {
          "base_uri": "https://localhost:8080/"
        },
        "id": "ajWWvZtGwGWi",
        "outputId": "e18c21b2-0c06-46f2-bc92-6e265ef2f820"
      },
      "outputs": [
        {
          "output_type": "execute_result",
          "data": {
            "text/plain": [
              "0.1369"
            ]
          },
          "metadata": {},
          "execution_count": 138
        }
      ],
      "source": [
        "RF = RandomForestRegressor(n_estimators=100,max_depth = 10)\n",
        "RF.fit(X_train,y_train)\n",
        "RF_pred = RF.predict(X_test)\n",
        "rmse_RF = round(np.sqrt(mean_squared_error(y_test, RF_pred)),4)\n",
        "rmse_RF"
      ]
    },
    {
      "cell_type": "code",
      "execution_count": null,
      "metadata": {
        "colab": {
          "base_uri": "https://localhost:8080/"
        },
        "id": "_4zgfc5Y4ln6",
        "outputId": "c3444afa-4300-4411-b170-6fef59e7f392"
      },
      "outputs": [
        {
          "output_type": "execute_result",
          "data": {
            "text/plain": [
              "0.0615"
            ]
          },
          "metadata": {},
          "execution_count": 139
        }
      ],
      "source": [
        "#training error\n",
        "RF_train_pred = RF.predict(X_train)\n",
        "rmse_train_RF = round(np.sqrt(mean_squared_error(y_train, RF_train_pred)),4)\n",
        "rmse_train_RF"
      ]
    },
    {
      "cell_type": "code",
      "execution_count": null,
      "metadata": {
        "colab": {
          "base_uri": "https://localhost:8080/"
        },
        "id": "9NVdN7r3wQbh",
        "outputId": "f1d47c9b-eb7f-4a73-add1-df4caf05e556"
      },
      "outputs": [
        {
          "output_type": "execute_result",
          "data": {
            "text/plain": [
              "28917.3"
            ]
          },
          "metadata": {},
          "execution_count": 140
        }
      ],
      "source": [
        "#Transform the prediction of the log price to original unit and calculate the rmse\n",
        "RF_o = np.expm1(RF_pred)\n",
        "rmse_o_RF = round(np.sqrt(mean_squared_error(y_test_o, RF_o)),1)\n",
        "rmse_o_RF"
      ]
    },
    {
      "cell_type": "code",
      "execution_count": null,
      "metadata": {
        "colab": {
          "base_uri": "https://localhost:8080/"
        },
        "id": "7Sg7DTmH5Ltf",
        "outputId": "a816718c-06ac-4b1a-9d9d-82e4df522894"
      },
      "outputs": [
        {
          "output_type": "execute_result",
          "data": {
            "text/plain": [
              "['Random forest', 0.1369, 0.0615, 28917.3]"
            ]
          },
          "metadata": {},
          "execution_count": 141
        }
      ],
      "source": [
        "RF_list = [\"Random forest\", rmse_RF, rmse_train_RF, rmse_o_RF]\n",
        "RF_list"
      ]
    },
    {
      "cell_type": "code",
      "execution_count": null,
      "metadata": {
        "colab": {
          "base_uri": "https://localhost:8080/"
        },
        "id": "Y1NZufuuxujo",
        "outputId": "c92e6efe-7ec3-4aa6-ef42-1090ba717be8"
      },
      "outputs": [
        {
          "output_type": "execute_result",
          "data": {
            "text/plain": [
              "Index(['LotFrontage', 'LotArea', 'OverallQual', 'OverallCond', 'YearBuilt',\n",
              "       'YearRemodAdd', 'MasVnrArea', 'BsmtFinSF1', 'BsmtFinSF2', 'BsmtUnfSF',\n",
              "       ...\n",
              "       'SaleType_ConLw', 'SaleType_New', 'SaleType_Oth', 'SaleType_WD',\n",
              "       'SaleCondition_Abnorml', 'SaleCondition_AdjLand',\n",
              "       'SaleCondition_Alloca', 'SaleCondition_Family', 'SaleCondition_Normal',\n",
              "       'SaleCondition_Partial'],\n",
              "      dtype='object', length=321)"
            ]
          },
          "metadata": {},
          "execution_count": 58
        }
      ],
      "source": [
        "X_train.columns"
      ]
    },
    {
      "cell_type": "code",
      "execution_count": null,
      "metadata": {
        "id": "G2uZiAtLzoPX",
        "colab": {
          "base_uri": "https://localhost:8080/"
        },
        "outputId": "d5a504e4-d119-4d2c-cc50-0795d55e1141"
      },
      "outputs": [
        {
          "output_type": "stream",
          "name": "stdout",
          "text": [
            "Looking in indexes: https://pypi.org/simple, https://us-python.pkg.dev/colab-wheels/public/simple/\n",
            "Collecting rfpimp\n",
            "  Downloading rfpimp-1.3.7.tar.gz (10 kB)\n",
            "Requirement already satisfied: numpy in /usr/local/lib/python3.7/dist-packages (from rfpimp) (1.21.6)\n",
            "Requirement already satisfied: pandas in /usr/local/lib/python3.7/dist-packages (from rfpimp) (1.3.5)\n",
            "Requirement already satisfied: scikit-learn in /usr/local/lib/python3.7/dist-packages (from rfpimp) (1.0.2)\n",
            "Requirement already satisfied: matplotlib in /usr/local/lib/python3.7/dist-packages (from rfpimp) (3.2.2)\n",
            "Requirement already satisfied: cycler>=0.10 in /usr/local/lib/python3.7/dist-packages (from matplotlib->rfpimp) (0.11.0)\n",
            "Requirement already satisfied: pyparsing!=2.0.4,!=2.1.2,!=2.1.6,>=2.0.1 in /usr/local/lib/python3.7/dist-packages (from matplotlib->rfpimp) (3.0.9)\n",
            "Requirement already satisfied: kiwisolver>=1.0.1 in /usr/local/lib/python3.7/dist-packages (from matplotlib->rfpimp) (1.4.3)\n",
            "Requirement already satisfied: python-dateutil>=2.1 in /usr/local/lib/python3.7/dist-packages (from matplotlib->rfpimp) (2.8.2)\n",
            "Requirement already satisfied: typing-extensions in /usr/local/lib/python3.7/dist-packages (from kiwisolver>=1.0.1->matplotlib->rfpimp) (4.1.1)\n",
            "Requirement already satisfied: six>=1.5 in /usr/local/lib/python3.7/dist-packages (from python-dateutil>=2.1->matplotlib->rfpimp) (1.15.0)\n",
            "Requirement already satisfied: pytz>=2017.3 in /usr/local/lib/python3.7/dist-packages (from pandas->rfpimp) (2022.1)\n",
            "Requirement already satisfied: threadpoolctl>=2.0.0 in /usr/local/lib/python3.7/dist-packages (from scikit-learn->rfpimp) (3.1.0)\n",
            "Requirement already satisfied: scipy>=1.1.0 in /usr/local/lib/python3.7/dist-packages (from scikit-learn->rfpimp) (1.4.1)\n",
            "Requirement already satisfied: joblib>=0.11 in /usr/local/lib/python3.7/dist-packages (from scikit-learn->rfpimp) (1.1.0)\n",
            "Building wheels for collected packages: rfpimp\n",
            "  Building wheel for rfpimp (setup.py) ... \u001b[?25l\u001b[?25hdone\n",
            "  Created wheel for rfpimp: filename=rfpimp-1.3.7-py3-none-any.whl size=10669 sha256=911bf7ec9f6b84d89f53e08576084bb1b983d8266d6474594557c52877ab7303\n",
            "  Stored in directory: /root/.cache/pip/wheels/ad/48/d9/21fc62fbeff405425b0d5dd8b0354576cdb62ac97f6b11d1ef\n",
            "Successfully built rfpimp\n",
            "Installing collected packages: rfpimp\n",
            "Successfully installed rfpimp-1.3.7\n"
          ]
        }
      ],
      "source": [
        "!pip install rfpimp"
      ]
    },
    {
      "cell_type": "code",
      "execution_count": null,
      "metadata": {
        "id": "HDb3CxA6zXhH"
      },
      "outputs": [],
      "source": [
        "#Check feature importance in the random forest model trained\n",
        "from sklearn.metrics import r2_score\n",
        "from rfpimp import permutation_importances\n",
        "def r2(rf, X_train, y_train):\n",
        "    return r2_score(y_train, rf.predict(X_train))\n",
        "perm_imp_rfpimp = permutation_importances(RF, X_train, y_train, r2)"
      ]
    },
    {
      "cell_type": "code",
      "execution_count": null,
      "metadata": {
        "colab": {
          "base_uri": "https://localhost:8080/",
          "height": 708
        },
        "id": "p00nI5Pdz3cM",
        "outputId": "6fa3c13f-486f-4f37-f68c-c5e485853349"
      },
      "outputs": [
        {
          "output_type": "execute_result",
          "data": {
            "text/plain": [
              "                  Importance\n",
              "Feature                     \n",
              "OverallQual         0.364278\n",
              "CombinedSF          0.067090\n",
              "TotalBsmtSF         0.038461\n",
              "Total_Bathrooms     0.029681\n",
              "GarageCars          0.024531\n",
              "SqFtPerRoom         0.018737\n",
              "GrLivArea           0.015293\n",
              "1stFlrSF            0.014944\n",
              "GarageArea          0.012058\n",
              "BsmtFinSF1          0.011997\n",
              "HomeQuality         0.009387\n",
              "LotArea             0.008095\n",
              "YearBuilt           0.007411\n",
              "YearRemodAdd        0.004778\n",
              "LotFrontage         0.004700\n",
              "2ndFlrSF            0.004692\n",
              "MSZoning_C (all)    0.004420\n",
              "OpenPorchSF         0.003902\n",
              "GarageYrBlt         0.003686\n",
              "OverallCond         0.003024"
            ],
            "text/html": [
              "\n",
              "  <div id=\"df-3b081dd3-2c74-46b9-b2d4-5897cbcd6ed7\">\n",
              "    <div class=\"colab-df-container\">\n",
              "      <div>\n",
              "<style scoped>\n",
              "    .dataframe tbody tr th:only-of-type {\n",
              "        vertical-align: middle;\n",
              "    }\n",
              "\n",
              "    .dataframe tbody tr th {\n",
              "        vertical-align: top;\n",
              "    }\n",
              "\n",
              "    .dataframe thead th {\n",
              "        text-align: right;\n",
              "    }\n",
              "</style>\n",
              "<table border=\"1\" class=\"dataframe\">\n",
              "  <thead>\n",
              "    <tr style=\"text-align: right;\">\n",
              "      <th></th>\n",
              "      <th>Importance</th>\n",
              "    </tr>\n",
              "    <tr>\n",
              "      <th>Feature</th>\n",
              "      <th></th>\n",
              "    </tr>\n",
              "  </thead>\n",
              "  <tbody>\n",
              "    <tr>\n",
              "      <th>OverallQual</th>\n",
              "      <td>0.364278</td>\n",
              "    </tr>\n",
              "    <tr>\n",
              "      <th>CombinedSF</th>\n",
              "      <td>0.067090</td>\n",
              "    </tr>\n",
              "    <tr>\n",
              "      <th>TotalBsmtSF</th>\n",
              "      <td>0.038461</td>\n",
              "    </tr>\n",
              "    <tr>\n",
              "      <th>Total_Bathrooms</th>\n",
              "      <td>0.029681</td>\n",
              "    </tr>\n",
              "    <tr>\n",
              "      <th>GarageCars</th>\n",
              "      <td>0.024531</td>\n",
              "    </tr>\n",
              "    <tr>\n",
              "      <th>SqFtPerRoom</th>\n",
              "      <td>0.018737</td>\n",
              "    </tr>\n",
              "    <tr>\n",
              "      <th>GrLivArea</th>\n",
              "      <td>0.015293</td>\n",
              "    </tr>\n",
              "    <tr>\n",
              "      <th>1stFlrSF</th>\n",
              "      <td>0.014944</td>\n",
              "    </tr>\n",
              "    <tr>\n",
              "      <th>GarageArea</th>\n",
              "      <td>0.012058</td>\n",
              "    </tr>\n",
              "    <tr>\n",
              "      <th>BsmtFinSF1</th>\n",
              "      <td>0.011997</td>\n",
              "    </tr>\n",
              "    <tr>\n",
              "      <th>HomeQuality</th>\n",
              "      <td>0.009387</td>\n",
              "    </tr>\n",
              "    <tr>\n",
              "      <th>LotArea</th>\n",
              "      <td>0.008095</td>\n",
              "    </tr>\n",
              "    <tr>\n",
              "      <th>YearBuilt</th>\n",
              "      <td>0.007411</td>\n",
              "    </tr>\n",
              "    <tr>\n",
              "      <th>YearRemodAdd</th>\n",
              "      <td>0.004778</td>\n",
              "    </tr>\n",
              "    <tr>\n",
              "      <th>LotFrontage</th>\n",
              "      <td>0.004700</td>\n",
              "    </tr>\n",
              "    <tr>\n",
              "      <th>2ndFlrSF</th>\n",
              "      <td>0.004692</td>\n",
              "    </tr>\n",
              "    <tr>\n",
              "      <th>MSZoning_C (all)</th>\n",
              "      <td>0.004420</td>\n",
              "    </tr>\n",
              "    <tr>\n",
              "      <th>OpenPorchSF</th>\n",
              "      <td>0.003902</td>\n",
              "    </tr>\n",
              "    <tr>\n",
              "      <th>GarageYrBlt</th>\n",
              "      <td>0.003686</td>\n",
              "    </tr>\n",
              "    <tr>\n",
              "      <th>OverallCond</th>\n",
              "      <td>0.003024</td>\n",
              "    </tr>\n",
              "  </tbody>\n",
              "</table>\n",
              "</div>\n",
              "      <button class=\"colab-df-convert\" onclick=\"convertToInteractive('df-3b081dd3-2c74-46b9-b2d4-5897cbcd6ed7')\"\n",
              "              title=\"Convert this dataframe to an interactive table.\"\n",
              "              style=\"display:none;\">\n",
              "        \n",
              "  <svg xmlns=\"http://www.w3.org/2000/svg\" height=\"24px\"viewBox=\"0 0 24 24\"\n",
              "       width=\"24px\">\n",
              "    <path d=\"M0 0h24v24H0V0z\" fill=\"none\"/>\n",
              "    <path d=\"M18.56 5.44l.94 2.06.94-2.06 2.06-.94-2.06-.94-.94-2.06-.94 2.06-2.06.94zm-11 1L8.5 8.5l.94-2.06 2.06-.94-2.06-.94L8.5 2.5l-.94 2.06-2.06.94zm10 10l.94 2.06.94-2.06 2.06-.94-2.06-.94-.94-2.06-.94 2.06-2.06.94z\"/><path d=\"M17.41 7.96l-1.37-1.37c-.4-.4-.92-.59-1.43-.59-.52 0-1.04.2-1.43.59L10.3 9.45l-7.72 7.72c-.78.78-.78 2.05 0 2.83L4 21.41c.39.39.9.59 1.41.59.51 0 1.02-.2 1.41-.59l7.78-7.78 2.81-2.81c.8-.78.8-2.07 0-2.86zM5.41 20L4 18.59l7.72-7.72 1.47 1.35L5.41 20z\"/>\n",
              "  </svg>\n",
              "      </button>\n",
              "      \n",
              "  <style>\n",
              "    .colab-df-container {\n",
              "      display:flex;\n",
              "      flex-wrap:wrap;\n",
              "      gap: 12px;\n",
              "    }\n",
              "\n",
              "    .colab-df-convert {\n",
              "      background-color: #E8F0FE;\n",
              "      border: none;\n",
              "      border-radius: 50%;\n",
              "      cursor: pointer;\n",
              "      display: none;\n",
              "      fill: #1967D2;\n",
              "      height: 32px;\n",
              "      padding: 0 0 0 0;\n",
              "      width: 32px;\n",
              "    }\n",
              "\n",
              "    .colab-df-convert:hover {\n",
              "      background-color: #E2EBFA;\n",
              "      box-shadow: 0px 1px 2px rgba(60, 64, 67, 0.3), 0px 1px 3px 1px rgba(60, 64, 67, 0.15);\n",
              "      fill: #174EA6;\n",
              "    }\n",
              "\n",
              "    [theme=dark] .colab-df-convert {\n",
              "      background-color: #3B4455;\n",
              "      fill: #D2E3FC;\n",
              "    }\n",
              "\n",
              "    [theme=dark] .colab-df-convert:hover {\n",
              "      background-color: #434B5C;\n",
              "      box-shadow: 0px 1px 3px 1px rgba(0, 0, 0, 0.15);\n",
              "      filter: drop-shadow(0px 1px 2px rgba(0, 0, 0, 0.3));\n",
              "      fill: #FFFFFF;\n",
              "    }\n",
              "  </style>\n",
              "\n",
              "      <script>\n",
              "        const buttonEl =\n",
              "          document.querySelector('#df-3b081dd3-2c74-46b9-b2d4-5897cbcd6ed7 button.colab-df-convert');\n",
              "        buttonEl.style.display =\n",
              "          google.colab.kernel.accessAllowed ? 'block' : 'none';\n",
              "\n",
              "        async function convertToInteractive(key) {\n",
              "          const element = document.querySelector('#df-3b081dd3-2c74-46b9-b2d4-5897cbcd6ed7');\n",
              "          const dataTable =\n",
              "            await google.colab.kernel.invokeFunction('convertToInteractive',\n",
              "                                                     [key], {});\n",
              "          if (!dataTable) return;\n",
              "\n",
              "          const docLinkHtml = 'Like what you see? Visit the ' +\n",
              "            '<a target=\"_blank\" href=https://colab.research.google.com/notebooks/data_table.ipynb>data table notebook</a>'\n",
              "            + ' to learn more about interactive tables.';\n",
              "          element.innerHTML = '';\n",
              "          dataTable['output_type'] = 'display_data';\n",
              "          await google.colab.output.renderOutput(dataTable, element);\n",
              "          const docLink = document.createElement('div');\n",
              "          docLink.innerHTML = docLinkHtml;\n",
              "          element.appendChild(docLink);\n",
              "        }\n",
              "      </script>\n",
              "    </div>\n",
              "  </div>\n",
              "  "
            ]
          },
          "metadata": {},
          "execution_count": 61
        }
      ],
      "source": [
        "perm_imp_rfpimp.head(20)"
      ]
    },
    {
      "cell_type": "markdown",
      "metadata": {
        "id": "Pk2YUkr1shi5"
      },
      "source": [
        "**CatBoost**"
      ]
    },
    {
      "cell_type": "code",
      "execution_count": null,
      "metadata": {
        "colab": {
          "base_uri": "https://localhost:8080/"
        },
        "id": "FTKVKJK_si3H",
        "outputId": "88ac6c79-6c07-4195-fc56-660911491456"
      },
      "outputs": [
        {
          "output_type": "execute_result",
          "data": {
            "text/plain": [
              "0.1136"
            ]
          },
          "metadata": {},
          "execution_count": 62
        }
      ],
      "source": [
        "CBG = CatBoostRegressor(verbose=0)\n",
        "CBG.fit(X_train,y_train)\n",
        "CBG_pred = CBG.predict(X_test)\n",
        "rmse_CBG = round(np.sqrt(mean_squared_error(y_test, CBG_pred)),4)\n",
        "rmse_CBG"
      ]
    },
    {
      "cell_type": "code",
      "execution_count": null,
      "metadata": {
        "colab": {
          "base_uri": "https://localhost:8080/"
        },
        "id": "QeBCubX75oaX",
        "outputId": "20b884e8-5e7c-4808-d62e-e582c0b8b784"
      },
      "outputs": [
        {
          "output_type": "execute_result",
          "data": {
            "text/plain": [
              "0.0314"
            ]
          },
          "metadata": {},
          "execution_count": 63
        }
      ],
      "source": [
        "#training error\n",
        "CBG_train_pred = CBG.predict(X_train)\n",
        "rmse_train_CBG = round(np.sqrt(mean_squared_error(y_train, CBG_train_pred)),4)\n",
        "rmse_train_CBG"
      ]
    },
    {
      "cell_type": "code",
      "execution_count": null,
      "metadata": {
        "colab": {
          "base_uri": "https://localhost:8080/"
        },
        "id": "GyH7hxsE4CaE",
        "outputId": "b7e97582-d28d-4cd2-f6b6-b59ef430d94b"
      },
      "outputs": [
        {
          "output_type": "execute_result",
          "data": {
            "text/plain": [
              "24547.9"
            ]
          },
          "metadata": {},
          "execution_count": 64
        }
      ],
      "source": [
        "#Transform the prediction of the log price to original unit and calculate the rmse\n",
        "CBG_o = np.expm1(CBG_pred)\n",
        "rmse_o_CBG = round(np.sqrt(mean_squared_error(y_test_o, CBG_o)),1)\n",
        "rmse_o_CBG"
      ]
    },
    {
      "cell_type": "code",
      "execution_count": null,
      "metadata": {
        "colab": {
          "base_uri": "https://localhost:8080/"
        },
        "id": "SgIVunoh6FDW",
        "outputId": "fd2880d5-fd4f-44ec-d2b9-5b57da89bd49"
      },
      "outputs": [
        {
          "output_type": "execute_result",
          "data": {
            "text/plain": [
              "['CatBoost', 0.1136, 0.0314, 24547.9]"
            ]
          },
          "metadata": {},
          "execution_count": 65
        }
      ],
      "source": [
        "CBG_list = [\"CatBoost\", rmse_CBG, rmse_train_CBG, rmse_o_CBG]\n",
        "CBG_list"
      ]
    },
    {
      "cell_type": "code",
      "execution_count": null,
      "metadata": {
        "colab": {
          "base_uri": "https://localhost:8080/",
          "height": 677
        },
        "id": "N48ahyPR8xZ0",
        "outputId": "0a4951d2-00be-422f-a2d9-9ead2b1fdb02"
      },
      "outputs": [
        {
          "output_type": "execute_result",
          "data": {
            "text/plain": [
              "             Feature  Impotance\n",
              "0        OverallQual  18.055263\n",
              "1         CombinedSF   8.483361\n",
              "2        TotalBsmtSF   7.036604\n",
              "3        HomeQuality   6.289316\n",
              "4          GrLivArea   5.232107\n",
              "5    Total_Bathrooms   4.010545\n",
              "6            LotArea   3.623967\n",
              "7          YearBuilt   3.598247\n",
              "8           1stFlrSF   2.562470\n",
              "9         GarageCars   2.494369\n",
              "10        GarageArea   2.396743\n",
              "11       SqFtPerRoom   1.865395\n",
              "12        BsmtFinSF1   1.702988\n",
              "13       LotFrontage   1.333048\n",
              "14          2ndFlrSF   1.157668\n",
              "15       GarageYrBlt   1.101684\n",
              "16      YearRemodAdd   1.052478\n",
              "17          FullBath   1.020510\n",
              "18    KitchenQual_Ex   0.957901\n",
              "19  FireplaceQu_None   0.904934"
            ],
            "text/html": [
              "\n",
              "  <div id=\"df-897b795e-2557-45fb-8fa9-19bfad119117\">\n",
              "    <div class=\"colab-df-container\">\n",
              "      <div>\n",
              "<style scoped>\n",
              "    .dataframe tbody tr th:only-of-type {\n",
              "        vertical-align: middle;\n",
              "    }\n",
              "\n",
              "    .dataframe tbody tr th {\n",
              "        vertical-align: top;\n",
              "    }\n",
              "\n",
              "    .dataframe thead th {\n",
              "        text-align: right;\n",
              "    }\n",
              "</style>\n",
              "<table border=\"1\" class=\"dataframe\">\n",
              "  <thead>\n",
              "    <tr style=\"text-align: right;\">\n",
              "      <th></th>\n",
              "      <th>Feature</th>\n",
              "      <th>Impotance</th>\n",
              "    </tr>\n",
              "  </thead>\n",
              "  <tbody>\n",
              "    <tr>\n",
              "      <th>0</th>\n",
              "      <td>OverallQual</td>\n",
              "      <td>18.055263</td>\n",
              "    </tr>\n",
              "    <tr>\n",
              "      <th>1</th>\n",
              "      <td>CombinedSF</td>\n",
              "      <td>8.483361</td>\n",
              "    </tr>\n",
              "    <tr>\n",
              "      <th>2</th>\n",
              "      <td>TotalBsmtSF</td>\n",
              "      <td>7.036604</td>\n",
              "    </tr>\n",
              "    <tr>\n",
              "      <th>3</th>\n",
              "      <td>HomeQuality</td>\n",
              "      <td>6.289316</td>\n",
              "    </tr>\n",
              "    <tr>\n",
              "      <th>4</th>\n",
              "      <td>GrLivArea</td>\n",
              "      <td>5.232107</td>\n",
              "    </tr>\n",
              "    <tr>\n",
              "      <th>5</th>\n",
              "      <td>Total_Bathrooms</td>\n",
              "      <td>4.010545</td>\n",
              "    </tr>\n",
              "    <tr>\n",
              "      <th>6</th>\n",
              "      <td>LotArea</td>\n",
              "      <td>3.623967</td>\n",
              "    </tr>\n",
              "    <tr>\n",
              "      <th>7</th>\n",
              "      <td>YearBuilt</td>\n",
              "      <td>3.598247</td>\n",
              "    </tr>\n",
              "    <tr>\n",
              "      <th>8</th>\n",
              "      <td>1stFlrSF</td>\n",
              "      <td>2.562470</td>\n",
              "    </tr>\n",
              "    <tr>\n",
              "      <th>9</th>\n",
              "      <td>GarageCars</td>\n",
              "      <td>2.494369</td>\n",
              "    </tr>\n",
              "    <tr>\n",
              "      <th>10</th>\n",
              "      <td>GarageArea</td>\n",
              "      <td>2.396743</td>\n",
              "    </tr>\n",
              "    <tr>\n",
              "      <th>11</th>\n",
              "      <td>SqFtPerRoom</td>\n",
              "      <td>1.865395</td>\n",
              "    </tr>\n",
              "    <tr>\n",
              "      <th>12</th>\n",
              "      <td>BsmtFinSF1</td>\n",
              "      <td>1.702988</td>\n",
              "    </tr>\n",
              "    <tr>\n",
              "      <th>13</th>\n",
              "      <td>LotFrontage</td>\n",
              "      <td>1.333048</td>\n",
              "    </tr>\n",
              "    <tr>\n",
              "      <th>14</th>\n",
              "      <td>2ndFlrSF</td>\n",
              "      <td>1.157668</td>\n",
              "    </tr>\n",
              "    <tr>\n",
              "      <th>15</th>\n",
              "      <td>GarageYrBlt</td>\n",
              "      <td>1.101684</td>\n",
              "    </tr>\n",
              "    <tr>\n",
              "      <th>16</th>\n",
              "      <td>YearRemodAdd</td>\n",
              "      <td>1.052478</td>\n",
              "    </tr>\n",
              "    <tr>\n",
              "      <th>17</th>\n",
              "      <td>FullBath</td>\n",
              "      <td>1.020510</td>\n",
              "    </tr>\n",
              "    <tr>\n",
              "      <th>18</th>\n",
              "      <td>KitchenQual_Ex</td>\n",
              "      <td>0.957901</td>\n",
              "    </tr>\n",
              "    <tr>\n",
              "      <th>19</th>\n",
              "      <td>FireplaceQu_None</td>\n",
              "      <td>0.904934</td>\n",
              "    </tr>\n",
              "  </tbody>\n",
              "</table>\n",
              "</div>\n",
              "      <button class=\"colab-df-convert\" onclick=\"convertToInteractive('df-897b795e-2557-45fb-8fa9-19bfad119117')\"\n",
              "              title=\"Convert this dataframe to an interactive table.\"\n",
              "              style=\"display:none;\">\n",
              "        \n",
              "  <svg xmlns=\"http://www.w3.org/2000/svg\" height=\"24px\"viewBox=\"0 0 24 24\"\n",
              "       width=\"24px\">\n",
              "    <path d=\"M0 0h24v24H0V0z\" fill=\"none\"/>\n",
              "    <path d=\"M18.56 5.44l.94 2.06.94-2.06 2.06-.94-2.06-.94-.94-2.06-.94 2.06-2.06.94zm-11 1L8.5 8.5l.94-2.06 2.06-.94-2.06-.94L8.5 2.5l-.94 2.06-2.06.94zm10 10l.94 2.06.94-2.06 2.06-.94-2.06-.94-.94-2.06-.94 2.06-2.06.94z\"/><path d=\"M17.41 7.96l-1.37-1.37c-.4-.4-.92-.59-1.43-.59-.52 0-1.04.2-1.43.59L10.3 9.45l-7.72 7.72c-.78.78-.78 2.05 0 2.83L4 21.41c.39.39.9.59 1.41.59.51 0 1.02-.2 1.41-.59l7.78-7.78 2.81-2.81c.8-.78.8-2.07 0-2.86zM5.41 20L4 18.59l7.72-7.72 1.47 1.35L5.41 20z\"/>\n",
              "  </svg>\n",
              "      </button>\n",
              "      \n",
              "  <style>\n",
              "    .colab-df-container {\n",
              "      display:flex;\n",
              "      flex-wrap:wrap;\n",
              "      gap: 12px;\n",
              "    }\n",
              "\n",
              "    .colab-df-convert {\n",
              "      background-color: #E8F0FE;\n",
              "      border: none;\n",
              "      border-radius: 50%;\n",
              "      cursor: pointer;\n",
              "      display: none;\n",
              "      fill: #1967D2;\n",
              "      height: 32px;\n",
              "      padding: 0 0 0 0;\n",
              "      width: 32px;\n",
              "    }\n",
              "\n",
              "    .colab-df-convert:hover {\n",
              "      background-color: #E2EBFA;\n",
              "      box-shadow: 0px 1px 2px rgba(60, 64, 67, 0.3), 0px 1px 3px 1px rgba(60, 64, 67, 0.15);\n",
              "      fill: #174EA6;\n",
              "    }\n",
              "\n",
              "    [theme=dark] .colab-df-convert {\n",
              "      background-color: #3B4455;\n",
              "      fill: #D2E3FC;\n",
              "    }\n",
              "\n",
              "    [theme=dark] .colab-df-convert:hover {\n",
              "      background-color: #434B5C;\n",
              "      box-shadow: 0px 1px 3px 1px rgba(0, 0, 0, 0.15);\n",
              "      filter: drop-shadow(0px 1px 2px rgba(0, 0, 0, 0.3));\n",
              "      fill: #FFFFFF;\n",
              "    }\n",
              "  </style>\n",
              "\n",
              "      <script>\n",
              "        const buttonEl =\n",
              "          document.querySelector('#df-897b795e-2557-45fb-8fa9-19bfad119117 button.colab-df-convert');\n",
              "        buttonEl.style.display =\n",
              "          google.colab.kernel.accessAllowed ? 'block' : 'none';\n",
              "\n",
              "        async function convertToInteractive(key) {\n",
              "          const element = document.querySelector('#df-897b795e-2557-45fb-8fa9-19bfad119117');\n",
              "          const dataTable =\n",
              "            await google.colab.kernel.invokeFunction('convertToInteractive',\n",
              "                                                     [key], {});\n",
              "          if (!dataTable) return;\n",
              "\n",
              "          const docLinkHtml = 'Like what you see? Visit the ' +\n",
              "            '<a target=\"_blank\" href=https://colab.research.google.com/notebooks/data_table.ipynb>data table notebook</a>'\n",
              "            + ' to learn more about interactive tables.';\n",
              "          element.innerHTML = '';\n",
              "          dataTable['output_type'] = 'display_data';\n",
              "          await google.colab.output.renderOutput(dataTable, element);\n",
              "          const docLink = document.createElement('div');\n",
              "          docLink.innerHTML = docLinkHtml;\n",
              "          element.appendChild(docLink);\n",
              "        }\n",
              "      </script>\n",
              "    </div>\n",
              "  </div>\n",
              "  "
            ]
          },
          "metadata": {},
          "execution_count": 66
        }
      ],
      "source": [
        "# feature importance \n",
        "features = X_train.columns.to_list()\n",
        "feat_import = [t for t in zip(features, CBG.get_feature_importance())]\n",
        "feat_import_df = pd.DataFrame(feat_import, columns=['Feature', 'Impotance'])\n",
        "feat_import_df = feat_import_df.sort_values('Impotance', ascending=False)\n",
        "feat_import_df.reset_index(drop=True).head(20)"
      ]
    },
    {
      "cell_type": "markdown",
      "metadata": {
        "id": "42G_lJUo4Qf0"
      },
      "source": [
        "**XGBoost**"
      ]
    },
    {
      "cell_type": "code",
      "execution_count": null,
      "metadata": {
        "colab": {
          "base_uri": "https://localhost:8080/"
        },
        "id": "mzTtdQOh4Sx-",
        "outputId": "a5039bfa-3359-4884-9c69-fb69e87e67bd"
      },
      "outputs": [
        {
          "output_type": "stream",
          "name": "stdout",
          "text": [
            "[12:33:26] WARNING: /workspace/src/objective/regression_obj.cu:152: reg:linear is now deprecated in favor of reg:squarederror.\n"
          ]
        },
        {
          "output_type": "execute_result",
          "data": {
            "text/plain": [
              "0.11687364491948787"
            ]
          },
          "metadata": {},
          "execution_count": 146
        }
      ],
      "source": [
        "XBG = xgb.XGBRegressor(n_estimators=500,max_depth = 3)\n",
        "XBG.fit(X_train,y_train)\n",
        "XBG_pred = XBG.predict(X_test)\n",
        "rmse_XBG = np.sqrt(mean_squared_error(y_test, XBG_pred))\n",
        "rmse_XBG"
      ]
    },
    {
      "cell_type": "code",
      "source": [
        "XBG_train_pred = XBG.predict(X_train)\n",
        "rmse_train_XBG = round(np.sqrt(mean_squared_error(y_train, XBG_train_pred)),4)\n",
        "rmse_train_XBG"
      ],
      "metadata": {
        "colab": {
          "base_uri": "https://localhost:8080/"
        },
        "id": "39NbYwH2kgE0",
        "outputId": "49deac72-5004-42b1-c602-c2d76f04b3bf"
      },
      "execution_count": null,
      "outputs": [
        {
          "output_type": "execute_result",
          "data": {
            "text/plain": [
              "0.034"
            ]
          },
          "metadata": {},
          "execution_count": 147
        }
      ]
    },
    {
      "cell_type": "code",
      "source": [
        "#2000 --> 0.1186/0.005\n",
        "#1000 --> 0.1180/0.0171\n",
        "#500 --> 0.1168/0.03"
      ],
      "metadata": {
        "id": "Zd0TR_njES1L"
      },
      "execution_count": null,
      "outputs": []
    },
    {
      "cell_type": "code",
      "execution_count": null,
      "metadata": {
        "colab": {
          "base_uri": "https://localhost:8080/"
        },
        "id": "78Z1iOSj5Q4q",
        "outputId": "695c39ed-f264-4a2f-a020-782b080421a6"
      },
      "outputs": [
        {
          "output_type": "execute_result",
          "data": {
            "text/plain": [
              "24603.7"
            ]
          },
          "metadata": {},
          "execution_count": 150
        }
      ],
      "source": [
        "XBG_o = np.expm1(XBG_pred)\n",
        "rmse_o_XBG = round(np.sqrt(mean_squared_error(y_test_o, XBG_o)),1)\n",
        "rmse_o_XBG"
      ]
    },
    {
      "cell_type": "code",
      "source": [
        "XBG_list = [\"XGBoost\", rmse_XBG, rmse_train_XBG, rmse_o_XBG]\n",
        "XBG_list"
      ],
      "metadata": {
        "colab": {
          "base_uri": "https://localhost:8080/"
        },
        "id": "Rb1YNxvrklmB",
        "outputId": "7eba3508-a295-4b6d-d2a5-9a92c89d5ff5"
      },
      "execution_count": null,
      "outputs": [
        {
          "output_type": "execute_result",
          "data": {
            "text/plain": [
              "['XGBoost', 0.11687364491948787, 0.034, 24603.7]"
            ]
          },
          "metadata": {},
          "execution_count": 151
        }
      ]
    },
    {
      "cell_type": "code",
      "source": [
        "df_list = [LR_list, RR_list, LA_list, RF_list, XBG_list]\n",
        "df_models = pd.DataFrame(df_list,columns=['Model',\"Test RMSE(log)\", \"Train RMSE(log)\", \"Test RMSE\"]).set_index(\"Model\")\n",
        "df_models"
      ],
      "metadata": {
        "colab": {
          "base_uri": "https://localhost:8080/",
          "height": 238
        },
        "id": "6G0Lv2kEkyFw",
        "outputId": "c2feb437-d4d3-41b0-bcfb-608f698cee85"
      },
      "execution_count": null,
      "outputs": [
        {
          "output_type": "execute_result",
          "data": {
            "text/plain": [
              "                   Test RMSE(log)  Train RMSE(log) Test RMSE\n",
              "Model                                                       \n",
              "Linear Regression    2.560533e+10           0.0883      None\n",
              "Ridge Regression     1.267000e-01           0.0885   24489.2\n",
              "Lasso Regression     1.136626e-01           0.1005   23018.1\n",
              "Random forest        1.369000e-01           0.0615   28917.3\n",
              "XGBoost              1.168736e-01           0.0340   24603.7"
            ],
            "text/html": [
              "\n",
              "  <div id=\"df-fc69ecaa-d6c8-42b6-9223-8e1214c962f4\">\n",
              "    <div class=\"colab-df-container\">\n",
              "      <div>\n",
              "<style scoped>\n",
              "    .dataframe tbody tr th:only-of-type {\n",
              "        vertical-align: middle;\n",
              "    }\n",
              "\n",
              "    .dataframe tbody tr th {\n",
              "        vertical-align: top;\n",
              "    }\n",
              "\n",
              "    .dataframe thead th {\n",
              "        text-align: right;\n",
              "    }\n",
              "</style>\n",
              "<table border=\"1\" class=\"dataframe\">\n",
              "  <thead>\n",
              "    <tr style=\"text-align: right;\">\n",
              "      <th></th>\n",
              "      <th>Test RMSE(log)</th>\n",
              "      <th>Train RMSE(log)</th>\n",
              "      <th>Test RMSE</th>\n",
              "    </tr>\n",
              "    <tr>\n",
              "      <th>Model</th>\n",
              "      <th></th>\n",
              "      <th></th>\n",
              "      <th></th>\n",
              "    </tr>\n",
              "  </thead>\n",
              "  <tbody>\n",
              "    <tr>\n",
              "      <th>Linear Regression</th>\n",
              "      <td>2.560533e+10</td>\n",
              "      <td>0.0883</td>\n",
              "      <td>None</td>\n",
              "    </tr>\n",
              "    <tr>\n",
              "      <th>Ridge Regression</th>\n",
              "      <td>1.267000e-01</td>\n",
              "      <td>0.0885</td>\n",
              "      <td>24489.2</td>\n",
              "    </tr>\n",
              "    <tr>\n",
              "      <th>Lasso Regression</th>\n",
              "      <td>1.136626e-01</td>\n",
              "      <td>0.1005</td>\n",
              "      <td>23018.1</td>\n",
              "    </tr>\n",
              "    <tr>\n",
              "      <th>Random forest</th>\n",
              "      <td>1.369000e-01</td>\n",
              "      <td>0.0615</td>\n",
              "      <td>28917.3</td>\n",
              "    </tr>\n",
              "    <tr>\n",
              "      <th>XGBoost</th>\n",
              "      <td>1.168736e-01</td>\n",
              "      <td>0.0340</td>\n",
              "      <td>24603.7</td>\n",
              "    </tr>\n",
              "  </tbody>\n",
              "</table>\n",
              "</div>\n",
              "      <button class=\"colab-df-convert\" onclick=\"convertToInteractive('df-fc69ecaa-d6c8-42b6-9223-8e1214c962f4')\"\n",
              "              title=\"Convert this dataframe to an interactive table.\"\n",
              "              style=\"display:none;\">\n",
              "        \n",
              "  <svg xmlns=\"http://www.w3.org/2000/svg\" height=\"24px\"viewBox=\"0 0 24 24\"\n",
              "       width=\"24px\">\n",
              "    <path d=\"M0 0h24v24H0V0z\" fill=\"none\"/>\n",
              "    <path d=\"M18.56 5.44l.94 2.06.94-2.06 2.06-.94-2.06-.94-.94-2.06-.94 2.06-2.06.94zm-11 1L8.5 8.5l.94-2.06 2.06-.94-2.06-.94L8.5 2.5l-.94 2.06-2.06.94zm10 10l.94 2.06.94-2.06 2.06-.94-2.06-.94-.94-2.06-.94 2.06-2.06.94z\"/><path d=\"M17.41 7.96l-1.37-1.37c-.4-.4-.92-.59-1.43-.59-.52 0-1.04.2-1.43.59L10.3 9.45l-7.72 7.72c-.78.78-.78 2.05 0 2.83L4 21.41c.39.39.9.59 1.41.59.51 0 1.02-.2 1.41-.59l7.78-7.78 2.81-2.81c.8-.78.8-2.07 0-2.86zM5.41 20L4 18.59l7.72-7.72 1.47 1.35L5.41 20z\"/>\n",
              "  </svg>\n",
              "      </button>\n",
              "      \n",
              "  <style>\n",
              "    .colab-df-container {\n",
              "      display:flex;\n",
              "      flex-wrap:wrap;\n",
              "      gap: 12px;\n",
              "    }\n",
              "\n",
              "    .colab-df-convert {\n",
              "      background-color: #E8F0FE;\n",
              "      border: none;\n",
              "      border-radius: 50%;\n",
              "      cursor: pointer;\n",
              "      display: none;\n",
              "      fill: #1967D2;\n",
              "      height: 32px;\n",
              "      padding: 0 0 0 0;\n",
              "      width: 32px;\n",
              "    }\n",
              "\n",
              "    .colab-df-convert:hover {\n",
              "      background-color: #E2EBFA;\n",
              "      box-shadow: 0px 1px 2px rgba(60, 64, 67, 0.3), 0px 1px 3px 1px rgba(60, 64, 67, 0.15);\n",
              "      fill: #174EA6;\n",
              "    }\n",
              "\n",
              "    [theme=dark] .colab-df-convert {\n",
              "      background-color: #3B4455;\n",
              "      fill: #D2E3FC;\n",
              "    }\n",
              "\n",
              "    [theme=dark] .colab-df-convert:hover {\n",
              "      background-color: #434B5C;\n",
              "      box-shadow: 0px 1px 3px 1px rgba(0, 0, 0, 0.15);\n",
              "      filter: drop-shadow(0px 1px 2px rgba(0, 0, 0, 0.3));\n",
              "      fill: #FFFFFF;\n",
              "    }\n",
              "  </style>\n",
              "\n",
              "      <script>\n",
              "        const buttonEl =\n",
              "          document.querySelector('#df-fc69ecaa-d6c8-42b6-9223-8e1214c962f4 button.colab-df-convert');\n",
              "        buttonEl.style.display =\n",
              "          google.colab.kernel.accessAllowed ? 'block' : 'none';\n",
              "\n",
              "        async function convertToInteractive(key) {\n",
              "          const element = document.querySelector('#df-fc69ecaa-d6c8-42b6-9223-8e1214c962f4');\n",
              "          const dataTable =\n",
              "            await google.colab.kernel.invokeFunction('convertToInteractive',\n",
              "                                                     [key], {});\n",
              "          if (!dataTable) return;\n",
              "\n",
              "          const docLinkHtml = 'Like what you see? Visit the ' +\n",
              "            '<a target=\"_blank\" href=https://colab.research.google.com/notebooks/data_table.ipynb>data table notebook</a>'\n",
              "            + ' to learn more about interactive tables.';\n",
              "          element.innerHTML = '';\n",
              "          dataTable['output_type'] = 'display_data';\n",
              "          await google.colab.output.renderOutput(dataTable, element);\n",
              "          const docLink = document.createElement('div');\n",
              "          docLink.innerHTML = docLinkHtml;\n",
              "          element.appendChild(docLink);\n",
              "        }\n",
              "      </script>\n",
              "    </div>\n",
              "  </div>\n",
              "  "
            ]
          },
          "metadata": {},
          "execution_count": 152
        }
      ]
    },
    {
      "cell_type": "code",
      "source": [
        "df_models_1 = df_models.drop(index = 'Linear Regression',inplace=True)\n",
        "df_models_2 = df_models.drop(columns='Test RMSE')"
      ],
      "metadata": {
        "id": "KHyM83I1mZUy"
      },
      "execution_count": null,
      "outputs": []
    },
    {
      "cell_type": "code",
      "source": [
        "plt.figure(figsize=(10,8))\n",
        "plt.plot(df_models_2['Test RMSE(log)'],label='Test RMSE(log)')\n",
        "plt.plot(df_models_2['Train RMSE(log)'],label='Train RMSE(log)')\n",
        "plt.legend()\n",
        "plt.grid(color='green', linestyle='-', linewidth=0.2)\n",
        "plt.xlabel('Models')\n",
        "plt.ylabel('RMSE')\n",
        "plt.show()"
      ],
      "metadata": {
        "colab": {
          "base_uri": "https://localhost:8080/",
          "height": 497
        },
        "id": "nfEFlHDKmBsC",
        "outputId": "6cebf361-f5cb-45b2-9a21-d8313e744333"
      },
      "execution_count": null,
      "outputs": [
        {
          "output_type": "display_data",
          "data": {
            "text/plain": [
              "<Figure size 720x576 with 1 Axes>"
            ],
            "image/png": "[encoded data removed]"
          },
          "metadata": {}
        }
      ]
    },
    {
      "cell_type": "code",
      "source": [
        "plt.figure(figsize=(10,8))\n",
        "plt.plot(df_models['Test RMSE'],label='Test RMSE')\n",
        "\n",
        "plt.legend()\n",
        "plt.grid(color='green', linestyle='-', linewidth=0.2)\n",
        "plt.xlabel('Models')\n",
        "plt.ylabel('Test RMSE')\n",
        "plt.show()"
      ],
      "metadata": {
        "colab": {
          "base_uri": "https://localhost:8080/",
          "height": 497
        },
        "id": "uDVJOlpynzit",
        "outputId": "e14e540f-3766-4f6b-e588-05eaa51b8a9f"
      },
      "execution_count": null,
      "outputs": [
        {
          "output_type": "display_data",
          "data": {
            "text/plain": [
              "<Figure size 720x576 with 1 Axes>"
            ],
            "image/png": "[encoded data removed]"
          },
          "metadata": {}
        }
      ]
    },
    {
      "cell_type": "code",
      "source": [
        ""
      ],
      "metadata": {
        "id": "2Nva_N-KmBex"
      },
      "execution_count": null,
      "outputs": []
    },
    {
      "cell_type": "markdown",
      "metadata": {
        "id": "2RrQIB6K5Vmn"
      },
      "source": [
        "**Predict and Export Results**"
      ]
    },
    {
      "cell_type": "markdown",
      "metadata": {
        "id": "VxoagFvo5gve"
      },
      "source": [
        "Lasso"
      ]
    },
    {
      "cell_type": "code",
      "execution_count": null,
      "metadata": {
        "id": "zyOW-bPq5evj"
      },
      "outputs": [],
      "source": [
        "#train the model on the whole dataset\n",
        "LA_R.fit(train_final, log_target)\n",
        "LA_R_pred = np.expm1(LA_R.predict(test_final))\n",
        "#export the prediction\n",
        "submission = pd.concat([test_ids, pd.Series(LA_R_pred, name='SalePrice')], axis=1)\n",
        "submission.to_csv('LA_R.csv', index=False, header=True)\n",
        "#0.13095 --> 0.12695"
      ]
    },
    {
      "cell_type": "code",
      "execution_count": null,
      "metadata": {
        "id": "6pSTBI7_7ipD"
      },
      "outputs": [],
      "source": [
        "CBG.fit(train_final, log_target)\n",
        "CBG_pred = np.expm1(CBG.predict(test_final))\n",
        "#export the prediction\n",
        "submission = pd.concat([test_ids, pd.Series(CBG_pred, name='SalePrice')], axis=1)\n",
        "submission.to_csv('CATBOOST.csv', index=False, header=True)\n",
        "#0.12474 --> 653"
      ]
    },
    {
      "cell_type": "code",
      "execution_count": null,
      "metadata": {
        "id": "tUrTcPZE8cmU",
        "colab": {
          "base_uri": "https://localhost:8080/"
        },
        "outputId": "642a57e2-72db-4467-90a8-64ae71919e59"
      },
      "outputs": [
        {
          "output_type": "stream",
          "name": "stdout",
          "text": [
            "[12:04:51] WARNING: /workspace/src/objective/regression_obj.cu:152: reg:linear is now deprecated in favor of reg:squarederror.\n"
          ]
        }
      ],
      "source": [
        "XBG.fit(train_final, log_target)\n",
        "XBG_pred = np.expm1(XBG.predict(test_final))\n",
        "#export the prediction\n",
        "submission = pd.concat([test_ids, pd.Series(XBG_pred, name='SalePrice')], axis=1)\n",
        "submission.to_csv('XGBOOST.csv', index=False, header=True)\n",
        "#0.13895"
      ]
    },
    {
      "cell_type": "code",
      "execution_count": null,
      "metadata": {
        "id": "8E-g-yoT90Vc"
      },
      "outputs": [],
      "source": [
        "#Ensemble different models\n",
        "Ensemble_pred = (\n",
        "    0.4 * CBG_pred +\n",
        "    0.2 * XBG_pred +\n",
        "    0.4 * LA_R_pred\n",
        ")\n",
        "submission = pd.concat([test_ids, pd.Series(Ensemble_pred, name='SalePrice')], axis=1)\n",
        "submission.to_csv('Ensemble.csv', index=False, header=True)\n",
        "#0.12324 --> 516"
      ]
    }
  ],
  "metadata": {
    "colab": {
      "collapsed_sections": [],
      "name": "HousePricePrediction.ipynb",
      "provenance": []
    },
    "kernelspec": {
      "display_name": "Python 3",
      "name": "python3"
    },
    "language_info": {
      "name": "python"
    }
  },
  "nbformat": 4,
  "nbformat_minor": 0
}